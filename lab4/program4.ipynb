{
 "cells": [
  {
   "cell_type": "markdown",
   "metadata": {},
   "source": [
    "### CS102/CS103\n",
    "\n",
    "Prof. Götz Pfeiffer<br />\n",
    "School of Mathematics, Statistics and Applied Mathematics<br />\n",
    "NUI Galway\n",
    "\n",
    "# Computer Lab 4"
   ]
  },
  {
   "cell_type": "markdown",
   "metadata": {},
   "source": [
    "##  Programming Exercises\n",
    "\n",
    "In this part of the practical you will write some simple `python` functions.\n",
    "\n",
    "In each function definition, the **first line of\n",
    "the function body** should be **a string that briefly explains the\n",
    "purpose** of that function.\n",
    "\n",
    "Some of these are **function versions** of the **minimal IPO** programs from\n",
    "Lab 2.  In each such case it takes again **exactly 4 lines of code** to \n",
    "write such a function:\n",
    "\n",
    "1. (I) the **function definition heading** which declares the **input** variable(s)\n",
    "as parameter(s).\n",
    "\n",
    "2. A **string** that briefly explains the\n",
    "purpose of this function.\n",
    "\n",
    "3. (P) A **statement** that assigns the value of a expression involving the input\n",
    "variable to an output variable.\n",
    "\n",
    "4. (O) A **return statement** involving the output variable.\n",
    "\n",
    "Here is the function version of the temperature converter in  this format:"
   ]
  },
  {
   "cell_type": "code",
   "execution_count": null,
   "metadata": {
    "collapsed": true
   },
   "outputs": [],
   "source": [
    "def f2c(fahrenheit):\n",
    "    \"this function converts Fahrenheit into Celsius\"\n",
    "    celsius = (fahrenheit - 32) * 5 / 9\n",
    "    return celsius"
   ]
  },
  {
   "cell_type": "markdown",
   "metadata": {},
   "source": [
    "We already know that 77 degress Fahrenheit correspond to 25 degrees Celsius.  The function\n",
    "`f2c()` hopefully confirms this:"
   ]
  },
  {
   "cell_type": "code",
   "execution_count": null,
   "metadata": {},
   "outputs": [],
   "source": [
    "f2c(77)"
   ]
  },
  {
   "cell_type": "markdown",
   "metadata": {
    "deletable": false,
    "editable": false,
    "nbgrader": {
     "checksum": "d5ebda61a3c3d6b2c79bd25cd66ae437",
     "grade": false,
     "grade_id": "cell-af0fec2d5190f4db",
     "locked": true,
     "schema_version": 1,
     "solution": false
    }
   },
   "source": [
    "In some of the exercises, a **partial answer** together with the text\n",
    "```\n",
    "# YOUR CODE HERE\n",
    "raise NotImplementedError()\n",
    "```\n",
    "is already given in the answer cell.  **Delete** those two lines\n",
    "and replace them with your own code to complete the answer."
   ]
  },
  {
   "cell_type": "markdown",
   "metadata": {
    "deletable": false,
    "editable": false,
    "nbgrader": {
     "checksum": "87e6ae789136fb1724d180a4f5130e75",
     "grade": false,
     "grade_id": "cell-6e92c13ddedb5c0f",
     "locked": true,
     "schema_version": 1,
     "solution": false
    }
   },
   "source": [
    "* Write a `python` function `c2f()` that converts Celsius into Fahrenheit"
   ]
  },
  {
   "cell_type": "code",
   "execution_count": null,
   "metadata": {
    "collapsed": true,
    "deletable": false,
    "nbgrader": {
     "checksum": "300e248478bc7874c81854a7830e5160",
     "grade": false,
     "grade_id": "cell-2faf0e81992f1428",
     "locked": false,
     "schema_version": 1,
     "solution": true
    }
   },
   "outputs": [],
   "source": [
    "def c2f(celsius):\n",
    "    \"Convert Celsius into Fahrenheit\"\n",
    "    # YOUR CODE HERE\n",
    "    raise NotImplementedError()"
   ]
  },
  {
   "cell_type": "markdown",
   "metadata": {},
   "source": [
    "25 degrees Celsius correspond to 77 degrees Fahrenheit.  Verify that this is what your function\n",
    "computes."
   ]
  },
  {
   "cell_type": "code",
   "execution_count": null,
   "metadata": {},
   "outputs": [],
   "source": [
    "c2f(25)"
   ]
  },
  {
   "cell_type": "code",
   "execution_count": null,
   "metadata": {
    "collapsed": true,
    "deletable": false,
    "editable": false,
    "nbgrader": {
     "checksum": "73f2ab6ed7652fd2416b1c16cd9be2e6",
     "grade": true,
     "grade_id": "cell-bdadbd52df619895",
     "locked": true,
     "points": 2,
     "schema_version": 1,
     "solution": false
    }
   },
   "outputs": [],
   "source": [
    "\"\"\"Check that c2f returns the correct answer for various inputs\"\"\"\n",
    "assert c2f(20.0) == 68.0\n",
    "assert c2f(25.0) == 77.0\n",
    "assert c2f(30.0) == 86.0\n",
    "assert c2f(35.0) == 95.0\n",
    "\n",
    "\"\"\"Check that the function has a docstring\"\"\"\n",
    "assert c2f.__doc__ != None"
   ]
  },
  {
   "cell_type": "markdown",
   "metadata": {
    "deletable": false,
    "editable": false,
    "nbgrader": {
     "checksum": "6a3be0674397b02fc0a3048edeed0bdc",
     "grade": false,
     "grade_id": "cell-5ffb1d9b6473834b",
     "locked": true,
     "schema_version": 1,
     "solution": false
    }
   },
   "source": [
    "* Write a `python` function `miles2km()` that converts distances measured in miles into kilometres.\n",
    "(Hint: [wikipedia](http://en.wikipedia.org/wiki/Mile))"
   ]
  },
  {
   "cell_type": "code",
   "execution_count": null,
   "metadata": {
    "collapsed": true,
    "deletable": false,
    "nbgrader": {
     "checksum": "19336800187008b990f6d08016378792",
     "grade": false,
     "grade_id": "cell-c37f938615d68179",
     "locked": false,
     "schema_version": 1,
     "solution": true
    }
   },
   "outputs": [],
   "source": [
    "def miles2km(miles):\n",
    "    # YOUR CODE HERE\n",
    "    raise NotImplementedError()"
   ]
  },
  {
   "cell_type": "markdown",
   "metadata": {},
   "source": [
    "10 miles are 16.09344 miles. Verify that this is what your function computes."
   ]
  },
  {
   "cell_type": "code",
   "execution_count": null,
   "metadata": {},
   "outputs": [],
   "source": [
    "miles2km(10)"
   ]
  },
  {
   "cell_type": "code",
   "execution_count": null,
   "metadata": {
    "collapsed": true,
    "deletable": false,
    "editable": false,
    "nbgrader": {
     "checksum": "14bcd1634a2a0387711d01225590f167",
     "grade": true,
     "grade_id": "cell-d5d709fd1e9a01c8",
     "locked": true,
     "points": 2,
     "schema_version": 1,
     "solution": false
    }
   },
   "outputs": [],
   "source": [
    "\"\"\"Check that miles2km returns the correct answer for various inputs\"\"\"\n",
    "assert miles2km(0.1) - 0.1609344 < 0.01\n",
    "assert miles2km(1) - 1.609344 < 0.1\n",
    "assert miles2km(10) - 16.09344 < 1\n",
    "\n",
    "\"\"\"Check that the function has a docstring\"\"\"\n",
    "assert miles2km.__doc__ != None"
   ]
  },
  {
   "cell_type": "markdown",
   "metadata": {
    "deletable": false,
    "editable": false,
    "nbgrader": {
     "checksum": "76443c4f5d4879bf289e159f0df948b7",
     "grade": false,
     "grade_id": "cell-8ead0fd4c61a631c",
     "locked": true,
     "schema_version": 1,
     "solution": false
    }
   },
   "source": [
    "* Write a `python` function `mpg2lp100km()` that converts miles per gallon into litres per 100 kilometres."
   ]
  },
  {
   "cell_type": "code",
   "execution_count": null,
   "metadata": {
    "collapsed": true,
    "deletable": false,
    "nbgrader": {
     "checksum": "3e2c9f806807462ea8e8df4308edaee1",
     "grade": false,
     "grade_id": "cell-a56b982564774536",
     "locked": false,
     "schema_version": 1,
     "solution": true
    }
   },
   "outputs": [],
   "source": [
    "def mpg2lp100km(mpg):\n",
    "    # YOUR CODE HERE\n",
    "    raise NotImplementedError()"
   ]
  },
  {
   "cell_type": "markdown",
   "metadata": {},
   "source": [
    "35 miles per gallon are roughly 8.1 litres per 100 km. Verify that this is what your function computes."
   ]
  },
  {
   "cell_type": "code",
   "execution_count": null,
   "metadata": {},
   "outputs": [],
   "source": [
    "mpg2lp100km(40)"
   ]
  },
  {
   "cell_type": "code",
   "execution_count": null,
   "metadata": {
    "collapsed": true,
    "deletable": false,
    "editable": false,
    "nbgrader": {
     "checksum": "3a67c35c9c65f373856e4871a5e8ec26",
     "grade": true,
     "grade_id": "cell-dbcc2bc08814bd56",
     "locked": true,
     "points": 2,
     "schema_version": 1,
     "solution": false
    }
   },
   "outputs": [],
   "source": [
    "\"\"\"Check that mpg2lp100km returns the correct answer for various inputs\"\"\"\n",
    "assert mpg2lp100km(40) - 7.1 < 0.1\n",
    "assert mpg2lp100km(35) - 8.1 < 0.1\n",
    "assert mpg2lp100km(30) - 9.4 < 0.1\n",
    "\n",
    "\"\"\"Check that the function has a docstring\"\"\"\n",
    "assert mpg2lp100km.__doc__ != None"
   ]
  },
  {
   "cell_type": "markdown",
   "metadata": {
    "deletable": false,
    "editable": false,
    "nbgrader": {
     "checksum": "c96a023fee6d50af8d937e8f4cb760dc",
     "grade": false,
     "grade_id": "cell-358a158c27b731db",
     "locked": true,
     "schema_version": 1,
     "solution": false
    }
   },
   "source": [
    "* Write a `python` function `imperial2metric()` that converts a length measured in feet and inches\n",
    "into centimetres. (Hint. [wikipedia](http://en.wikipedia.org/wiki/Imperial_units))"
   ]
  },
  {
   "cell_type": "code",
   "execution_count": null,
   "metadata": {
    "collapsed": true,
    "deletable": false,
    "nbgrader": {
     "checksum": "ddeb23a58b465bae8580b6a1f57d8a9a",
     "grade": false,
     "grade_id": "cell-53ff98b39f8cecd8",
     "locked": false,
     "schema_version": 1,
     "solution": true
    }
   },
   "outputs": [],
   "source": [
    "def imperial2metric(feet, inches):\n",
    "    # YOUR CODE HERE\n",
    "    raise NotImplementedError()"
   ]
  },
  {
   "cell_type": "markdown",
   "metadata": {},
   "source": [
    "8 feet and 4 inches are 254cm. Verify that this is what your function computes."
   ]
  },
  {
   "cell_type": "code",
   "execution_count": null,
   "metadata": {},
   "outputs": [],
   "source": [
    "imperial2metric(8, 4)"
   ]
  },
  {
   "cell_type": "code",
   "execution_count": null,
   "metadata": {
    "deletable": false,
    "editable": false,
    "nbgrader": {
     "checksum": "c02d14262738203c7e217d69f67b7579",
     "grade": true,
     "grade_id": "cell-7d44f366728e3a5c",
     "locked": true,
     "points": 2,
     "schema_version": 1,
     "solution": false
    }
   },
   "outputs": [],
   "source": [
    "\"\"\"Check that imperial2metric returns the correct answer for various inputs\"\"\"\n",
    "assert imperial2metric(1, 0) == 12 * 2.54\n",
    "assert imperial2metric(0, 1) == 2.54\n",
    "assert imperial2metric(8, 4) == 254.0\n",
    "\n",
    "\"\"\"Check that the function has a docstring\"\"\"\n",
    "assert imperial2metric.__doc__ != None"
   ]
  },
  {
   "cell_type": "markdown",
   "metadata": {},
   "source": [
    "The remaining functions to write might require the use of decision statements, and could\n",
    "therefore be longer than just 4 lines of code."
   ]
  },
  {
   "cell_type": "markdown",
   "metadata": {
    "deletable": false,
    "editable": false,
    "nbgrader": {
     "checksum": "0f5f3b2fa6fcd4ab8aeda659b61990c8",
     "grade": false,
     "grade_id": "cell-b998b2a0fab8f05a",
     "locked": true,
     "schema_version": 1,
     "solution": false
    }
   },
   "source": [
    "* A 5-point quiz is graded on the scale 5:A, 4:B, 3:C, 2:D, 0 or 1:F.  Write a `python` function\n",
    "`grade5()` that converts a quiz score into the corresponding grade."
   ]
  },
  {
   "cell_type": "code",
   "execution_count": null,
   "metadata": {
    "collapsed": true,
    "deletable": false,
    "nbgrader": {
     "checksum": "8057afedd64338b06c6bc74f63859b53",
     "grade": false,
     "grade_id": "cell-d6b057dfff8fb869",
     "locked": false,
     "schema_version": 1,
     "solution": true
    }
   },
   "outputs": [],
   "source": [
    "def grade5(score):\n",
    "    # YOUR CODE HERE\n",
    "    raise NotImplementedError()"
   ]
  },
  {
   "cell_type": "markdown",
   "metadata": {},
   "source": [
    "So a score of 3 should give a grade `C`. Verify that this is what your function computes."
   ]
  },
  {
   "cell_type": "code",
   "execution_count": null,
   "metadata": {},
   "outputs": [],
   "source": [
    "grade5(3)"
   ]
  },
  {
   "cell_type": "code",
   "execution_count": null,
   "metadata": {
    "collapsed": true,
    "deletable": false,
    "editable": false,
    "nbgrader": {
     "checksum": "b8f548a3f5ad302643ba95b8b141f20a",
     "grade": true,
     "grade_id": "cell-a739020f655c7dab",
     "locked": true,
     "points": 2,
     "schema_version": 1,
     "solution": false
    }
   },
   "outputs": [],
   "source": [
    "\"\"\"Check that grade5 returns the correct answer for various inputs\"\"\"\n",
    "assert grade5(0) == 'F'\n",
    "assert grade5(1) == 'F'\n",
    "assert grade5(2) == 'D'\n",
    "assert grade5(3) == 'C'\n",
    "assert grade5(4) == 'B'\n",
    "assert grade5(5) == 'A'\n",
    "\n",
    "\"\"\"Check that the function has a docstring\"\"\"\n",
    "assert grade5.__doc__ != None"
   ]
  },
  {
   "cell_type": "markdown",
   "metadata": {
    "deletable": false,
    "editable": false,
    "nbgrader": {
     "checksum": "9b89c464c032c666902c7817337d3d47",
     "grade": false,
     "grade_id": "cell-4f4ea196756d26f3",
     "locked": true,
     "schema_version": 1,
     "solution": false
    }
   },
   "source": [
    "A 100-point exam is graded on the scale 90-100:A, 80-89:B, 70-79:C, 60-69:D, 50-59:E, less than 50:F.  Write a `python` function `grade100()` that converts an exam score into the corresponding grade."
   ]
  },
  {
   "cell_type": "code",
   "execution_count": null,
   "metadata": {
    "collapsed": true,
    "deletable": false,
    "nbgrader": {
     "checksum": "d7b1f7114ccdfeda584195708e5fe571",
     "grade": false,
     "grade_id": "cell-17f0e1b0f6748a54",
     "locked": false,
     "schema_version": 1,
     "solution": true
    }
   },
   "outputs": [],
   "source": [
    "def grade100(score):\n",
    "    # YOUR CODE HERE\n",
    "    raise NotImplementedError()"
   ]
  },
  {
   "cell_type": "markdown",
   "metadata": {},
   "source": [
    "So a score of 65 should yield a grade of `D`. Verify that this is what your function computes."
   ]
  },
  {
   "cell_type": "code",
   "execution_count": null,
   "metadata": {},
   "outputs": [],
   "source": [
    "grade100(65)"
   ]
  },
  {
   "cell_type": "code",
   "execution_count": null,
   "metadata": {
    "collapsed": true,
    "deletable": false,
    "editable": false,
    "nbgrader": {
     "checksum": "34c0847b057e0e50fda622d46ce2b6cb",
     "grade": true,
     "grade_id": "cell-a2f431f9a5dc0e1d",
     "locked": true,
     "points": 2,
     "schema_version": 1,
     "solution": false
    }
   },
   "outputs": [],
   "source": [
    "\"\"\"Check that grade100 returns the correct answer for various inputs\"\"\"\n",
    "assert grade100(0) == 'F'\n",
    "assert grade100(10) == 'F'\n",
    "assert grade100(49) == 'F'\n",
    "assert grade100(50) == 'E'\n",
    "assert grade100(51) == 'E'\n",
    "assert grade100(59) == 'E'\n",
    "assert grade100(60) == 'D'\n",
    "assert grade100(70) == 'C'\n",
    "assert grade100(80) == 'B'\n",
    "assert grade100(90) == 'A'\n",
    "assert grade100(100) == 'A'\n",
    "\n",
    "\"\"\"Check that the function has a docstring\"\"\"\n",
    "assert grade100.__doc__ != None"
   ]
  },
  {
   "cell_type": "code",
   "execution_count": null,
   "metadata": {
    "collapsed": true
   },
   "outputs": [],
   "source": []
  }
 ],
 "metadata": {
  "kernelspec": {
   "display_name": "Python 3",
   "language": "python",
   "name": "python3"
  },
  "language_info": {
   "codemirror_mode": {
    "name": "ipython",
    "version": 3
   },
   "file_extension": ".py",
   "mimetype": "text/x-python",
   "name": "python",
   "nbconvert_exporter": "python",
   "pygments_lexer": "ipython3",
   "version": "3.6.1"
  }
 },
 "nbformat": 4,
 "nbformat_minor": 2
}
