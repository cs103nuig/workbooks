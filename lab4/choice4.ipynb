{
 "cells": [
  {
   "cell_type": "markdown",
   "metadata": {},
   "source": [
    "### CS102/CS103\n",
    "\n",
    "Prof. Götz Pfeiffer<br />\n",
    "School of Mathematics, Statistics and Applied Mathematics<br />\n",
    "NUI Galway\n",
    "\n",
    "# Computer Lab 4"
   ]
  },
  {
   "cell_type": "markdown",
   "metadata": {
    "deletable": false,
    "editable": false,
    "nbgrader": {
     "checksum": "6f91fe10d18f86af9fad831368b754e9",
     "grade": false,
     "grade_id": "cell-a7e99a98ffef4516",
     "locked": true,
     "schema_version": 1,
     "solution": false
    }
   },
   "source": [
    "## Multiple Choice\n",
    "\n",
    "For each of the following questions, choose `'a'`, `'b'`, `'c'`, or `'d'` as answer\n",
    "and type it into the cell below (with quotes)."
   ]
  },
  {
   "cell_type": "markdown",
   "metadata": {
    "deletable": false,
    "editable": false,
    "nbgrader": {
     "checksum": "28a029b3937ad65e3bbce04ad39b7f3c",
     "grade": false,
     "grade_id": "cell-d94f7303ac5adeb3",
     "locked": true,
     "schema_version": 1,
     "solution": false
    }
   },
   "source": [
    "* A statement that controls the execution of other statements is called \n",
    "\n",
    "(a) a boss structure<br />\n",
    "(b) a super structure<br />\n",
    "(c) a control structure<br />\n",
    "(d) a branch<br />"
   ]
  },
  {
   "cell_type": "code",
   "execution_count": null,
   "metadata": {
    "deletable": false,
    "nbgrader": {
     "checksum": "13bb4ec6868277e8fb2f5f77622fd7ae",
     "grade": false,
     "grade_id": "cell-1c2493ecb68b6f6a",
     "locked": false,
     "schema_version": 1,
     "solution": true
    }
   },
   "outputs": [],
   "source": [
    "# YOUR CODE HERE\n",
    "raise NotImplementedError()"
   ]
  },
  {
   "cell_type": "markdown",
   "metadata": {},
   "source": [
    "(You can use the cell below to ensure that your answer above has the correct format. You can and should not modify the content of that cell.)"
   ]
  },
  {
   "cell_type": "code",
   "execution_count": null,
   "metadata": {
    "collapsed": true,
    "deletable": false,
    "editable": false,
    "nbgrader": {
     "checksum": "cb56b853108f44fc1a832f9ecc933aa7",
     "grade": true,
     "grade_id": "cell-a85f9f679f608e18",
     "locked": true,
     "points": 1,
     "schema_version": 1,
     "solution": false
    }
   },
   "outputs": [],
   "source": [
    "_answer = _\n",
    "assert(type(_answer) == str)"
   ]
  },
  {
   "cell_type": "markdown",
   "metadata": {
    "deletable": false,
    "editable": false,
    "nbgrader": {
     "checksum": "7cc493c673d464bd97de0ecf7fb1dff1",
     "grade": false,
     "grade_id": "cell-262c77542e76a0dc",
     "locked": true,
     "schema_version": 1,
     "solution": false
    }
   },
   "source": [
    "* An expression that evaluates to either true or false is called\n",
    "\n",
    "(a) operational<br />\n",
    "(b) boolean<br />\n",
    "(c) simple<br />\n",
    "(d) compound<br />"
   ]
  },
  {
   "cell_type": "code",
   "execution_count": null,
   "metadata": {
    "deletable": false,
    "nbgrader": {
     "checksum": "dcde624b6c9f414beb3caf5f5c3198d3",
     "grade": false,
     "grade_id": "cell-f8f7aca93325b6ba",
     "locked": false,
     "schema_version": 1,
     "solution": true
    }
   },
   "outputs": [],
   "source": [
    "# YOUR CODE HERE\n",
    "raise NotImplementedError()"
   ]
  },
  {
   "cell_type": "markdown",
   "metadata": {},
   "source": [
    "(You can use the cell below to ensure that your answer above has the correct format. You can and should not modify the content of that cell.)"
   ]
  },
  {
   "cell_type": "code",
   "execution_count": null,
   "metadata": {
    "collapsed": true,
    "deletable": false,
    "editable": false,
    "nbgrader": {
     "checksum": "cad5a6475c84f9e253de52dd0855a4d5",
     "grade": true,
     "grade_id": "cell-3823d12c646af2c9",
     "locked": true,
     "points": 1,
     "schema_version": 1,
     "solution": false
    }
   },
   "outputs": [],
   "source": [
    "_answer = _\n",
    "assert(type(_answer) == str)"
   ]
  },
  {
   "cell_type": "markdown",
   "metadata": {
    "deletable": false,
    "editable": false,
    "nbgrader": {
     "checksum": "a13743a2a77d36049f905e82c18dc4ff",
     "grade": false,
     "grade_id": "cell-7320f90e59e3721c",
     "locked": true,
     "schema_version": 1,
     "solution": false
    }
   },
   "source": [
    "* The literals for type `bool` in `python` are\n",
    "\n",
    "(a) `T`, `F`<br />\n",
    "(b) `True`, `False`<br />\n",
    "(c) `true`, `false`<br />\n",
    "(d) `0`, `1`<br />"
   ]
  },
  {
   "cell_type": "code",
   "execution_count": null,
   "metadata": {
    "deletable": false,
    "nbgrader": {
     "checksum": "8e23c487e59e9adf6c5073d1f4c90d64",
     "grade": false,
     "grade_id": "cell-6600d187f575a0a7",
     "locked": false,
     "schema_version": 1,
     "solution": true
    }
   },
   "outputs": [],
   "source": [
    "# YOUR CODE HERE\n",
    "raise NotImplementedError()"
   ]
  },
  {
   "cell_type": "markdown",
   "metadata": {},
   "source": [
    "(You can use the cell below to ensure that your answer above has the correct format. You can and should not modify the content of that cell.)"
   ]
  },
  {
   "cell_type": "code",
   "execution_count": null,
   "metadata": {
    "collapsed": true,
    "deletable": false,
    "editable": false,
    "nbgrader": {
     "checksum": "c0ca6a8573f8a63659475993fd04a945",
     "grade": true,
     "grade_id": "cell-ba81c8839785e64a",
     "locked": true,
     "points": 1,
     "schema_version": 1,
     "solution": false
    }
   },
   "outputs": [],
   "source": [
    "_answer = _\n",
    "assert(type(_answer) == str)"
   ]
  },
  {
   "cell_type": "markdown",
   "metadata": {
    "deletable": false,
    "editable": false,
    "nbgrader": {
     "checksum": "b2bc4561b0b3ca4f214e9277dd366f00",
     "grade": false,
     "grade_id": "cell-bab4941d78dbda09",
     "locked": true,
     "schema_version": 1,
     "solution": false
    }
   },
   "source": [
    "* In `python` the body of a decision statement is indicated by\n",
    "\n",
    "(a) indentation<br />\n",
    "(b) parentheses<br />\n",
    "(c) curly braces<br />\n",
    "(d) a colon<br />"
   ]
  },
  {
   "cell_type": "code",
   "execution_count": null,
   "metadata": {
    "deletable": false,
    "nbgrader": {
     "checksum": "58b533d6a8b59e322996772146b4a4e7",
     "grade": false,
     "grade_id": "cell-38e13b7d0801e81e",
     "locked": false,
     "schema_version": 1,
     "solution": true
    }
   },
   "outputs": [],
   "source": [
    "# YOUR CODE HERE\n",
    "raise NotImplementedError()"
   ]
  },
  {
   "cell_type": "markdown",
   "metadata": {},
   "source": [
    "(You can use the cell below to ensure that your answer above has the correct format. You can and should not modify the content of that cell.)"
   ]
  },
  {
   "cell_type": "code",
   "execution_count": null,
   "metadata": {
    "collapsed": true,
    "deletable": false,
    "editable": false,
    "nbgrader": {
     "checksum": "7197695f25cecd7ead60300ce1fd10f3",
     "grade": true,
     "grade_id": "cell-c53189a79941a3f8",
     "locked": true,
     "points": 1,
     "schema_version": 1,
     "solution": false
    }
   },
   "outputs": [],
   "source": [
    "_answer = _\n",
    "assert(type(_answer) == str)"
   ]
  },
  {
   "cell_type": "code",
   "execution_count": null,
   "metadata": {
    "collapsed": true
   },
   "outputs": [],
   "source": []
  }
 ],
 "metadata": {
  "kernelspec": {
   "display_name": "Python 3",
   "language": "python",
   "name": "python3"
  },
  "language_info": {
   "codemirror_mode": {
    "name": "ipython",
    "version": 3
   },
   "file_extension": ".py",
   "mimetype": "text/x-python",
   "name": "python",
   "nbconvert_exporter": "python",
   "pygments_lexer": "ipython3",
   "version": "3.6.1"
  }
 },
 "nbformat": 4,
 "nbformat_minor": 2
}
