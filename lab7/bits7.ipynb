{
 "cells": [
  {
   "cell_type": "markdown",
   "metadata": {},
   "source": [
    "### CS102/CS103\n",
    "\n",
    "Prof. Götz Pfeiffer<br />\n",
    "School of Mathematics, Statistics and Applied Mathematics<br />\n",
    "NUI Galway\n",
    "\n",
    "# Computer Lab 7"
   ]
  },
  {
   "cell_type": "markdown",
   "metadata": {
    "collapsed": true,
    "deletable": false,
    "editable": false,
    "nbgrader": {
     "checksum": "08e8350075f95a2762350e319c5683ce",
     "grade": false,
     "grade_id": "cell-1fa79f7213cfaf62",
     "locked": true,
     "schema_version": 1,
     "solution": false
    }
   },
   "source": [
    "## True or False\n",
    "\n",
    "Each of the following statements is either true or false.\n",
    "Delete the current content of the cell below the statement.\n",
    "Then type in your answer as either `True` or `False`\n",
    "(with a capital `T` or `F`)."
   ]
  },
  {
   "cell_type": "markdown",
   "metadata": {
    "deletable": false,
    "editable": false,
    "nbgrader": {
     "checksum": "f40a84653afbfbb15cfb155c78f06a72",
     "grade": false,
     "grade_id": "cell-5a4dbca9b7c496e0",
     "locked": true,
     "schema_version": 1,
     "solution": false
    }
   },
   "source": [
    "* The process of associating a file with an object in a program is called\n",
    "\"reading\" the file."
   ]
  },
  {
   "cell_type": "code",
   "execution_count": null,
   "metadata": {
    "deletable": false,
    "nbgrader": {
     "checksum": "bb459218c873fd7b6d9ae8b47245d667",
     "grade": false,
     "grade_id": "cell-4c443cd071198743",
     "locked": false,
     "schema_version": 1,
     "solution": true
    }
   },
   "outputs": [],
   "source": [
    "# YOUR CODE HERE\n",
    "raise NotImplementedError()"
   ]
  },
  {
   "cell_type": "markdown",
   "metadata": {},
   "source": [
    "(You can use the cell below to ensure that your answer above has the correct format. You can and should not\n",
    "modify the content of that cell.)"
   ]
  },
  {
   "cell_type": "code",
   "execution_count": null,
   "metadata": {
    "collapsed": true,
    "deletable": false,
    "editable": false,
    "nbgrader": {
     "checksum": "0201a0a4465a6710f8aef3316045332e",
     "grade": true,
     "grade_id": "cell-5807e01d05fd2070",
     "locked": true,
     "points": 1,
     "schema_version": 1,
     "solution": false
    }
   },
   "outputs": [],
   "source": [
    "_answer = _\n",
    "assert(type(_answer) == bool)"
   ]
  },
  {
   "cell_type": "markdown",
   "metadata": {
    "deletable": false,
    "editable": false,
    "nbgrader": {
     "checksum": "e709c85f2244b756b4005ed88019475a",
     "grade": false,
     "grade_id": "cell-3b927868b1d09070",
     "locked": true,
     "schema_version": 1,
     "solution": false
    }
   },
   "source": [
    "* Programmers rarely define their own functions."
   ]
  },
  {
   "cell_type": "code",
   "execution_count": null,
   "metadata": {
    "deletable": false,
    "nbgrader": {
     "checksum": "2d69bca983e2b0df3afdfb7fddfbc3de",
     "grade": false,
     "grade_id": "cell-0145d174c3a0cbfd",
     "locked": false,
     "schema_version": 1,
     "solution": true
    }
   },
   "outputs": [],
   "source": [
    "# YOUR CODE HERE\n",
    "raise NotImplementedError()"
   ]
  },
  {
   "cell_type": "markdown",
   "metadata": {},
   "source": [
    "(You can use the cell below to ensure that your answer above has the correct format. You can and should not\n",
    "modify the content of that cell.)"
   ]
  },
  {
   "cell_type": "code",
   "execution_count": null,
   "metadata": {
    "collapsed": true,
    "deletable": false,
    "editable": false,
    "nbgrader": {
     "checksum": "71206624f2df444542de29ce77dcc53e",
     "grade": true,
     "grade_id": "cell-b22a1fdede245744",
     "locked": true,
     "points": 1,
     "schema_version": 1,
     "solution": false
    }
   },
   "outputs": [],
   "source": [
    "_answer = _\n",
    "assert(type(_answer) == bool)"
   ]
  },
  {
   "cell_type": "markdown",
   "metadata": {
    "deletable": false,
    "editable": false,
    "nbgrader": {
     "checksum": "bc2ebb897b5b7208b674792ddd2c558c",
     "grade": false,
     "grade_id": "cell-378ab8a09c18fa10",
     "locked": true,
     "schema_version": 1,
     "solution": false
    }
   },
   "source": [
    "* A function may only be called once in a program."
   ]
  },
  {
   "cell_type": "code",
   "execution_count": null,
   "metadata": {
    "deletable": false,
    "nbgrader": {
     "checksum": "951ea7966cfd379386995d0c6a0ef4af",
     "grade": false,
     "grade_id": "cell-e0df4636fd6a7636",
     "locked": false,
     "schema_version": 1,
     "solution": true
    }
   },
   "outputs": [],
   "source": [
    "# YOUR CODE HERE\n",
    "raise NotImplementedError()"
   ]
  },
  {
   "cell_type": "markdown",
   "metadata": {},
   "source": [
    "(You can use the cell below to ensure that your answer above has the correct format. You can and should not\n",
    "modify the content of that cell.)"
   ]
  },
  {
   "cell_type": "code",
   "execution_count": null,
   "metadata": {
    "collapsed": true,
    "deletable": false,
    "editable": false,
    "nbgrader": {
     "checksum": "32be536a44568c86d2cbc43e43f67a5b",
     "grade": true,
     "grade_id": "cell-6a355d9bdedee598",
     "locked": true,
     "points": 1,
     "schema_version": 1,
     "solution": false
    }
   },
   "outputs": [],
   "source": [
    "_answer = _\n",
    "assert(type(_answer) == bool)"
   ]
  },
  {
   "cell_type": "markdown",
   "metadata": {
    "deletable": false,
    "editable": false,
    "nbgrader": {
     "checksum": "2ce7db3426319d1da222715c351488f3",
     "grade": false,
     "grade_id": "cell-b054094abc517d09",
     "locked": true,
     "schema_version": 1,
     "solution": false
    }
   },
   "source": [
    "* Information can be passed into a function through parameters."
   ]
  },
  {
   "cell_type": "code",
   "execution_count": null,
   "metadata": {
    "deletable": false,
    "nbgrader": {
     "checksum": "8572949b611390513c1bdab1023d025e",
     "grade": false,
     "grade_id": "cell-4f889c6da1615b47",
     "locked": false,
     "schema_version": 1,
     "solution": true
    }
   },
   "outputs": [],
   "source": [
    "# YOUR CODE HERE\n",
    "raise NotImplementedError()"
   ]
  },
  {
   "cell_type": "markdown",
   "metadata": {},
   "source": [
    "(You can use the cell below to ensure that your answer above has the correct format. You can and should not\n",
    "modify the content of that cell.)"
   ]
  },
  {
   "cell_type": "code",
   "execution_count": null,
   "metadata": {
    "collapsed": true,
    "deletable": false,
    "editable": false,
    "nbgrader": {
     "checksum": "7e3f56c71ec865b821b401a2c827d60c",
     "grade": true,
     "grade_id": "cell-fa36a89cba9b8d1b",
     "locked": true,
     "points": 1,
     "schema_version": 1,
     "solution": false
    }
   },
   "outputs": [],
   "source": [
    "_answer = _\n",
    "assert(type(_answer) == bool)"
   ]
  },
  {
   "cell_type": "markdown",
   "metadata": {
    "deletable": false,
    "editable": false,
    "nbgrader": {
     "checksum": "36951f0a17a453bc00909a924b5ac185",
     "grade": false,
     "grade_id": "cell-7d65fca40abc7327",
     "locked": true,
     "schema_version": 1,
     "solution": false
    }
   },
   "source": [
    "* Every function in `python` returns some value."
   ]
  },
  {
   "cell_type": "code",
   "execution_count": null,
   "metadata": {
    "deletable": false,
    "nbgrader": {
     "checksum": "ea712cd0736bb5afd79da8c2e62003d9",
     "grade": false,
     "grade_id": "cell-fe1d02ac243eb1f4",
     "locked": false,
     "schema_version": 1,
     "solution": true
    }
   },
   "outputs": [],
   "source": [
    "# YOUR CODE HERE\n",
    "raise NotImplementedError()"
   ]
  },
  {
   "cell_type": "markdown",
   "metadata": {},
   "source": [
    "(You can use the cell below to ensure that your answer above has the correct format. You can and should not\n",
    "modify the content of that cell.)"
   ]
  },
  {
   "cell_type": "code",
   "execution_count": null,
   "metadata": {
    "collapsed": true,
    "deletable": false,
    "editable": false,
    "nbgrader": {
     "checksum": "c03d46ea6641b7bb3594f0c299db0553",
     "grade": true,
     "grade_id": "cell-2bdb1634a9f5eb86",
     "locked": true,
     "points": 1,
     "schema_version": 1,
     "solution": false
    }
   },
   "outputs": [],
   "source": [
    "_answer = _\n",
    "assert(type(_answer) == bool)"
   ]
  },
  {
   "cell_type": "markdown",
   "metadata": {
    "deletable": false,
    "editable": false,
    "nbgrader": {
     "checksum": "4f688493c3dfcdbcac9d29af2e664f00",
     "grade": false,
     "grade_id": "cell-564b53dfe7e8d004",
     "locked": true,
     "schema_version": 1,
     "solution": false
    }
   },
   "source": [
    "* `python` functions can never modify a parameter."
   ]
  },
  {
   "cell_type": "code",
   "execution_count": null,
   "metadata": {
    "deletable": false,
    "nbgrader": {
     "checksum": "fc551746a88a13f4d1ca8dbf9f4df0f6",
     "grade": false,
     "grade_id": "cell-60d6f5a284174248",
     "locked": false,
     "schema_version": 1,
     "solution": true
    }
   },
   "outputs": [],
   "source": [
    "# YOUR CODE HERE\n",
    "raise NotImplementedError()"
   ]
  },
  {
   "cell_type": "markdown",
   "metadata": {},
   "source": [
    "(You can use the cell below to ensure that your answer above has the correct format. You can and should not\n",
    "modify the content of that cell.)"
   ]
  },
  {
   "cell_type": "code",
   "execution_count": null,
   "metadata": {
    "collapsed": true,
    "deletable": false,
    "editable": false,
    "nbgrader": {
     "checksum": "f4f8e8d2c36ea677745a1a49f2f779ed",
     "grade": true,
     "grade_id": "cell-87f56f27e30540a9",
     "locked": true,
     "points": 1,
     "schema_version": 1,
     "solution": false
    }
   },
   "outputs": [],
   "source": [
    "_answer = _\n",
    "assert(type(_answer) == bool)"
   ]
  },
  {
   "cell_type": "markdown",
   "metadata": {
    "deletable": false,
    "editable": false,
    "nbgrader": {
     "checksum": "3686a9bbc2d35a338eeea6edb05c0032",
     "grade": false,
     "grade_id": "cell-6b055f9a8abe0387",
     "locked": true,
     "schema_version": 1,
     "solution": false
    }
   },
   "source": [
    "* One reason to use functions is to reduce code duplication."
   ]
  },
  {
   "cell_type": "code",
   "execution_count": null,
   "metadata": {
    "deletable": false,
    "nbgrader": {
     "checksum": "c1209f2e6ab1e67d0b192d1ee4327606",
     "grade": false,
     "grade_id": "cell-7a033de645e3e45b",
     "locked": false,
     "schema_version": 1,
     "solution": true
    }
   },
   "outputs": [],
   "source": [
    "# YOUR CODE HERE\n",
    "raise NotImplementedError()"
   ]
  },
  {
   "cell_type": "markdown",
   "metadata": {},
   "source": [
    "(You can use the cell below to ensure that your answer above has the correct format. You can and should not\n",
    "modify the content of that cell.)"
   ]
  },
  {
   "cell_type": "code",
   "execution_count": null,
   "metadata": {
    "collapsed": true,
    "deletable": false,
    "editable": false,
    "nbgrader": {
     "checksum": "c0fd5605c82bf61568e7d6a3208a9013",
     "grade": true,
     "grade_id": "cell-fc43cefea4b95148",
     "locked": true,
     "points": 1,
     "schema_version": 1,
     "solution": false
    }
   },
   "outputs": [],
   "source": [
    "_answer = _\n",
    "assert(type(_answer) == bool)"
   ]
  },
  {
   "cell_type": "code",
   "execution_count": null,
   "metadata": {
    "collapsed": true
   },
   "outputs": [],
   "source": []
  }
 ],
 "metadata": {
  "kernelspec": {
   "display_name": "Python 3",
   "language": "python",
   "name": "python3"
  },
  "language_info": {
   "codemirror_mode": {
    "name": "ipython",
    "version": 3
   },
   "file_extension": ".py",
   "mimetype": "text/x-python",
   "name": "python",
   "nbconvert_exporter": "python",
   "pygments_lexer": "ipython3",
   "version": "3.6.1"
  }
 },
 "nbformat": 4,
 "nbformat_minor": 2
}
