{
 "cells": [
  {
   "cell_type": "markdown",
   "metadata": {},
   "source": [
    "### CS102/CS103\n",
    "\n",
    "Prof. Götz Pfeiffer<br />\n",
    "School of Mathematics, Statistics and Applied Mathematics<br />\n",
    "NUI Galway\n",
    "\n",
    "# Computer Lab 7"
   ]
  },
  {
   "cell_type": "markdown",
   "metadata": {
    "deletable": false,
    "editable": false,
    "nbgrader": {
     "checksum": "71b95aef01b2d630d49081f9520530d0",
     "grade": false,
     "grade_id": "cell-482c494191d8b15c",
     "locked": true,
     "schema_version": 1,
     "solution": false
    }
   },
   "source": [
    "## Multiple Choice\n",
    "\n",
    "For each of the following questions, choose `'a'`, `'b'`, `'c'`, or `'d'` as answer\n",
    "and type it into the cell below (with quotes)."
   ]
  },
  {
   "cell_type": "markdown",
   "metadata": {
    "deletable": false,
    "editable": false,
    "nbgrader": {
     "checksum": "f6f3151e32c4255249a82b38feb98573",
     "grade": false,
     "grade_id": "cell-7aac40fa4c2598aa",
     "locked": true,
     "schema_version": 1,
     "solution": false
    }
   },
   "source": [
    "* Before reading from or writing to a file, a file object must be created via\n",
    "\n",
    "(a) `open()`<br />\n",
    "(b) `create()`<br />\n",
    "(c) `File()`<br />\n",
    "(d) `Folder()`<br />"
   ]
  },
  {
   "cell_type": "code",
   "execution_count": null,
   "metadata": {
    "deletable": false,
    "nbgrader": {
     "checksum": "9436cb9bd94abee0362aa808e2e236ee",
     "grade": false,
     "grade_id": "cell-fc236e455cec90ab",
     "locked": false,
     "schema_version": 1,
     "solution": true
    }
   },
   "outputs": [],
   "source": [
    "# YOUR CODE HERE\n",
    "raise NotImplementedError()"
   ]
  },
  {
   "cell_type": "markdown",
   "metadata": {},
   "source": [
    "(You can use the cell below to ensure that your answer above has the correct format. You can and should not modify the content of that cell.)"
   ]
  },
  {
   "cell_type": "code",
   "execution_count": null,
   "metadata": {
    "collapsed": true,
    "deletable": false,
    "editable": false,
    "nbgrader": {
     "checksum": "896401be919ad437543a910d8bcaf2c7",
     "grade": true,
     "grade_id": "cell-e9250e3a28f889bc",
     "locked": true,
     "points": 1,
     "schema_version": 1,
     "solution": false
    }
   },
   "outputs": [],
   "source": [
    "_answer = _\n",
    "assert(type(_answer) == str)"
   ]
  },
  {
   "cell_type": "markdown",
   "metadata": {
    "deletable": false,
    "editable": false,
    "nbgrader": {
     "checksum": "5d315beedc5e0463eecfcfb944bd47d7",
     "grade": false,
     "grade_id": "cell-91e0ad5d1e991515",
     "locked": true,
     "schema_version": 1,
     "solution": false
    }
   },
   "source": [
    "* The part of a program that uses a function is called the\n",
    "\n",
    "(a) user<br />\n",
    "(b) caller<br />\n",
    "(c) callee<br />\n",
    "(d) statement<br />"
   ]
  },
  {
   "cell_type": "code",
   "execution_count": null,
   "metadata": {
    "deletable": false,
    "nbgrader": {
     "checksum": "09324e74c742420e5a67ab489b7256e0",
     "grade": false,
     "grade_id": "cell-72ecc7a84b262a9d",
     "locked": false,
     "schema_version": 1,
     "solution": true
    }
   },
   "outputs": [],
   "source": [
    "# YOUR CODE HERE\n",
    "raise NotImplementedError()"
   ]
  },
  {
   "cell_type": "markdown",
   "metadata": {},
   "source": [
    "(You can use the cell below to ensure that your answer above has the correct format. You can and should not modify the content of that cell.)"
   ]
  },
  {
   "cell_type": "code",
   "execution_count": null,
   "metadata": {
    "collapsed": true,
    "deletable": false,
    "editable": false,
    "nbgrader": {
     "checksum": "dd36c571d696b0308094921e39d7ffb7",
     "grade": true,
     "grade_id": "cell-c1f83bc1a99b73a8",
     "locked": true,
     "points": 1,
     "schema_version": 1,
     "solution": false
    }
   },
   "outputs": [],
   "source": [
    "_answer = _\n",
    "assert(type(_answer) == str)"
   ]
  },
  {
   "cell_type": "markdown",
   "metadata": {
    "deletable": false,
    "editable": false,
    "nbgrader": {
     "checksum": "2913b3a8bf484989797576fe57eb7746",
     "grade": false,
     "grade_id": "cell-2743be2f440dfdd1",
     "locked": true,
     "schema_version": 1,
     "solution": false
    }
   },
   "source": [
    "* A `python` function definition begins with the keyword\n",
    "\n",
    "(a) `def`<br />\n",
    "(b) `define`<br />\n",
    "(c) `function`<br />\n",
    "(d) `defun`<br />"
   ]
  },
  {
   "cell_type": "code",
   "execution_count": null,
   "metadata": {
    "deletable": false,
    "nbgrader": {
     "checksum": "ada27558fb80d90df7f3e48496ff9d1e",
     "grade": false,
     "grade_id": "cell-7d115990d9e60d58",
     "locked": false,
     "schema_version": 1,
     "solution": true
    }
   },
   "outputs": [],
   "source": [
    "# YOUR CODE HERE\n",
    "raise NotImplementedError()"
   ]
  },
  {
   "cell_type": "markdown",
   "metadata": {},
   "source": [
    "(You can use the cell below to ensure that your answer above has the correct format. You can and should not modify the content of that cell.)"
   ]
  },
  {
   "cell_type": "code",
   "execution_count": null,
   "metadata": {
    "collapsed": true,
    "deletable": false,
    "editable": false,
    "nbgrader": {
     "checksum": "e4c3ba5907e0dde661843f5aabfa02d3",
     "grade": true,
     "grade_id": "cell-786091b9e291cb59",
     "locked": true,
     "points": 1,
     "schema_version": 1,
     "solution": false
    }
   },
   "outputs": [],
   "source": [
    "_answer = _\n",
    "assert(type(_answer) == str)"
   ]
  },
  {
   "cell_type": "markdown",
   "metadata": {
    "deletable": false,
    "editable": false,
    "nbgrader": {
     "checksum": "18b2910e763b3df047ee116af4576135",
     "grade": false,
     "grade_id": "cell-c3bb8e00e8a3ad1f",
     "locked": true,
     "schema_version": 1,
     "solution": false
    }
   },
   "source": [
    "* Which of the following is **not** a step in the function-calling process?\n",
    "\n",
    "(a) The calling statement suspends execution.<br />\n",
    "(b) The actual arguments are assigned to the formal parameters.<br />\n",
    "(c) The body of the function is executed.<br />\n",
    "(d) Control returns to the point just before the function was called.<br />"
   ]
  },
  {
   "cell_type": "code",
   "execution_count": null,
   "metadata": {
    "deletable": false,
    "nbgrader": {
     "checksum": "c135c5b5f66a828f45c125d57c53154b",
     "grade": false,
     "grade_id": "cell-b10537fa4bca8054",
     "locked": false,
     "schema_version": 1,
     "solution": true
    }
   },
   "outputs": [],
   "source": [
    "# YOUR CODE HERE\n",
    "raise NotImplementedError()"
   ]
  },
  {
   "cell_type": "markdown",
   "metadata": {},
   "source": [
    "(You can use the cell below to ensure that your answer above has the correct format. You can and should not modify the content of that cell.)"
   ]
  },
  {
   "cell_type": "code",
   "execution_count": null,
   "metadata": {
    "collapsed": true,
    "deletable": false,
    "editable": false,
    "nbgrader": {
     "checksum": "dad094e13a2468afa73bf4eb8527d279",
     "grade": true,
     "grade_id": "cell-952c0eec557e9fb2",
     "locked": true,
     "points": 1,
     "schema_version": 1,
     "solution": false
    }
   },
   "outputs": [],
   "source": [
    "_answer = _\n",
    "assert(type(_answer) == str)"
   ]
  },
  {
   "cell_type": "markdown",
   "metadata": {
    "deletable": false,
    "editable": false,
    "nbgrader": {
     "checksum": "74efcbcd79dac46a71efadcf829b1bd5",
     "grade": false,
     "grade_id": "cell-4e968941f44f6c43",
     "locked": true,
     "schema_version": 1,
     "solution": false
    }
   },
   "source": [
    "* A function with no `return` statement returns\n",
    "\n",
    "(a) nothing<br />\n",
    "(b) its parameters<br />\n",
    "(c) its variables<br />\n",
    "(d) `None`<br />"
   ]
  },
  {
   "cell_type": "code",
   "execution_count": null,
   "metadata": {
    "deletable": false,
    "nbgrader": {
     "checksum": "dce5433fe0eadd675f70cf16985a0d0e",
     "grade": false,
     "grade_id": "cell-009735a29e21cc97",
     "locked": false,
     "schema_version": 1,
     "solution": true
    }
   },
   "outputs": [],
   "source": [
    "# YOUR CODE HERE\n",
    "raise NotImplementedError()"
   ]
  },
  {
   "cell_type": "markdown",
   "metadata": {},
   "source": [
    "(You can use the cell below to ensure that your answer above has the correct format. You can and should not modify the content of that cell.)"
   ]
  },
  {
   "cell_type": "code",
   "execution_count": null,
   "metadata": {
    "collapsed": true,
    "deletable": false,
    "editable": false,
    "nbgrader": {
     "checksum": "f0ab8e065302e1dc02e96a6acfe62cd1",
     "grade": true,
     "grade_id": "cell-dc5c431a5290e425",
     "locked": true,
     "points": 1,
     "schema_version": 1,
     "solution": false
    }
   },
   "outputs": [],
   "source": [
    "_answer = _\n",
    "assert(type(_answer) == str)"
   ]
  },
  {
   "cell_type": "code",
   "execution_count": null,
   "metadata": {
    "collapsed": true
   },
   "outputs": [],
   "source": []
  }
 ],
 "metadata": {
  "kernelspec": {
   "display_name": "Python 3",
   "language": "python",
   "name": "python3"
  },
  "language_info": {
   "codemirror_mode": {
    "name": "ipython",
    "version": 3
   },
   "file_extension": ".py",
   "mimetype": "text/x-python",
   "name": "python",
   "nbconvert_exporter": "python",
   "pygments_lexer": "ipython3",
   "version": "3.6.1"
  }
 },
 "nbformat": 4,
 "nbformat_minor": 2
}
