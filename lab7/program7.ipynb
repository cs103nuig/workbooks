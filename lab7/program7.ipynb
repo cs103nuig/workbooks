{
 "cells": [
  {
   "cell_type": "markdown",
   "metadata": {},
   "source": [
    "### CS102/CS103\n",
    "\n",
    "Prof. Götz Pfeiffer<br />\n",
    "School of Mathematics, Statistics and Applied Mathematics<br />\n",
    "NUI Galway\n",
    "\n",
    "# Computer Lab 7"
   ]
  },
  {
   "cell_type": "markdown",
   "metadata": {
    "deletable": false,
    "editable": false,
    "nbgrader": {
     "checksum": "7b59b3236e1d713d8c2d40ba1fbda891",
     "grade": false,
     "grade_id": "cell-af0fec2d5190f4db",
     "locked": true,
     "schema_version": 1,
     "solution": false
    }
   },
   "source": [
    "##  Programming Exercises\n",
    "\n",
    "In this part of the practical you will write some `python` functions.\n",
    "\n",
    "In each function definition, the **first line of\n",
    "the function body** should be **a string that briefly explains the\n",
    "purpose** of that function.\n",
    "\n",
    "\n",
    "\n",
    "In some of the exercises, a **partial answer** together with the text\n",
    "```\n",
    "# YOUR CODE HERE\n",
    "raise NotImplementedError()\n",
    "```\n",
    "is already given in the answer cell.  **Delete** those two lines\n",
    "and replace them with your own code to complete the answer."
   ]
  },
  {
   "cell_type": "markdown",
   "metadata": {
    "deletable": false,
    "editable": false,
    "nbgrader": {
     "checksum": "0684685e68df83e9a0830ba86527a16c",
     "grade": false,
     "grade_id": "cell-72c341cff90553df",
     "locked": true,
     "schema_version": 1,
     "solution": false
    }
   },
   "source": [
    "* (3 points) [Heron's formula](https://en.wikipedia.org/wiki/Heron%27s_formula) \n",
    "states that the area of a triangle whose sides have lengths $a$, $b$, and $c$ is\n",
    "$$A={\\sqrt {s(s-a)(s-b)(s-c)}},$$\n",
    "where $s$ is the semiperimeter of the triangle; that is,\n",
    "$$\n",
    "s = \\frac{a + b + c}{2}.\n",
    "$$\n",
    "Write a `python` function `area_triangle` that computes and returns the area of a triangle\n",
    "from its three side lengths.  \n",
    "Use last week's function `is_triangular` to check whether te given side lengths do actually\n",
    "belong to a triangle, and to return `None` if not (rather than producing an error message)."
   ]
  },
  {
   "cell_type": "code",
   "execution_count": null,
   "metadata": {
    "collapsed": true,
    "deletable": false,
    "nbgrader": {
     "checksum": "aa36f3cc0e4476c5c4a4d0daea23dd5c",
     "grade": false,
     "grade_id": "cell-206d1a6af4eecb3d",
     "locked": false,
     "schema_version": 1,
     "solution": true
    }
   },
   "outputs": [],
   "source": [
    "from math import sqrt\n",
    "def area_triangle(a, b, c):\n",
    "    \"Compute area of triangle with side lengths a, b, c\"\n",
    "    # YOUR CODE HERE\n",
    "    raise NotImplementedError()"
   ]
  },
  {
   "cell_type": "markdown",
   "metadata": {},
   "source": [
    "The area of the triangle with side lengths $3$, $4$, and $5$ is $36$. Verify that this is what your function computes.\n",
    "Also test your function with side lengths that do not form a triangle."
   ]
  },
  {
   "cell_type": "code",
   "execution_count": null,
   "metadata": {},
   "outputs": [],
   "source": [
    "area_triangle(1,1,2)"
   ]
  },
  {
   "cell_type": "code",
   "execution_count": null,
   "metadata": {
    "collapsed": true,
    "deletable": false,
    "editable": false,
    "nbgrader": {
     "checksum": "1c198d124fe7b47530261560e8a60c1f",
     "grade": true,
     "grade_id": "cell-f113ef520638f83d",
     "locked": true,
     "points": 3,
     "schema_version": 1,
     "solution": false
    }
   },
   "outputs": [],
   "source": [
    "\"\"\"Check that area_triangle returns the correct answer for various inputs\"\"\"\n",
    "assert area_triangle(3, 4, 5) == 36.0\n",
    "assert area_triangle(4, 4, 4) == 48.0\n",
    "assert area_triangle(5, 12, 13) == 900.0\n",
    "assert area_triangle(1, 1, 2) == None\n",
    "\n",
    "\"\"\"Check that the function has a docstring\"\"\"\n",
    "assert area_triangle.__doc__ != None"
   ]
  },
  {
   "cell_type": "markdown",
   "metadata": {
    "deletable": false,
    "editable": false,
    "nbgrader": {
     "checksum": "ccbcea28b155247a6d866e88c29a4922",
     "grade": false,
     "grade_id": "cell-2d3041cf5dfcba99",
     "locked": true,
     "schema_version": 1,
     "solution": false
    }
   },
   "source": [
    "* (3 points) The [Body Mass Index](https://en.wikipedia.org/wiki/Body_mass_index) (BMI) is calculated as a person's weight\n",
    "(in pounds) times $703$, divided by the square of the person's height (in inches).\n",
    "A BMI in the range from $18.5$ to $25$ (inclusive) is considered **normal**.\n",
    "A BMI below $18.5$ is considered **underweight**, above $25$ and up to $30$ (inclusive) is **overweight**\n",
    "and above $30$ is **obese**.  Write a function `bmi` that calculates a person's BMI from their\n",
    "weight (in pounds) and their height (in inches) and returns a `python` **dictionary**\n",
    "with keys `\"index\"` and `\"result\"`.  The value of the `\"index\"` key should be the numerical value\n",
    "of the computed BMI, and the value of the `\"result\"` key should be one of the strings\n",
    "`\"normal\"`, `\"underweight\"`, `\"overweight\"`, or `\"obese\"`, as appropriate.\n",
    "Note that the BMI is a very simplistic measure of a person's thickness.\n",
    "Some athletes have a high muscle to fat ratio and may have a BMI that is misleadingly high relative to their body fat percentage."
   ]
  },
  {
   "cell_type": "code",
   "execution_count": null,
   "metadata": {
    "collapsed": true,
    "deletable": false,
    "nbgrader": {
     "checksum": "7d23457afff800411839522728ff4c14",
     "grade": false,
     "grade_id": "cell-70560c39e9adab87",
     "locked": false,
     "schema_version": 1,
     "solution": true
    }
   },
   "outputs": [],
   "source": [
    "def bmi(weight, height):\n",
    "    # YOUR CODE HERE\n",
    "    raise NotImplementedError()"
   ]
  },
  {
   "cell_type": "markdown",
   "metadata": {},
   "source": [
    "A person weighing 128 pounds with a height of 64 inches would have a BMI of $21.96875$ and hence count as normal.\n",
    "Verify that this is what your function computes."
   ]
  },
  {
   "cell_type": "code",
   "execution_count": null,
   "metadata": {},
   "outputs": [],
   "source": [
    "bmi(128, 64)"
   ]
  },
  {
   "cell_type": "code",
   "execution_count": null,
   "metadata": {
    "deletable": false,
    "editable": false,
    "nbgrader": {
     "checksum": "b4b2c4a8599a4308c816541fe5494423",
     "grade": true,
     "grade_id": "cell-18671b8c04867faa",
     "locked": true,
     "points": 3,
     "schema_version": 1,
     "solution": false
    }
   },
   "outputs": [],
   "source": [
    "\"\"\"Check that area_triangle returns the correct answer for various inputs\"\"\"\n",
    "assert bmi(128, 64) == {'index': 21.96875, 'result': 'normal'}\n",
    "assert bmi(18.5 * 64**2 / 19 / 37, 64)['result'] == 'normal'\n",
    "assert bmi(25 * 64**2 / 19 / 37, 64)['result'] == 'normal'\n",
    "assert bmi(30 * 64**2 / 19 / 37, 64)['result'] == 'overweight'\n",
    "assert bmi(31 * 64**2 / 19 / 37, 64)['result'] == 'obese'\n",
    "assert bmi(18 * 64**2 / 19 / 37, 64)['result'] == 'underweight'\n",
    "\n",
    "\"\"\"Check that the function has a docstring\"\"\"\n",
    "assert bmi.__doc__ != None"
   ]
  },
  {
   "cell_type": "markdown",
   "metadata": {
    "deletable": false,
    "editable": false,
    "nbgrader": {
     "checksum": "870c0e9ffe79d4c3cb9e45fb8155ffa3",
     "grade": false,
     "grade_id": "cell-93eccdb60821c763",
     "locked": true,
     "schema_version": 1,
     "solution": false
    }
   },
   "source": [
    "* (3 points) Write a function `is_valid_date(day, month, year)` that checks whether or not \n",
    "`day/month/year` is a valid date, and returns `True` or `False` accordingly.\n",
    "For example, 31/11/2017 is not a valid date because November only has 30 days.\n",
    "And 29/2/2018 is not valid because 2018 is not a leap year.\n",
    "Also, any date with a negative value for `year` (or `day` or `month`) is invalid.\n",
    "Use last week's function `is_leap_year` to check whether `year` is a leap year or not."
   ]
  },
  {
   "cell_type": "code",
   "execution_count": null,
   "metadata": {
    "collapsed": true,
    "deletable": false,
    "nbgrader": {
     "checksum": "ead39d56bba4ef074f9e97f3dceb5834",
     "grade": false,
     "grade_id": "cell-dc665cbf4486948f",
     "locked": false,
     "schema_version": 1,
     "solution": true
    }
   },
   "outputs": [],
   "source": [
    "def is_valid_date(day, month, year):\n",
    "    # YOUR CODE HERE\n",
    "    raise NotImplementedError()"
   ]
  },
  {
   "cell_type": "markdown",
   "metadata": {},
   "source": [
    "So 6/11/2017 is a valid date. Verify that this is what your function computes."
   ]
  },
  {
   "cell_type": "code",
   "execution_count": null,
   "metadata": {},
   "outputs": [],
   "source": [
    "is_valid_date(6, 11, 2017)"
   ]
  },
  {
   "cell_type": "code",
   "execution_count": null,
   "metadata": {
    "deletable": false,
    "editable": false,
    "nbgrader": {
     "checksum": "1d1efd8a83208a73a4a286e28b08f3cc",
     "grade": true,
     "grade_id": "cell-0054f8ea0de4fbee",
     "locked": true,
     "points": 3,
     "schema_version": 1,
     "solution": false
    }
   },
   "outputs": [],
   "source": [
    "\"\"\"Check that is_valid_date returns the correct answer for various inputs\"\"\"\n",
    "assert is_valid_date(6, 11, 2017)\n",
    "assert is_valid_date(29, 2, 2000)\n",
    "assert is_valid_date(29, 2, 2016)\n",
    "assert not is_valid_date(29, 2, 1900)\n",
    "assert not is_valid_date(29, 2, 2017)\n",
    "assert not is_valid_date(6, 13, 2017)\n",
    "assert not is_valid_date(-6, 11, 2017)\n",
    "assert not is_valid_date(6, -11, 2017)\n",
    "assert not is_valid_date(6, 11, -2017)\n",
    "\n",
    "\"\"\"Check that the function has a docstring\"\"\"\n",
    "assert is_valid_date.__doc__ != None"
   ]
  },
  {
   "cell_type": "markdown",
   "metadata": {
    "deletable": false,
    "editable": false,
    "nbgrader": {
     "checksum": "87133aad5c264e0d4ea61cfdebb3c384",
     "grade": false,
     "grade_id": "cell-c1224c7196fb79c3",
     "locked": true,
     "schema_version": 1,
     "solution": false
    }
   },
   "source": [
    "* (3 points) The [Collatz sequence](https://en.wikipedia.org/wiki/Collatz_conjecture)  of a natural number $n > 0$ is generated\n",
    "by starting from $n$ and producing the next term in the sequence as follows: if the current number is even\n",
    "the next term is half that number, and if the current number is odd, the next term is three times this number, plus one.\n",
    "The process stops when the number 1 is reached.\n",
    "For example, the Collatz sequence obtained for $n = 5$ is $5, 16, 8, 4, 2, 1$.\n",
    "It is an open question in Mathematics, whether this sequence will always go to $1$, for any starting value $n$.\n",
    "Write a function `collatz_sequence(n)` that computes and returns the Collatz sequence for a given\n",
    "number `n` as a list, including `n`.  If `n` is less than $1$, the function should return `None`. "
   ]
  },
  {
   "cell_type": "code",
   "execution_count": null,
   "metadata": {
    "collapsed": true,
    "deletable": false,
    "nbgrader": {
     "checksum": "5694920d98d3080d37a978e823d8c0f9",
     "grade": false,
     "grade_id": "cell-7deed5b02fd57d0d",
     "locked": false,
     "schema_version": 1,
     "solution": true
    }
   },
   "outputs": [],
   "source": [
    "def collatz_sequence(n):\n",
    "    # YOUR CODE HERE\n",
    "    raise NotImplementedError()"
   ]
  },
  {
   "cell_type": "markdown",
   "metadata": {},
   "source": [
    "As mentioned above, the Collatz sequence obtained for $n = 5$ is $5, 16, 8, 4, 2, 1$. Verify that this is what your function computes."
   ]
  },
  {
   "cell_type": "code",
   "execution_count": null,
   "metadata": {},
   "outputs": [],
   "source": [
    "collatz_sequence(5)"
   ]
  },
  {
   "cell_type": "code",
   "execution_count": null,
   "metadata": {
    "collapsed": true,
    "deletable": false,
    "editable": false,
    "nbgrader": {
     "checksum": "3ac47e87dae4ffea386c7c6d2c0ae2d2",
     "grade": true,
     "grade_id": "cell-43b07980ddcac83c",
     "locked": true,
     "points": 3,
     "schema_version": 1,
     "solution": false
    }
   },
   "outputs": [],
   "source": [
    "\"\"\"Check that area_triangle returns the correct answer for various inputs\"\"\"\n",
    "assert collatz_sequence(5) == [5, 16, 8, 4, 2, 1]\n",
    "assert len(collatz_sequence(871)) == 179\n",
    "assert collatz_sequence(0) == None\n",
    "\n",
    "\"\"\"Check that the function has a docstring\"\"\"\n",
    "assert collatz_sequence.__doc__ != None"
   ]
  }
 ],
 "metadata": {
  "kernelspec": {
   "display_name": "Python 3",
   "language": "python",
   "name": "python3"
  },
  "language_info": {
   "codemirror_mode": {
    "name": "ipython",
    "version": 3
   },
   "file_extension": ".py",
   "mimetype": "text/x-python",
   "name": "python",
   "nbconvert_exporter": "python",
   "pygments_lexer": "ipython3",
   "version": "3.6.1"
  }
 },
 "nbformat": 4,
 "nbformat_minor": 2
}
