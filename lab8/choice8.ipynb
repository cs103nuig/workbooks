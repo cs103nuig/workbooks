{
 "cells": [
  {
   "cell_type": "markdown",
   "metadata": {},
   "source": [
    "### CS102/CS103\n",
    "\n",
    "Prof. Götz Pfeiffer<br />\n",
    "School of Mathematics, Statistics and Applied Mathematics<br />\n",
    "NUI Galway\n",
    "\n",
    "# Computer Lab 8"
   ]
  },
  {
   "cell_type": "markdown",
   "metadata": {
    "deletable": false,
    "editable": false,
    "nbgrader": {
     "checksum": "71b95aef01b2d630d49081f9520530d0",
     "grade": false,
     "grade_id": "cell-482c494191d8b15c",
     "locked": true,
     "schema_version": 1,
     "solution": false
    }
   },
   "source": [
    "## Multiple Choice\n",
    "\n",
    "For each of the following questions, choose `'a'`, `'b'`, `'c'`, or `'d'` as answer\n",
    "and type it into the cell below (with quotes)."
   ]
  },
  {
   "cell_type": "markdown",
   "metadata": {
    "deletable": false,
    "editable": false,
    "nbgrader": {
     "checksum": "854046b2b3bfcd02447c3d267a6debb5",
     "grade": false,
     "grade_id": "cell-58d192cd74b5a33e",
     "locked": true,
     "schema_version": 1,
     "solution": false
    }
   },
   "source": [
    "* What `python` reserved word starts a class definition?\n",
    "\n",
    "(a) `def`<br />\n",
    "(b) `class`<br />\n",
    "(c) `object`<br />\n",
    "(d) `__init__`<br />"
   ]
  },
  {
   "cell_type": "code",
   "execution_count": null,
   "metadata": {
    "deletable": false,
    "nbgrader": {
     "checksum": "4f90512e3f82928dd0e8a5e747854491",
     "grade": false,
     "grade_id": "cell-9b270775b2a05bea",
     "locked": false,
     "schema_version": 1,
     "solution": true
    }
   },
   "outputs": [],
   "source": [
    "# YOUR CODE HERE\n",
    "raise NotImplementedError()"
   ]
  },
  {
   "cell_type": "markdown",
   "metadata": {},
   "source": [
    "(You can use the cell below to ensure that your answer above has the correct format. You can and should not modify the content of that cell.)"
   ]
  },
  {
   "cell_type": "code",
   "execution_count": null,
   "metadata": {
    "collapsed": true,
    "deletable": false,
    "editable": false,
    "nbgrader": {
     "checksum": "4b11cbb4a537252a7e4bfd6b768c77d7",
     "grade": true,
     "grade_id": "cell-e8b06319a0c3709e",
     "locked": true,
     "points": 1,
     "schema_version": 1,
     "solution": false
    }
   },
   "outputs": [],
   "source": [
    "_answer = _\n",
    "assert(type(_answer) == str)"
   ]
  },
  {
   "cell_type": "markdown",
   "metadata": {
    "deletable": false,
    "editable": false,
    "nbgrader": {
     "checksum": "81fa7b444c415c37ee5a9c7b97f0ed54",
     "grade": false,
     "grade_id": "cell-2495e252cb4e273e",
     "locked": true,
     "schema_version": 1,
     "solution": false
    }
   },
   "source": [
    "* A method definition with four formal parameters is generally called with how many actual\n",
    "parameters?\n",
    "\n",
    "(a) three<br />\n",
    "(b) four<br />\n",
    "(c) five<br />\n",
    "(d) it depends<br />"
   ]
  },
  {
   "cell_type": "code",
   "execution_count": null,
   "metadata": {
    "deletable": false,
    "nbgrader": {
     "checksum": "7e3d1d4e1a7982531eb8a698d7edcda4",
     "grade": false,
     "grade_id": "cell-a6cf517acdfa6872",
     "locked": false,
     "schema_version": 1,
     "solution": true
    }
   },
   "outputs": [],
   "source": [
    "# YOUR CODE HERE\n",
    "raise NotImplementedError()"
   ]
  },
  {
   "cell_type": "markdown",
   "metadata": {},
   "source": [
    "(You can use the cell below to ensure that your answer above has the correct format. You can and should not modify the content of that cell.)"
   ]
  },
  {
   "cell_type": "code",
   "execution_count": null,
   "metadata": {
    "collapsed": true,
    "deletable": false,
    "editable": false,
    "nbgrader": {
     "checksum": "8b093e61c113677e32e72520b1b0c527",
     "grade": true,
     "grade_id": "cell-3f36269f270f2785",
     "locked": true,
     "points": 1,
     "schema_version": 1,
     "solution": false
    }
   },
   "outputs": [],
   "source": [
    "_answer = _\n",
    "assert(type(_answer) == str)"
   ]
  },
  {
   "cell_type": "markdown",
   "metadata": {
    "deletable": false,
    "editable": false,
    "nbgrader": {
     "checksum": "0a74b141e23fcec53647c6de32336f0d",
     "grade": false,
     "grade_id": "cell-1f9926de130c1add",
     "locked": true,
     "schema_version": 1,
     "solution": false
    }
   },
   "source": [
    "* A method definition is similar to a\n",
    "\n",
    "(a) loop<br />\n",
    "(b) module<br />\n",
    "(c) import statement<br />\n",
    "(d) function definition<br />"
   ]
  },
  {
   "cell_type": "code",
   "execution_count": null,
   "metadata": {
    "deletable": false,
    "nbgrader": {
     "checksum": "09eef1c341e9603a6567c796b1d8de4d",
     "grade": false,
     "grade_id": "cell-5af8c1d097f95db7",
     "locked": false,
     "schema_version": 1,
     "solution": true
    }
   },
   "outputs": [],
   "source": [
    "# YOUR CODE HERE\n",
    "raise NotImplementedError()"
   ]
  },
  {
   "cell_type": "markdown",
   "metadata": {},
   "source": [
    "(You can use the cell below to ensure that your answer above has the correct format. You can and should not modify the content of that cell.)"
   ]
  },
  {
   "cell_type": "code",
   "execution_count": null,
   "metadata": {
    "collapsed": true,
    "deletable": false,
    "editable": false,
    "nbgrader": {
     "checksum": "5f207993a4c9c25f4f3de7be1ffed392",
     "grade": true,
     "grade_id": "cell-5ae594f28fe0a544",
     "locked": true,
     "points": 1,
     "schema_version": 1,
     "solution": false
    }
   },
   "outputs": [],
   "source": [
    "_answer = _\n",
    "assert(type(_answer) == str)"
   ]
  },
  {
   "cell_type": "markdown",
   "metadata": {
    "deletable": false,
    "editable": false,
    "nbgrader": {
     "checksum": "6b8c0aef9aa223bcc11601d647680aef",
     "grade": false,
     "grade_id": "cell-66ee3e947b2db130",
     "locked": true,
     "schema_version": 1,
     "solution": false
    }
   },
   "source": [
    "* Within a method definition, the instance variable `x` could be accessed via which expression?\n",
    "\n",
    "(a) `x`<br />\n",
    "(b) `self.x`<br />\n",
    "(c) `self[x]`<br />\n",
    "(d) `self.getX()`<br />"
   ]
  },
  {
   "cell_type": "code",
   "execution_count": null,
   "metadata": {
    "deletable": false,
    "nbgrader": {
     "checksum": "b834b6ee4624162cd8e394697bde10ab",
     "grade": false,
     "grade_id": "cell-fd6a8f32cdfcb203",
     "locked": false,
     "schema_version": 1,
     "solution": true
    }
   },
   "outputs": [],
   "source": [
    "# YOUR CODE HERE\n",
    "raise NotImplementedError()"
   ]
  },
  {
   "cell_type": "markdown",
   "metadata": {},
   "source": [
    "(You can use the cell below to ensure that your answer above has the correct format. You can and should not modify the content of that cell.)"
   ]
  },
  {
   "cell_type": "code",
   "execution_count": null,
   "metadata": {
    "collapsed": true,
    "deletable": false,
    "editable": false,
    "nbgrader": {
     "checksum": "17ca378221a1e69c7640e14e0b9a1416",
     "grade": true,
     "grade_id": "cell-079228c64ac1a608",
     "locked": true,
     "points": 1,
     "schema_version": 1,
     "solution": false
    }
   },
   "outputs": [],
   "source": [
    "_answer = _\n",
    "assert(type(_answer) == str)"
   ]
  },
  {
   "cell_type": "markdown",
   "metadata": {
    "deletable": false,
    "editable": false,
    "nbgrader": {
     "checksum": "72fc766786f9c00d9208739a40512072",
     "grade": false,
     "grade_id": "cell-5a1826945d14385b",
     "locked": true,
     "schema_version": 1,
     "solution": false
    }
   },
   "source": [
    "* The term applied to hiding details inside class definitions is\n",
    "\n",
    "(a) obscuring<br />\n",
    "(b) subclassing<br />\n",
    "(c) documentation<br />\n",
    "(d) encapsulation<br />"
   ]
  },
  {
   "cell_type": "code",
   "execution_count": null,
   "metadata": {
    "deletable": false,
    "nbgrader": {
     "checksum": "1c93d5c6ce1a004862f6427dc37ede4e",
     "grade": false,
     "grade_id": "cell-3a59aeed108ad967",
     "locked": false,
     "schema_version": 1,
     "solution": true
    }
   },
   "outputs": [],
   "source": [
    "# YOUR CODE HERE\n",
    "raise NotImplementedError()"
   ]
  },
  {
   "cell_type": "markdown",
   "metadata": {},
   "source": [
    "(You can use the cell below to ensure that your answer above has the correct format. You can and should not modify the content of that cell.)"
   ]
  },
  {
   "cell_type": "code",
   "execution_count": null,
   "metadata": {
    "collapsed": true,
    "deletable": false,
    "editable": false,
    "nbgrader": {
     "checksum": "483a9c4540a7614f7d444b1fe554ba0b",
     "grade": true,
     "grade_id": "cell-4b5c6877ea3a30d4",
     "locked": true,
     "points": 1,
     "schema_version": 1,
     "solution": false
    }
   },
   "outputs": [],
   "source": [
    "_answer = _\n",
    "assert(type(_answer) == str)"
   ]
  },
  {
   "cell_type": "code",
   "execution_count": null,
   "metadata": {
    "collapsed": true
   },
   "outputs": [],
   "source": []
  }
 ],
 "metadata": {
  "kernelspec": {
   "display_name": "Python 3",
   "language": "python",
   "name": "python3"
  },
  "language_info": {
   "codemirror_mode": {
    "name": "ipython",
    "version": 3
   },
   "file_extension": ".py",
   "mimetype": "text/x-python",
   "name": "python",
   "nbconvert_exporter": "python",
   "pygments_lexer": "ipython3",
   "version": "3.6.1"
  }
 },
 "nbformat": 4,
 "nbformat_minor": 2
}
