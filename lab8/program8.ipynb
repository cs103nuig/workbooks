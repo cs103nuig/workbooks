{
 "cells": [
  {
   "cell_type": "markdown",
   "metadata": {},
   "source": [
    "### CS102/CS103\n",
    "\n",
    "Prof. Götz Pfeiffer<br />\n",
    "School of Mathematics, Statistics and Applied Mathematics<br />\n",
    "NUI Galway\n",
    "\n",
    "# Computer Lab 8"
   ]
  },
  {
   "cell_type": "markdown",
   "metadata": {
    "deletable": false,
    "editable": false,
    "nbgrader": {
     "checksum": "19abd8c7f4400b06f21c7c8f4202742e",
     "grade": false,
     "grade_id": "cell-af0fec2d5190f4db",
     "locked": true,
     "schema_version": 1,
     "solution": false
    }
   },
   "source": [
    "##  Programming Exercises\n",
    "\n",
    "In this part of the practical you will write some `python` classes.\n",
    "\n",
    "In each class definition, the **first line of\n",
    "the function body** should be **a string that briefly explains the\n",
    "purpose** of that function.\n",
    "\n",
    "In some places, a **partial answer** together with the text\n",
    "```\n",
    "# YOUR CODE HERE\n",
    "raise NotImplementedError()\n",
    "```\n",
    "is already given in the answer cell.  **Delete** those two lines\n",
    "and replace them with your own code to complete the answer."
   ]
  },
  {
   "cell_type": "markdown",
   "metadata": {
    "deletable": false,
    "editable": false,
    "nbgrader": {
     "checksum": "4f188d92c69f9cc261b2960bb2f94576",
     "grade": false,
     "grade_id": "cell-72c341cff90553df",
     "locked": true,
     "schema_version": 1,
     "solution": false
    }
   },
   "source": [
    "* (7 points) Disks and circles are common geometric objects used in many graphic applications to produce round or circular shapes. For these applications, it is important to design efficient data structures and algorithms to compute with geometric\n",
    "objects and their properties.  A circular disk in the $x,y$-plane, for example, has a radius, and \n",
    "and a centre with $x$- and $y$-coordinates.  Define a class for `Disk` objects, representing\n",
    "closed circular disks in the plane, that have **instance variables** \n",
    "`radius`, `centre_x` and `centre_y`, and the following **methods**:\n",
    "\n",
    "  * `__init__(self, r, x, y)`, assigning `x` to the instance variable `radius`, and `x` and `y` to\n",
    "  the centre coordinates; in case the value for `radius` is negative, the method should execute the statement\n",
    "  ```\n",
    "  raise ValueError(\"radius must not be negative\")\n",
    "  ```\n",
    "  (a radius value of $0$ is allowed).\n",
    "  \n",
    "  * `__repr__(self)`, for representing a disk object as a string: a disk with radius $2$ and centre coordinates $(3, 4)$\n",
    "  should result in the string `\"Disk(2, 3, 4)\"`, like the expression that was used to create it.\n",
    "  \n",
    "  * `diameter(self)`, for computing and returning the diameter of a disk;\n",
    "\n",
    "  * `circumference(self)`, for computing and returning the diameter of a disk;\n",
    "\n",
    "  * `area(self)`, for computing and returning the diameter of a disk;\n",
    "  \n",
    "  * `distance(self, other)`, for computing the distance between a disk `disk1`\n",
    "  and another disk `disk2` as `disk1.distance(disk2)`.  Recall that the distance\n",
    "  between two points $(x_1, y_1)$ and $(x_2, y_2)$ in the plane is given by the\n",
    "  formula\n",
    "  $$\n",
    "  \\sqrt{(x_2 - x_1)^2 + (y_2 - y_1)^2}.\n",
    "  $$\n",
    "  The distance between two disks can be computes as the distance between their centre points,\n",
    "  minus the sum of their radii (the plural form of radius).\n",
    "  \n",
    "  * Finally, provide an implementation of the method `__mul__(self, other)` so that the expression\n",
    "  `disk1 * disk2` evaluates to `True` or `False`, depending on whether the disks `disk1` and `disk2`\n",
    "  overlap or not.\n",
    "\n"
   ]
  },
  {
   "cell_type": "code",
   "execution_count": null,
   "metadata": {
    "collapsed": true,
    "deletable": false,
    "nbgrader": {
     "checksum": "560c16b18f939258d0f741360b124829",
     "grade": false,
     "grade_id": "cell-206d1a6af4eecb3d",
     "locked": false,
     "schema_version": 1,
     "solution": true
    }
   },
   "outputs": [],
   "source": [
    "from math import sqrt, pi\n",
    "\n",
    "class Disk:\n",
    "    \"a disk has a radius and a centre with x,y-coordinates\"\n",
    "    \n",
    "    def __init__(self, r, x, y):\n",
    "        \"Disk constructor\"\n",
    "        # YOUR CODE HERE\n",
    "        raise NotImplementedError()\n",
    "\n",
    "    def __repr__(self):\n",
    "        return \"Disk({}, {}, {})\".format(self.radius, self.centre_x, self.centre_y)\n",
    "    \n",
    "    def diameter(self):\n",
    "        # YOUR CODE HERE\n",
    "        raise NotImplementedError()\n",
    "\n",
    "    def area(self):\n",
    "        # YOUR CODE HERE\n",
    "        raise NotImplementedError()\n",
    "\n",
    "    def circumference(self):\n",
    "        # YOUR CODE HERE\n",
    "        raise NotImplementedError()\n",
    "\n",
    "    def distance(self, other):\n",
    "        # YOUR CODE HERE\n",
    "        raise NotImplementedError()\n",
    "\n",
    "    def __mul__(self, other):\n",
    "        \"do disks self and other overlap?\"\n",
    "        # YOUR CODE HERE\n",
    "        raise NotImplementedError()"
   ]
  },
  {
   "cell_type": "markdown",
   "metadata": {},
   "source": [
    "Suppose that `d1`, `d2` and `d3` are disks of radius $2$, one centred at the origin, one at $(1, 0)$ and one at $(3, 4)$.\n",
    "Then the disks have diameter $4$, and area and circumference $4\\pi$. The distance between disks `d1` and `d3` is $1$, disks `d1` and `d2` do overlap, while disks `d1` and `d3` don't. Verify that this is what your methods compute."
   ]
  },
  {
   "cell_type": "code",
   "execution_count": null,
   "metadata": {},
   "outputs": [],
   "source": [
    "d1, d2, d3 = Disk(2, 0, 0), Disk(2, 1, 0), Disk(2, 3, 4)\n",
    "d1.diameter(), d1.area(), d1.circumference(), d1.distance(d3), d1 * d2, d1 * d3"
   ]
  },
  {
   "cell_type": "code",
   "execution_count": null,
   "metadata": {
    "collapsed": true,
    "deletable": false,
    "editable": false,
    "nbgrader": {
     "checksum": "dd342f5fc422b81b1b1619967deb4de5",
     "grade": true,
     "grade_id": "cell-a2fe420d165c96ae",
     "locked": true,
     "points": 1,
     "schema_version": 1,
     "solution": false
    }
   },
   "outputs": [],
   "source": [
    "\"\"\"Check instance variables of Disk objects\"\"\"\n",
    "disk = Disk(1, 2, 3)\n",
    "assert disk.radius == 1\n",
    "assert disk.centre_x == 2\n",
    "assert disk.centre_y == 3\n",
    "\n",
    "\"\"\"Check that negative radius raises ValueError\"\"\"\n",
    "try:\n",
    "    Disk(-1, 0, 0)\n",
    "except ValueError:\n",
    "    pass\n",
    "else:\n",
    "    raise AssertionError(\"did not raise\")"
   ]
  },
  {
   "cell_type": "code",
   "execution_count": null,
   "metadata": {
    "collapsed": true,
    "deletable": false,
    "editable": false,
    "nbgrader": {
     "checksum": "0ed593842c4e3db4dde1a9b370d03169",
     "grade": true,
     "grade_id": "cell-d9fd4e608b66d6ec",
     "locked": true,
     "points": 1,
     "schema_version": 1,
     "solution": false
    }
   },
   "outputs": [],
   "source": [
    "\"\"\"Check string representation of a disk\"\"\"\n",
    "assert \"\".join(repr(Disk(1, 2, 3)).split()) == \"Disk(1,2,3)\""
   ]
  },
  {
   "cell_type": "code",
   "execution_count": null,
   "metadata": {
    "collapsed": true,
    "deletable": false,
    "editable": false,
    "nbgrader": {
     "checksum": "1907fd1b571c7a26b6b4258cd8bface8",
     "grade": true,
     "grade_id": "cell-dc9d6adac0c6168d",
     "locked": true,
     "points": 1,
     "schema_version": 1,
     "solution": false
    }
   },
   "outputs": [],
   "source": [
    "\"\"\"Check diameter\"\"\"\n",
    "d1, d2 = Disk(1, 0, 0), Disk(2, 0, 0)\n",
    "assert d1.diameter() == 2\n",
    "assert d2.diameter() == 4"
   ]
  },
  {
   "cell_type": "code",
   "execution_count": null,
   "metadata": {
    "collapsed": true,
    "deletable": false,
    "editable": false,
    "nbgrader": {
     "checksum": "8f7901d354907811e0cda4598f881685",
     "grade": true,
     "grade_id": "cell-8a2d6d375beab5f9",
     "locked": true,
     "points": 1,
     "schema_version": 1,
     "solution": false
    }
   },
   "outputs": [],
   "source": [
    "\"\"\"Check circumference\"\"\"\n",
    "d1, d2 = Disk(1, 0, 0), Disk(2, 0, 0)\n",
    "assert d1.circumference() == 2 * pi\n",
    "assert d2.circumference() == 4 * pi"
   ]
  },
  {
   "cell_type": "code",
   "execution_count": null,
   "metadata": {
    "collapsed": true,
    "deletable": false,
    "editable": false,
    "nbgrader": {
     "checksum": "0b1992b6f2b30ede5f6c65c3a01b5763",
     "grade": true,
     "grade_id": "cell-47a227f15fe629f7",
     "locked": true,
     "points": 1,
     "schema_version": 1,
     "solution": false
    }
   },
   "outputs": [],
   "source": [
    "\"\"\"Check area\"\"\"\n",
    "d1, d2 = Disk(1, 0, 0), Disk(2, 0, 0)\n",
    "assert d1.area() == pi\n",
    "assert d2.area() == 4 * pi"
   ]
  },
  {
   "cell_type": "code",
   "execution_count": null,
   "metadata": {
    "collapsed": true,
    "deletable": false,
    "editable": false,
    "nbgrader": {
     "checksum": "4202f88cd68a967da2a724e610cac19d",
     "grade": true,
     "grade_id": "cell-5bd949f64b46ba75",
     "locked": true,
     "points": 1,
     "schema_version": 1,
     "solution": false
    }
   },
   "outputs": [],
   "source": [
    "\"\"\"Check distance\"\"\"\n",
    "d1, d2 = Disk(1, 0, 0), Disk(2, 3, 4)\n",
    "assert d1.distance(d2) == 2.0"
   ]
  },
  {
   "cell_type": "code",
   "execution_count": null,
   "metadata": {
    "collapsed": true,
    "deletable": false,
    "editable": false,
    "nbgrader": {
     "checksum": "9641f81479b20e8ce5499ffb52716b53",
     "grade": true,
     "grade_id": "cell-6d24f465466fec9c",
     "locked": true,
     "points": 1,
     "schema_version": 1,
     "solution": false
    }
   },
   "outputs": [],
   "source": [
    "\"\"\"Check overlap\"\"\"\n",
    "d1, d2, d3 = Disk(2, 0, 0), Disk(2, 1, 0), Disk(2, 3, 4)\n",
    "assert d1 * d2\n",
    "assert not d1 * d3"
   ]
  },
  {
   "cell_type": "markdown",
   "metadata": {
    "deletable": false,
    "editable": false,
    "nbgrader": {
     "checksum": "97bb6ad93e7a66fb044bbc91f43d2588",
     "grade": false,
     "grade_id": "cell-2d3041cf5dfcba99",
     "locked": true,
     "schema_version": 1,
     "solution": false
    }
   },
   "source": [
    "* (9 points) [Modular arithmetic](https://en.wikipedia.org/wiki/Modular_arithmetic) lies at the heart of modern\n",
    "encryption methods that are used, for example, for secure communication over the internet. It is built on the concept\n",
    "of congruence classes: the **congruence class** of $37$ modulo $17$, for example, consists of **all** integers\n",
    "which have the **same remainder** upon division by $17$ (i.e., $3$). Each congruence class modulo $17$ can be represented by the\n",
    "**unique** integer $r$ with $0 \\leq r < 17$, which is the common remainder upon division by $17$ of all elements in the class.  Congruence classes can be added and multiplied, each class has a negative, some have an inverse.\n",
    "Define a **class** `Mod` whose instances are congruence classes, represented by **instance variables**\n",
    "`val` (for the value of the **remainder** $r$, like the number $3$ in the example above) and `mod` (for the **modulus**,\n",
    "like the number $17$ in the example above), and with the following **methods**:\n",
    "\n",
    "  * `__init__(self, val, mod)` , assigning `val` to the instance variable `val`, and `mod` to\n",
    "  the instance variable `mod`; in case the value for `mod` is negative, the method should execute the statement\n",
    "  ```\n",
    "  raise ValueError(\"modulus must be a positive integer\")\n",
    "  ```\n",
    "  (a modulus value of $0$ is not allowed either).\n",
    "\n",
    "  * `__repr__(self)`, for representing a `Mod` instance as a string: an object with `val` value $2$ and `mod` value $3$\n",
    "  should result in the string `\"Mod(2, 3)\"`, just like the expression that was used to create it.\n",
    "  \n",
    "  * `__add__(self, other)`, for computing the sum `self + other` of two `Mod` instances;\n",
    "  whenever `self` and `other` do **not** have the same `mod` values, the method should execute the statement\n",
    "  ```\n",
    "  raise TypeError(\"operands must have same modulus\")\n",
    "  ```\n",
    "\n",
    "  * `__mul__(self, other)`, for computing the product `self * other` of two `Mod` instances;\n",
    "  whenever `self` and `other` do **not** have the same `mod` values, the method should execute the statement\n",
    "  ```\n",
    "  raise TypeError(\"operands must have same modulus\")\n",
    "  ```\n",
    "\n",
    "  * `__neg__(self)`, for computing the negative `-self` of a `Mod` instance;\n",
    "\n",
    "  * `inverse(self)`, for computing the modular inverse of `self` if it exists; here the extended gcd\n",
    "  function might be useful; if the inverse does not exist, the method should execute the statement\n",
    "  ```\n",
    "  raise ValueError(\"{} has no inverse mod {}\".format(self.val, self.mod))\n",
    "  ```\n",
    "\n",
    "  * `__sub__(self, other)`, for computing the difference `self - other` as the sum `self + -other`;\n",
    "\n",
    "  * `__truediv__(self, other)`, for computing the quotient `self / other` as the product `self * other.inverse()`;\n",
    "  \n",
    "  * `__eq__(self, other)`, for evaluating the comparison `self == other` to `True` only if `self` and `other`\n",
    "  have the same `mod` and `val` values, and to `False` otherwise\n",
    "  \n",
    "The implementation of the extended Euclidean Algorithm as discussed in the lectures is provided below."
   ]
  },
  {
   "cell_type": "code",
   "execution_count": null,
   "metadata": {
    "collapsed": true,
    "deletable": false,
    "nbgrader": {
     "checksum": "038404b46326907a174e67a3518a715c",
     "grade": false,
     "grade_id": "cell-70560c39e9adab87",
     "locked": false,
     "schema_version": 1,
     "solution": true
    }
   },
   "outputs": [],
   "source": [
    "def egcd(a, b):\n",
    "    \"find integers  x, y  such that  gcd(a, b) = x*a + y*b\"\n",
    "    if b == 0:\n",
    "        return (1, 0)\n",
    "    x, y = egcd(b, a % b)\n",
    "    x, y = y, x - (a // b) * y\n",
    "    return (x, y)\n",
    "\n",
    "class Mod:\n",
    "    \"elements of congruence classes mod m\"\n",
    "\n",
    "    def __init__(self, val, mod):\n",
    "        \"constructor\"\n",
    "        # YOUR CODE HERE\n",
    "        raise NotImplementedError()\n",
    "        \n",
    "    def __repr__(self):\n",
    "        \"string representation\"\n",
    "        # YOUR CODE HERE\n",
    "        raise NotImplementedError()\n",
    "        \n",
    "    def __add__(self, other):\n",
    "        \"self + other\"\n",
    "        # YOUR CODE HERE\n",
    "        raise NotImplementedError()\n",
    "        \n",
    "    def __mul__(self, other):\n",
    "        \"self * other\"\n",
    "        # YOUR CODE HERE\n",
    "        raise NotImplementedError()\n",
    "        \n",
    "    def __neg__(self):\n",
    "        \"-self\"\n",
    "        # YOUR CODE HERE\n",
    "        raise NotImplementedError()\n",
    "        \n",
    "    def inverse(self):\n",
    "        \"Mod(1, m)/self: extended gcd\"\n",
    "        # YOUR CODE HERE\n",
    "        raise NotImplementedError()\n",
    "        \n",
    "    def __sub__(self, other):\n",
    "        \"self - other\"\n",
    "        # YOUR CODE HERE\n",
    "        raise NotImplementedError()\n",
    "        \n",
    "    def __truediv__(self, other):\n",
    "        \"self / other\"\n",
    "        # YOUR CODE HERE\n",
    "        raise NotImplementedError()\n",
    "        \n",
    "    def __eq__(self, other):\n",
    "        \"self == other\"\n",
    "        # YOUR CODE HERE\n",
    "        raise NotImplementedError()"
   ]
  },
  {
   "cell_type": "markdown",
   "metadata": {},
   "source": [
    "Suppose that `a` is $111$ modulo $1234$ and that `b` is $11111$ modulo $1234$.\n",
    "Then `a + b` is $116$, `a - b` is $106$, `a * b` is $555$, ` a / b` is $269$ (modulo $1234$),\n",
    "and `a == b` is `False` (of course).\n",
    "Verify that this is what your methods compute."
   ]
  },
  {
   "cell_type": "code",
   "execution_count": null,
   "metadata": {},
   "outputs": [],
   "source": [
    "a, b = Mod(111, 1234), Mod(11111, 1234)\n",
    "a + b, a - b, a * b, a / b, a == b"
   ]
  },
  {
   "cell_type": "code",
   "execution_count": null,
   "metadata": {
    "collapsed": true,
    "deletable": false,
    "editable": false,
    "nbgrader": {
     "checksum": "d6289ee4fa9701f2abf0f7ca64789b8e",
     "grade": true,
     "grade_id": "cell-c0ff5a5a78384f4e",
     "locked": true,
     "points": 1,
     "schema_version": 1,
     "solution": false
    }
   },
   "outputs": [],
   "source": [
    "\"\"\"Check instance variables of Mod objects\"\"\"\n",
    "a = Mod(37, 17)\n",
    "assert a.val == 3\n",
    "assert a.mod == 17\n",
    "\n",
    "\"\"\"Check that a negative modulus raises ValueError\"\"\"\n",
    "try:\n",
    "    Mod(37, -17)\n",
    "except ValueError:\n",
    "    pass\n",
    "else:\n",
    "    raise AssertionError(\"did not raise\")"
   ]
  },
  {
   "cell_type": "code",
   "execution_count": null,
   "metadata": {
    "collapsed": true,
    "deletable": false,
    "editable": false,
    "nbgrader": {
     "checksum": "8aa2089bfb83b4bbb2b5436968054a68",
     "grade": true,
     "grade_id": "cell-3fd24a7730d3bd72",
     "locked": true,
     "points": 1,
     "schema_version": 1,
     "solution": false
    }
   },
   "outputs": [],
   "source": [
    "\"\"\"Check string representation of a Mod instance\"\"\"\n",
    "assert \"\".join(repr(Mod(2, 3)).split()) == \"Mod(2,3)\""
   ]
  },
  {
   "cell_type": "code",
   "execution_count": null,
   "metadata": {
    "collapsed": true,
    "deletable": false,
    "editable": false,
    "nbgrader": {
     "checksum": "8360039a5966e2a87991464a3c1d29ac",
     "grade": true,
     "grade_id": "cell-08f762f47e6bcc51",
     "locked": true,
     "points": 1,
     "schema_version": 1,
     "solution": false
    }
   },
   "outputs": [],
   "source": [
    "\"\"\"Check sum\"\"\"\n",
    "a, b = Mod(111, 1234), Mod(11111, 1234)\n",
    "c = a + b\n",
    "assert c.mod == a.mod\n",
    "assert c.val == (111 + 11111) % 1234\n",
    "\n",
    "\"\"\"Check that different moduli raise TypeError\"\"\"\n",
    "try:\n",
    "    Mod(1, 2) + Mod(1, 3)\n",
    "except TypeError:\n",
    "    pass\n",
    "else:\n",
    "    raise AssertionError(\"did not raise\")"
   ]
  },
  {
   "cell_type": "code",
   "execution_count": null,
   "metadata": {
    "collapsed": true,
    "deletable": false,
    "editable": false,
    "nbgrader": {
     "checksum": "f26979bf9562c0d452f4adea2b7694a8",
     "grade": true,
     "grade_id": "cell-5fbdbe21238b39e3",
     "locked": true,
     "points": 1,
     "schema_version": 1,
     "solution": false
    }
   },
   "outputs": [],
   "source": [
    "\"\"\"Check negative\"\"\"\n",
    "a = -Mod(111, 1234)\n",
    "assert a.mod == 1234\n",
    "assert a.val == (-111) % 1234"
   ]
  },
  {
   "cell_type": "code",
   "execution_count": null,
   "metadata": {
    "collapsed": true,
    "deletable": false,
    "editable": false,
    "nbgrader": {
     "checksum": "923519ef4abfd1131808058b9c96a492",
     "grade": true,
     "grade_id": "cell-5c01c4e3ace11b9b",
     "locked": true,
     "points": 1,
     "schema_version": 1,
     "solution": false
    }
   },
   "outputs": [],
   "source": [
    "\"\"\"Check difference\"\"\"\n",
    "a, b = Mod(111, 1234), Mod(11111, 1234)\n",
    "c = a - b\n",
    "assert c.mod == a. mod\n",
    "assert c.val == (111 - 11111) % 1234"
   ]
  },
  {
   "cell_type": "code",
   "execution_count": null,
   "metadata": {
    "collapsed": true,
    "deletable": false,
    "editable": false,
    "nbgrader": {
     "checksum": "a68e1ebf6715b07a8bce8662ffb889c8",
     "grade": true,
     "grade_id": "cell-6188196585acc297",
     "locked": true,
     "points": 1,
     "schema_version": 1,
     "solution": false
    }
   },
   "outputs": [],
   "source": [
    "\"\"\"Check product\"\"\"\n",
    "a, b = Mod(111, 1234), Mod(11111, 1234)\n",
    "c = a * b\n",
    "assert c.mod == a.mod\n",
    "assert c.val == (111 * 11111) % 1234\n",
    "\n",
    "\"\"\"Check that different moduli raise TypeError\"\"\"\n",
    "try:\n",
    "    Mod(1, 2) * Mod(1, 3)\n",
    "except TypeError:\n",
    "    pass\n",
    "else:\n",
    "    raise AssertionError(\"did not raise\")"
   ]
  },
  {
   "cell_type": "code",
   "execution_count": null,
   "metadata": {
    "collapsed": true,
    "deletable": false,
    "editable": false,
    "nbgrader": {
     "checksum": "0c50905be1030e0291583dd3db0bd785",
     "grade": true,
     "grade_id": "cell-5244632742b94a2d",
     "locked": true,
     "points": 1,
     "schema_version": 1,
     "solution": false
    }
   },
   "outputs": [],
   "source": [
    "\"\"\"Check inverse\"\"\"\n",
    "a = Mod(111, 1234)\n",
    "c = a.inverse()\n",
    "assert c.mod == a. mod\n",
    "assert c.val == 189\n",
    "\n",
    "\"\"\"Check that non-existing inverse raises ValueError\"\"\"\n",
    "try:\n",
    "    Mod(2, 1234).inverse()\n",
    "except ValueError:\n",
    "    pass\n",
    "else:\n",
    "    raise AssertionError(\"did not raise\")"
   ]
  },
  {
   "cell_type": "code",
   "execution_count": null,
   "metadata": {
    "collapsed": true,
    "deletable": false,
    "editable": false,
    "nbgrader": {
     "checksum": "9c6525c9677a90ad4874e72a00c8f521",
     "grade": true,
     "grade_id": "cell-ffde75014b3a9e9a",
     "locked": true,
     "points": 1,
     "schema_version": 1,
     "solution": false
    }
   },
   "outputs": [],
   "source": [
    "\"\"\"Check quotient\"\"\"\n",
    "a, b = Mod(111, 1234), Mod(11111, 1234)\n",
    "c = a / b\n",
    "assert c.mod == a. mod\n",
    "assert c.val == 269"
   ]
  },
  {
   "cell_type": "code",
   "execution_count": null,
   "metadata": {
    "collapsed": true,
    "deletable": false,
    "editable": false,
    "nbgrader": {
     "checksum": "40cb12d46193ea22c9a5a5c15e44e249",
     "grade": true,
     "grade_id": "cell-951754bcd7da5e94",
     "locked": true,
     "points": 1,
     "schema_version": 1,
     "solution": false
    }
   },
   "outputs": [],
   "source": [
    "\"\"\"Check equality\"\"\"\n",
    "a, b = Mod(111, 1234), Mod(11111, 1234)\n",
    "assert a == a\n",
    "assert a != b"
   ]
  },
  {
   "cell_type": "code",
   "execution_count": null,
   "metadata": {
    "collapsed": true
   },
   "outputs": [],
   "source": []
  }
 ],
 "metadata": {
  "kernelspec": {
   "display_name": "Python 3",
   "language": "python",
   "name": "python3"
  },
  "language_info": {
   "codemirror_mode": {
    "name": "ipython",
    "version": 3
   },
   "file_extension": ".py",
   "mimetype": "text/x-python",
   "name": "python",
   "nbconvert_exporter": "python",
   "pygments_lexer": "ipython3",
   "version": "3.6.1"
  }
 },
 "nbformat": 4,
 "nbformat_minor": 2
}
