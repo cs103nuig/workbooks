{
 "cells": [
  {
   "cell_type": "markdown",
   "metadata": {},
   "source": [
    "### CS102/CS103\n",
    "\n",
    "Prof. Götz Pfeiffer<br />\n",
    "School of Mathematics, Statistics and Applied Mathematics<br />\n",
    "NUI Galway\n",
    "\n",
    "# Computer Lab 1"
   ]
  },
  {
   "cell_type": "markdown",
   "metadata": {
    "deletable": false,
    "editable": false,
    "nbgrader": {
     "checksum": "97a80bea63cd8b02aa66a88c115656af",
     "grade": false,
     "grade_id": "cell-32eab3b5840e89dd",
     "locked": true,
     "schema_version": 1,
     "solution": false
    }
   },
   "source": [
    "##  Programming Exercises\n",
    "\n",
    "Follow the instructions. Replace the content of each answer cell with your own answer.  At the end, each answer cell should contain **exactly one line** of `Python` code.  You can use the cells below each answer box to check if your answer has the correct format.  **Except for the last one**, which should be **two lines**: a comment and a line of `Python`."
   ]
  },
  {
   "cell_type": "markdown",
   "metadata": {
    "deletable": false,
    "editable": false,
    "nbgrader": {
     "checksum": "6c421181e5e5ac3b1901be08d99562d2",
     "grade": false,
     "grade_id": "cell-fb7b45ac3f0d0e24",
     "locked": true,
     "schema_version": 1,
     "solution": false
    }
   },
   "source": [
    "* Use the cell below to experiment and observe the effects of the following commands one at a time.\n",
    "\n",
    "```python\n",
    "print(\"Hello, world!\")\n",
    "print(\"Hello\", \"world!\")\n",
    "\"Hello \" + \"world!\"\n",
    "print 3\n",
    "print 3.00\n",
    "2 + 3\n",
    "2.0 + 3\n",
    "2.0 + 3.0\n",
    "\"2\" + \"3\"\n",
    "2 * 3\n",
    "2 ** 3\n",
    "3 / 2\n",
    "3 // 2\n",
    "3 % 2\n",
    "3.0 / 2.0\n",
    "3.0 // 2.0\n",
    "```"
   ]
  },
  {
   "cell_type": "code",
   "execution_count": null,
   "metadata": {
    "deletable": false,
    "nbgrader": {
     "checksum": "63d21b561cebd599f669ad4e56e4133c",
     "grade": false,
     "grade_id": "cell-8f851c7cb4c045c9",
     "locked": false,
     "schema_version": 1,
     "solution": true
    }
   },
   "outputs": [],
   "source": [
    "# YOUR CODE HERE\n",
    "raise NotImplementedError()"
   ]
  },
  {
   "cell_type": "code",
   "execution_count": null,
   "metadata": {
    "collapsed": true,
    "deletable": false,
    "editable": false,
    "nbgrader": {
     "checksum": "e6afbc71d2497cf6800ed87c0eabf268",
     "grade": true,
     "grade_id": "cell-3dcc80bf8ba7455f",
     "locked": true,
     "points": 1,
     "schema_version": 1,
     "solution": false
    }
   },
   "outputs": [],
   "source": [
    "_input = list(filter(lambda x: x[:3] != '###', _i.split('\\n')))\n",
    "assert(len(_input) == 1)"
   ]
  },
  {
   "cell_type": "markdown",
   "metadata": {
    "deletable": false,
    "editable": false,
    "nbgrader": {
     "checksum": "b80a7ac8cfcdd1e8202140400338f75d",
     "grade": false,
     "grade_id": "cell-62f34f4e8d7ad8d0",
     "locked": true,
     "schema_version": 1,
     "solution": false
    }
   },
   "source": [
    "* Write a `Python` program that computes the product of $1234$ and $5678$."
   ]
  },
  {
   "cell_type": "code",
   "execution_count": null,
   "metadata": {
    "deletable": false,
    "nbgrader": {
     "checksum": "d48f3204e819f437b7d4b7627422242e",
     "grade": false,
     "grade_id": "cell-754f904074ac2077",
     "locked": false,
     "schema_version": 1,
     "solution": true
    }
   },
   "outputs": [],
   "source": [
    "# YOUR CODE HERE\n",
    "raise NotImplementedError()"
   ]
  },
  {
   "cell_type": "code",
   "execution_count": null,
   "metadata": {
    "collapsed": true,
    "deletable": false,
    "editable": false,
    "nbgrader": {
     "checksum": "74aac53849cdbf64ac7cb5d2fca10e00",
     "grade": true,
     "grade_id": "cell-ad76dba0b108be27",
     "locked": true,
     "points": 1,
     "schema_version": 1,
     "solution": false
    }
   },
   "outputs": [],
   "source": [
    "_input = list(filter(lambda x: x[:3] != '###', _i.split('\\n')))\n",
    "_answer = _\n",
    "assert(len(_input) == 1)\n",
    "assert(type(_answer) == int)"
   ]
  },
  {
   "cell_type": "markdown",
   "metadata": {
    "deletable": false,
    "editable": false,
    "nbgrader": {
     "checksum": "d4a761333bd4fd275a9bd99e01ee9bd8",
     "grade": false,
     "grade_id": "cell-d3d2094f576aaa81",
     "locked": true,
     "schema_version": 1,
     "solution": false
    }
   },
   "source": [
    "* Write a `Python` program that computes the quotient of the sum of\n",
    "$445.5$ and $1600.4$ and the product of $34.1$ and $6.2$."
   ]
  },
  {
   "cell_type": "code",
   "execution_count": null,
   "metadata": {
    "deletable": false,
    "nbgrader": {
     "checksum": "258cee1904e0cbce3e6426a2fc122afc",
     "grade": false,
     "grade_id": "cell-120fa78d0daa4223",
     "locked": false,
     "schema_version": 1,
     "solution": true
    }
   },
   "outputs": [],
   "source": [
    "# YOUR CODE HERE\n",
    "raise NotImplementedError()"
   ]
  },
  {
   "cell_type": "code",
   "execution_count": null,
   "metadata": {
    "collapsed": true,
    "deletable": false,
    "editable": false,
    "nbgrader": {
     "checksum": "5736a8e4e50548540f42c80b49cf643d",
     "grade": true,
     "grade_id": "cell-c69145c43ccbdf22",
     "locked": true,
     "points": 1,
     "schema_version": 1,
     "solution": false
    }
   },
   "outputs": [],
   "source": [
    "_input = list(filter(lambda x: x[:3] != '###', _i.split('\\n')))\n",
    "_answer = _\n",
    "assert(len(_input) == 1)\n",
    "assert(type(_answer) == float)"
   ]
  },
  {
   "cell_type": "markdown",
   "metadata": {
    "deletable": false,
    "editable": false,
    "nbgrader": {
     "checksum": "6f26305bb741b691b059d8b3989f909f",
     "grade": false,
     "grade_id": "cell-4612dd66ca95fbd7",
     "locked": true,
     "schema_version": 1,
     "solution": false
    }
   },
   "source": [
    "* Write a `Python` program that determines the number of **full** weeks left until the end of the year, if there are $94$ days remaining."
   ]
  },
  {
   "cell_type": "code",
   "execution_count": null,
   "metadata": {
    "deletable": false,
    "nbgrader": {
     "checksum": "2ea040e2967b2e4751ef33ea3f09ca71",
     "grade": false,
     "grade_id": "cell-571b54d9be8ef581",
     "locked": false,
     "schema_version": 1,
     "solution": true
    }
   },
   "outputs": [],
   "source": [
    "# YOUR CODE HERE\n",
    "raise NotImplementedError()"
   ]
  },
  {
   "cell_type": "code",
   "execution_count": null,
   "metadata": {
    "collapsed": true,
    "deletable": false,
    "editable": false,
    "nbgrader": {
     "checksum": "99b7aea509a555b5f51efab372c8e5f4",
     "grade": true,
     "grade_id": "cell-f82ec7d8e2c7a2f5",
     "locked": true,
     "points": 1,
     "schema_version": 1,
     "solution": false
    }
   },
   "outputs": [],
   "source": [
    "_input = list(filter(lambda x: x[:3] != '###', _i.split('\\n')))\n",
    "_answer = _\n",
    "assert(len(_input) == 1)\n",
    "assert(type(_answer) == int)"
   ]
  },
  {
   "cell_type": "markdown",
   "metadata": {
    "deletable": false,
    "editable": false,
    "nbgrader": {
     "checksum": "9a8f8f21fe2c761b4e9051612e82649b",
     "grade": false,
     "grade_id": "cell-cfa47da58b4f0eab",
     "locked": true,
     "schema_version": 1,
     "solution": false
    }
   },
   "source": [
    "* Write a `Python` that computes the sum of $10$, $14$ and $18$ and reports back by writing the text `'The answer is'` (without the quotes) followed by the sum, followed by a full stop on the screen."
   ]
  },
  {
   "cell_type": "code",
   "execution_count": null,
   "metadata": {
    "deletable": false,
    "nbgrader": {
     "checksum": "297624e0bc9bd6f001cfdabb8d763f16",
     "grade": false,
     "grade_id": "cell-94422051442aacfa",
     "locked": false,
     "schema_version": 1,
     "solution": true
    }
   },
   "outputs": [],
   "source": [
    "# YOUR CODE HERE\n",
    "raise NotImplementedError()"
   ]
  },
  {
   "cell_type": "code",
   "execution_count": null,
   "metadata": {
    "collapsed": true,
    "deletable": false,
    "editable": false,
    "nbgrader": {
     "checksum": "80d7d6b6971ae7edfb8da8ec6f30ddc7",
     "grade": true,
     "grade_id": "cell-b856bd9a029b4843",
     "locked": true,
     "points": 1,
     "schema_version": 1,
     "solution": false
    }
   },
   "outputs": [],
   "source": [
    "_input = list(filter(lambda x: x[:3] != '###', _i.split('\\n')))\n",
    "assert(len(_input) == 1)"
   ]
  },
  {
   "cell_type": "markdown",
   "metadata": {
    "deletable": false,
    "editable": false,
    "nbgrader": {
     "checksum": "7a471e632bf7468355c331a009b85f9b",
     "grade": false,
     "grade_id": "cell-ce3e7c8c0b6dbd34",
     "locked": true,
     "schema_version": 1,
     "solution": false
    }
   },
   "source": [
    "* Write a `Python` program that allows you to determine whether $200001079$ is a multiple of $5323$."
   ]
  },
  {
   "cell_type": "code",
   "execution_count": null,
   "metadata": {
    "deletable": false,
    "nbgrader": {
     "checksum": "e72a8183cd4c53acadf09550b38ab7ed",
     "grade": false,
     "grade_id": "cell-f86392c630f3d5ba",
     "locked": false,
     "schema_version": 1,
     "solution": true
    }
   },
   "outputs": [],
   "source": [
    "# YOUR CODE HERE\n",
    "raise NotImplementedError()"
   ]
  },
  {
   "cell_type": "code",
   "execution_count": null,
   "metadata": {
    "collapsed": true,
    "deletable": false,
    "editable": false,
    "nbgrader": {
     "checksum": "4ead69e45b7f2b1deae2b630757378eb",
     "grade": true,
     "grade_id": "cell-82c92b610e4f004c",
     "locked": true,
     "points": 1,
     "schema_version": 1,
     "solution": false
    }
   },
   "outputs": [],
   "source": [
    "_input = list(filter(lambda x: x[:3] != '###', _i.split('\\n')))\n",
    "_answer = _\n",
    "assert(len(_input) == 1)\n",
    "assert(type(_answer) == int)"
   ]
  },
  {
   "cell_type": "markdown",
   "metadata": {
    "deletable": false,
    "editable": false,
    "nbgrader": {
     "checksum": "74922eeeeb775efe25e7dfddded61d21",
     "grade": false,
     "grade_id": "cell-910fd200437ea485",
     "locked": true,
     "schema_version": 1,
     "solution": false
    }
   },
   "source": [
    "* Write a `Python` program that prints $15$ letters `'y'` (without the quotes) followed by $15$ letters `'e'` followed by $15$ letters `'s'` followed by $15$ `'!'`."
   ]
  },
  {
   "cell_type": "code",
   "execution_count": null,
   "metadata": {
    "deletable": false,
    "nbgrader": {
     "checksum": "21490f6658dcb5e6783ba7e4ee367edf",
     "grade": false,
     "grade_id": "cell-0f580e74d04881aa",
     "locked": false,
     "schema_version": 1,
     "solution": true
    }
   },
   "outputs": [],
   "source": [
    "# YOUR CODE HERE\n",
    "raise NotImplementedError()"
   ]
  },
  {
   "cell_type": "code",
   "execution_count": null,
   "metadata": {
    "collapsed": true,
    "deletable": false,
    "editable": false,
    "nbgrader": {
     "checksum": "6a5406fc8faec916f355e1d9477c29c5",
     "grade": true,
     "grade_id": "cell-6f8185d8c04eed5e",
     "locked": true,
     "points": 1,
     "schema_version": 1,
     "solution": false
    }
   },
   "outputs": [],
   "source": [
    "_input = list(filter(lambda x: x[:3] != '###', _i.split('\\n')))\n",
    "assert(len(_input) == 1)"
   ]
  },
  {
   "cell_type": "markdown",
   "metadata": {
    "deletable": false,
    "editable": false,
    "nbgrader": {
     "checksum": "b05f3bc6edfc84e9d71e2637e8971a58",
     "grade": false,
     "grade_id": "cell-fa2057633ffa7cb6",
     "locked": true,
     "schema_version": 1,
     "solution": false
    }
   },
   "source": [
    "* Write a `Python` program that determines the number of seconds in a day."
   ]
  },
  {
   "cell_type": "code",
   "execution_count": null,
   "metadata": {
    "deletable": false,
    "nbgrader": {
     "checksum": "832104eb9a91c88288c0dd1f25762f3a",
     "grade": false,
     "grade_id": "cell-e7dc887db8f200fa",
     "locked": false,
     "schema_version": 1,
     "solution": true
    }
   },
   "outputs": [],
   "source": [
    "# YOUR CODE HERE\n",
    "raise NotImplementedError()"
   ]
  },
  {
   "cell_type": "code",
   "execution_count": null,
   "metadata": {
    "collapsed": true,
    "deletable": false,
    "editable": false,
    "nbgrader": {
     "checksum": "b3ae41d6f30a5b015a38ddf55fe6819d",
     "grade": true,
     "grade_id": "cell-cefe711a9b5c335d",
     "locked": true,
     "points": 1,
     "schema_version": 1,
     "solution": false
    }
   },
   "outputs": [],
   "source": [
    "_input = list(filter(lambda x: x[:3] != '###', _i.split('\\n')))\n",
    "_answer = _\n",
    "assert(len(_input) == 1)\n",
    "assert(type(_answer) == int)"
   ]
  },
  {
   "cell_type": "markdown",
   "metadata": {
    "deletable": false,
    "editable": false,
    "nbgrader": {
     "checksum": "e61d6bca50ae88e4351b36e812918e44",
     "grade": false,
     "grade_id": "cell-a4c805725407d444",
     "locked": true,
     "schema_version": 1,
     "solution": false
    }
   },
   "source": [
    "* Write a `Python` program that determines the number of seconds in a week."
   ]
  },
  {
   "cell_type": "code",
   "execution_count": null,
   "metadata": {
    "deletable": false,
    "nbgrader": {
     "checksum": "956ccf24cec912232744a8abc21111a0",
     "grade": false,
     "grade_id": "cell-25e32e96b0a03066",
     "locked": false,
     "schema_version": 1,
     "solution": true
    }
   },
   "outputs": [],
   "source": [
    "# YOUR CODE HERE\n",
    "raise NotImplementedError()"
   ]
  },
  {
   "cell_type": "code",
   "execution_count": null,
   "metadata": {
    "collapsed": true,
    "deletable": false,
    "editable": false,
    "nbgrader": {
     "checksum": "e72a6ab436cce13c2666551bf9601ce8",
     "grade": true,
     "grade_id": "cell-292daa6832783cb6",
     "locked": true,
     "points": 1,
     "schema_version": 1,
     "solution": false
    }
   },
   "outputs": [],
   "source": [
    "_input = list(filter(lambda x: x[:3] != '###', _i.split('\\n')))\n",
    "_answer = _\n",
    "assert(len(_input) == 1)\n",
    "assert(type(_answer) == int)"
   ]
  },
  {
   "cell_type": "markdown",
   "metadata": {
    "deletable": false,
    "editable": false,
    "nbgrader": {
     "checksum": "b4a944b1f7eea441504f7ef5fd24eb2e",
     "grade": false,
     "grade_id": "cell-0220dc7fa0fb9aed",
     "locked": true,
     "schema_version": 1,
     "solution": false
    }
   },
   "source": [
    "* Write a `Python` program that computes your age in seconds."
   ]
  },
  {
   "cell_type": "code",
   "execution_count": null,
   "metadata": {
    "deletable": false,
    "nbgrader": {
     "checksum": "a34cf8725cc5d5cf53d38a131ecfb000",
     "grade": false,
     "grade_id": "cell-c98898e5af2acfa3",
     "locked": false,
     "schema_version": 1,
     "solution": true
    }
   },
   "outputs": [],
   "source": [
    "# YOUR CODE HERE\n",
    "raise NotImplementedError()"
   ]
  },
  {
   "cell_type": "code",
   "execution_count": null,
   "metadata": {
    "collapsed": true,
    "deletable": false,
    "editable": false,
    "nbgrader": {
     "checksum": "376cd29326c3a38fbfbc5a87529c53c8",
     "grade": true,
     "grade_id": "cell-eeb27a13ba768062",
     "locked": true,
     "points": 1,
     "schema_version": 1,
     "solution": false
    }
   },
   "outputs": [],
   "source": [
    "_input = list(filter(lambda x: x[:3] != '###', _i.split('\\n')))\n",
    "_answer = _\n",
    "assert(len(_input) == 1)\n",
    "assert(type(_answer) == int)"
   ]
  },
  {
   "cell_type": "markdown",
   "metadata": {
    "deletable": false,
    "editable": false,
    "nbgrader": {
     "checksum": "9a752e047cf93269dded4587cc441b9a",
     "grade": false,
     "grade_id": "cell-14405e5b90066a51",
     "locked": true,
     "schema_version": 1,
     "solution": false
    }
   },
   "source": [
    "* Write a `Python` program that computes the interest on an investment of EUR 89235.41 at an interest rate of 4.5 percent."
   ]
  },
  {
   "cell_type": "code",
   "execution_count": null,
   "metadata": {
    "deletable": false,
    "nbgrader": {
     "checksum": "e9aac33f0ef64c7bb2be46e06e7a70a5",
     "grade": false,
     "grade_id": "cell-91b7108cbb34b519",
     "locked": false,
     "schema_version": 1,
     "solution": true
    }
   },
   "outputs": [],
   "source": [
    "# YOUR CODE HERE\n",
    "raise NotImplementedError()"
   ]
  },
  {
   "cell_type": "code",
   "execution_count": null,
   "metadata": {
    "collapsed": true,
    "deletable": false,
    "editable": false,
    "nbgrader": {
     "checksum": "10eb3c3dccfd3b1a5c9393b2aa670c52",
     "grade": true,
     "grade_id": "cell-8fff4e65b1ada890",
     "locked": true,
     "points": 1,
     "schema_version": 1,
     "solution": false
    }
   },
   "outputs": [],
   "source": [
    "_input = list(filter(lambda x: x[:3] != '###', _i.split('\\n')))\n",
    "_answer = _\n",
    "assert(len(_input) == 1)\n",
    "assert(type(_answer) == float)"
   ]
  },
  {
   "cell_type": "markdown",
   "metadata": {
    "deletable": false,
    "editable": false,
    "nbgrader": {
     "checksum": "86c90a0f7e5dc76c8baf33424b40cbb2",
     "grade": false,
     "grade_id": "cell-f93beaa776bc64b1",
     "locked": true,
     "schema_version": 1,
     "solution": false
    }
   },
   "source": [
    "* Write a `Python` program that determines the future value of a sum of EUR 189235.41 invested for two years at an interest rate of 4.4 percent per year, with interest compunded every three months."
   ]
  },
  {
   "cell_type": "code",
   "execution_count": null,
   "metadata": {
    "deletable": false,
    "nbgrader": {
     "checksum": "27214a9a6554601fb3a2780819c008cd",
     "grade": false,
     "grade_id": "cell-513ce0b06f66f464",
     "locked": false,
     "schema_version": 1,
     "solution": true
    }
   },
   "outputs": [],
   "source": [
    "# YOUR CODE HERE\n",
    "raise NotImplementedError()"
   ]
  },
  {
   "cell_type": "code",
   "execution_count": null,
   "metadata": {
    "collapsed": true,
    "deletable": false,
    "editable": false,
    "nbgrader": {
     "checksum": "cda76c30153605f32d138dc0ec6ea2c0",
     "grade": true,
     "grade_id": "cell-366ae86494b39cd4",
     "locked": true,
     "points": 1,
     "schema_version": 1,
     "solution": false
    }
   },
   "outputs": [],
   "source": [
    "_input = list(filter(lambda x: x[:3] != '###', _i.split('\\n')))\n",
    "_answer = _\n",
    "assert(len(_input) == 1)\n",
    "assert(type(_answer) == float)"
   ]
  },
  {
   "cell_type": "markdown",
   "metadata": {
    "deletable": false,
    "editable": false,
    "nbgrader": {
     "checksum": "07f0818e8bd3aa0ae79d837b56ded247",
     "grade": false,
     "grade_id": "cell-7b54e19b2a1027ae",
     "locked": true,
     "schema_version": 1,
     "solution": false
    }
   },
   "source": [
    "* Using a value of $3.14159$ for the constant $\\pi$, write a `Python` program that computes the area of a circle of radius 12.3 meter (in square meters)."
   ]
  },
  {
   "cell_type": "code",
   "execution_count": null,
   "metadata": {
    "deletable": false,
    "nbgrader": {
     "checksum": "26c77c9f024de5ead74f0cefeaa8d566",
     "grade": false,
     "grade_id": "cell-f6f6f0881a8aefa0",
     "locked": false,
     "schema_version": 1,
     "solution": true
    }
   },
   "outputs": [],
   "source": [
    "# YOUR CODE HERE\n",
    "raise NotImplementedError()"
   ]
  },
  {
   "cell_type": "code",
   "execution_count": null,
   "metadata": {
    "collapsed": true,
    "deletable": false,
    "editable": false,
    "nbgrader": {
     "checksum": "7e491e8430986b83e155316e5129edea",
     "grade": true,
     "grade_id": "cell-b766eb0c64221203",
     "locked": true,
     "points": 1,
     "schema_version": 1,
     "solution": false
    }
   },
   "outputs": [],
   "source": [
    "_input = list(filter(lambda x: x[:3] != '###', _i.split('\\n')))\n",
    "_answer = _\n",
    "assert(len(_input) == 1)\n",
    "assert(type(_answer) == float)"
   ]
  },
  {
   "cell_type": "markdown",
   "metadata": {
    "deletable": false,
    "editable": false,
    "nbgrader": {
     "checksum": "58b73074f73f749f84cabd27c0ba03e6",
     "grade": false,
     "grade_id": "cell-763c24d61a89906b",
     "locked": true,
     "schema_version": 1,
     "solution": false
    }
   },
   "source": [
    "* Think of a task that you now trust `Python` can perform, describe it in a one-line comment, and write a (one-line) `Python` program that implements the task."
   ]
  },
  {
   "cell_type": "code",
   "execution_count": null,
   "metadata": {
    "deletable": false,
    "nbgrader": {
     "checksum": "da6b2fcb4040d5167f44a373b647ddd7",
     "grade": false,
     "grade_id": "cell-b1b8f6bb362bae4e",
     "locked": false,
     "schema_version": 1,
     "solution": true
    }
   },
   "outputs": [],
   "source": [
    "#  <-- Describe task in one line here ...\n",
    "# YOUR CODE HERE\n",
    "raise NotImplementedError()"
   ]
  },
  {
   "cell_type": "code",
   "execution_count": null,
   "metadata": {
    "collapsed": true,
    "deletable": false,
    "editable": false,
    "nbgrader": {
     "checksum": "be44f13a3966bbb72330d3285e89bb43",
     "grade": true,
     "grade_id": "cell-35f5f39c669b6f7d",
     "locked": true,
     "points": 1,
     "schema_version": 1,
     "solution": false
    }
   },
   "outputs": [],
   "source": [
    "_input = list(filter(lambda x: x[:3] != '###', _i.split('\\n')))\n",
    "assert(len(_input) == 2)"
   ]
  }
 ],
 "metadata": {
  "kernelspec": {
   "display_name": "Python 3",
   "language": "python",
   "name": "python3"
  },
  "language_info": {
   "codemirror_mode": {
    "name": "ipython",
    "version": 3
   },
   "file_extension": ".py",
   "mimetype": "text/x-python",
   "name": "python",
   "nbconvert_exporter": "python",
   "pygments_lexer": "ipython3",
   "version": "3.6.1"
  }
 },
 "nbformat": 4,
 "nbformat_minor": 2
}
