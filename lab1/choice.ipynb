{
 "cells": [
  {
   "cell_type": "markdown",
   "metadata": {},
   "source": [
    "### CS102/CS103\n",
    "\n",
    "Prof. Götz Pfeiffer<br />\n",
    "School of Mathematics, Statistics and Applied Mathematics<br />\n",
    "NUI Galway\n",
    "\n",
    "# Computer Lab 1"
   ]
  },
  {
   "cell_type": "markdown",
   "metadata": {
    "deletable": false,
    "editable": false,
    "nbgrader": {
     "checksum": "06bf01f38eef37c1f586d0abc674e6a9",
     "grade": false,
     "grade_id": "cell-af95ca834dca0ee3",
     "locked": true,
     "schema_version": 1,
     "solution": false
    }
   },
   "source": [
    "## Multiple Choice\n",
    "\n",
    "For each of the following questions, choose `'a'`, `'b'`, `'c'`, or `'d'` as answer\n",
    "and type it into the cell below (with quotes)."
   ]
  },
  {
   "cell_type": "markdown",
   "metadata": {
    "deletable": false,
    "editable": false,
    "nbgrader": {
     "checksum": "cfa5cebb36970b6fae1a6ca4bf40253c",
     "grade": false,
     "grade_id": "cell-dd028c915a12160f",
     "locked": true,
     "schema_version": 1,
     "solution": false
    }
   },
   "source": [
    "What is the fundamental question of computer science?\n",
    "\n",
    "(a) How fast can a computer compute?<br />\n",
    "(b) What can be computed?<br />\n",
    "(c) What is the most efficient programming language?<br />\n",
    "(d) How much money can a programmer make?<br />\n"
   ]
  },
  {
   "cell_type": "code",
   "execution_count": null,
   "metadata": {
    "deletable": false,
    "nbgrader": {
     "checksum": "63d646b2efde9a827b09b26763b5345f",
     "grade": false,
     "grade_id": "cell-0ed9f15e2a43433b",
     "locked": false,
     "schema_version": 1,
     "solution": true
    }
   },
   "outputs": [],
   "source": [
    "# YOUR CODE HERE\n",
    "raise NotImplementedError()"
   ]
  },
  {
   "cell_type": "markdown",
   "metadata": {},
   "source": [
    "(You can use the cell below to ensure that your answer above has the correct format. You can and should not modify the content of that cell.)"
   ]
  },
  {
   "cell_type": "code",
   "execution_count": null,
   "metadata": {
    "collapsed": true,
    "deletable": false,
    "editable": false,
    "nbgrader": {
     "checksum": "618a15019b4834aacdd1613c722a210d",
     "grade": true,
     "grade_id": "cell-bcd9a91832be4ff6",
     "locked": true,
     "points": 1,
     "schema_version": 1,
     "solution": false
    }
   },
   "outputs": [],
   "source": [
    "_answer = _\n",
    "assert(type(_answer) == str)"
   ]
  },
  {
   "cell_type": "markdown",
   "metadata": {
    "deletable": false,
    "editable": false,
    "nbgrader": {
     "checksum": "d4ad8b4df591fc523c439d8170f9ee68",
     "grade": false,
     "grade_id": "cell-5afa57a699a24acf",
     "locked": true,
     "schema_version": 1,
     "solution": false
    }
   },
   "source": [
    "The sum of the integer `11000` and the floating point number `22.33` in `Python`\n",
    "produces\n",
    "\n",
    "(a) an error message, indicating that the summands have different types,<br />\n",
    "(b) an integer like `11022`,<br />\n",
    "(c) a floting point value like `11022.33`,<br />\n",
    "(d) nothing - the `Python` interpreter freezes.<br />"
   ]
  },
  {
   "cell_type": "code",
   "execution_count": null,
   "metadata": {
    "deletable": false,
    "nbgrader": {
     "checksum": "fb8585628aa95ef1c78c70fa57071a48",
     "grade": false,
     "grade_id": "cell-fb32b0afb00ac905",
     "locked": false,
     "schema_version": 1,
     "solution": true
    }
   },
   "outputs": [],
   "source": [
    "# YOUR CODE HERE\n",
    "raise NotImplementedError()"
   ]
  },
  {
   "cell_type": "markdown",
   "metadata": {},
   "source": [
    "(You can use the cell below to ensure that your answer above has the correct format. You can and should not modify the content of that cell.)"
   ]
  },
  {
   "cell_type": "code",
   "execution_count": null,
   "metadata": {
    "collapsed": true,
    "deletable": false,
    "editable": false,
    "nbgrader": {
     "checksum": "d38fba4d0093eae52646c4fccc8ec61e",
     "grade": true,
     "grade_id": "cell-8d20de70da81a5af",
     "locked": true,
     "points": 1,
     "schema_version": 1,
     "solution": false
    }
   },
   "outputs": [],
   "source": [
    "_answer = _\n",
    "assert(type(_answer) == str)"
   ]
  }
 ],
 "metadata": {
  "kernelspec": {
   "display_name": "Python 3",
   "language": "python",
   "name": "python3"
  },
  "language_info": {
   "codemirror_mode": {
    "name": "ipython",
    "version": 3
   },
   "file_extension": ".py",
   "mimetype": "text/x-python",
   "name": "python",
   "nbconvert_exporter": "python",
   "pygments_lexer": "ipython3",
   "version": "3.6.1"
  }
 },
 "nbformat": 4,
 "nbformat_minor": 2
}
