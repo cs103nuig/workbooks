{
 "cells": [
  {
   "cell_type": "markdown",
   "metadata": {},
   "source": [
    "### CS102/CS103\n",
    "\n",
    "Prof. Götz Pfeiffer<br />\n",
    "School of Mathematics, Statistics and Applied Mathematics<br />\n",
    "NUI Galway\n",
    "\n",
    "# Computer Lab 2"
   ]
  },
  {
   "cell_type": "markdown",
   "metadata": {
    "deletable": false,
    "editable": false,
    "nbgrader": {
     "checksum": "6646fc013154d8a533e1a8c530c388fd",
     "grade": false,
     "grade_id": "cell-d6a012e8bb937498",
     "locked": true,
     "schema_version": 1,
     "solution": false
    }
   },
   "source": [
    "## Multiple Choice\n",
    "\n",
    "For each of the following questions, choose `'a'`, `'b'`, `'c'`, or `'d'` as answer\n",
    "and type it into the cell below (with quotes)."
   ]
  },
  {
   "cell_type": "markdown",
   "metadata": {
    "deletable": false,
    "editable": false,
    "nbgrader": {
     "checksum": "796d32db47ed677561378a50a45798d3",
     "grade": false,
     "grade_id": "cell-f15825f25756ad0b",
     "locked": true,
     "schema_version": 1,
     "solution": false
    }
   },
   "source": [
    "* What is the correct formula for converting Celsius ($C$) into Fahrenheit ($F$)?\n",
    "\n",
    "(a) $F = \\tfrac95C + 32$<br />\n",
    "(b) $F = \\tfrac59C - 32$<br />\n",
    "(c) $F = B^2 - 4AC$<br />\n",
    "(d) $F = \\tfrac{212 - 32}{100 - 0}$<br />"
   ]
  },
  {
   "cell_type": "code",
   "execution_count": null,
   "metadata": {
    "deletable": false,
    "nbgrader": {
     "checksum": "626130cda2a293bd5b293c786999247f",
     "grade": false,
     "grade_id": "cell-7f3b0a8aadae3055",
     "locked": false,
     "schema_version": 1,
     "solution": true
    }
   },
   "outputs": [],
   "source": [
    "# YOUR CODE HERE\n",
    "raise NotImplementedError()"
   ]
  },
  {
   "cell_type": "markdown",
   "metadata": {},
   "source": [
    "(You can use the cell below to ensure that your answer above has the correct format. You can and should not modify the content of that cell.)"
   ]
  },
  {
   "cell_type": "code",
   "execution_count": null,
   "metadata": {
    "collapsed": true,
    "deletable": false,
    "editable": false,
    "nbgrader": {
     "checksum": "25cfe5c5a68f3e690ca4c828ef7221f6",
     "grade": true,
     "grade_id": "cell-e6dfd6ed30f5cb84",
     "locked": true,
     "points": 1,
     "schema_version": 1,
     "solution": false
    }
   },
   "outputs": [],
   "source": [
    "_answer = _\n",
    "assert(type(_answer) == str)"
   ]
  },
  {
   "cell_type": "markdown",
   "metadata": {
    "deletable": false,
    "editable": false,
    "nbgrader": {
     "checksum": "30bd76bbff31ecb52dbb523887b1de1a",
     "grade": false,
     "grade_id": "cell-1b01e3feff122dea",
     "locked": true,
     "schema_version": 1,
     "solution": false
    }
   },
   "source": [
    "* Which of the following is not allowed as a name of a variable in `python`?\n",
    "\n",
    "(a) `text`<br />\n",
    "(b) `tExt`<br />\n",
    "(c) `2text`<br />\n",
    "(d) `text4U`<br />"
   ]
  },
  {
   "cell_type": "code",
   "execution_count": null,
   "metadata": {
    "deletable": false,
    "nbgrader": {
     "checksum": "82eab6db4d069e035268a82162906c2d",
     "grade": false,
     "grade_id": "cell-71b89bc951301d9d",
     "locked": false,
     "schema_version": 1,
     "solution": true
    }
   },
   "outputs": [],
   "source": [
    "# YOUR CODE HERE\n",
    "raise NotImplementedError()"
   ]
  },
  {
   "cell_type": "markdown",
   "metadata": {},
   "source": [
    "(You can use the cell below to ensure that your answer above has the correct format. You can and should not modify the content of that cell.)"
   ]
  },
  {
   "cell_type": "code",
   "execution_count": null,
   "metadata": {
    "collapsed": true,
    "deletable": false,
    "editable": false,
    "nbgrader": {
     "checksum": "a1d65a6ee785252aa7795ba2042403da",
     "grade": true,
     "grade_id": "cell-79e46bbdf1a93e4e",
     "locked": true,
     "points": 1,
     "schema_version": 1,
     "solution": false
    }
   },
   "outputs": [],
   "source": [
    "_answer = _\n",
    "assert(type(_answer) == str)"
   ]
  },
  {
   "cell_type": "markdown",
   "metadata": {
    "deletable": false,
    "editable": false,
    "nbgrader": {
     "checksum": "ef06164a925021a8c2c272eee521837f",
     "grade": false,
     "grade_id": "cell-47b94c6766d2e7a7",
     "locked": true,
     "schema_version": 1,
     "solution": false
    }
   },
   "source": [
    "* Which of the following are not used in `python` expressions?\n",
    "\n",
    "(a) variables<br />\n",
    "(b) statements<br />\n",
    "(c) operators<br />\n",
    "(d) integers<br />"
   ]
  },
  {
   "cell_type": "code",
   "execution_count": null,
   "metadata": {
    "deletable": false,
    "nbgrader": {
     "checksum": "d74e818bb3dcb98720e2fd7c7256f77f",
     "grade": false,
     "grade_id": "cell-71f482cfef68d681",
     "locked": false,
     "schema_version": 1,
     "solution": true
    }
   },
   "outputs": [],
   "source": [
    "# YOUR CODE HERE\n",
    "raise NotImplementedError()"
   ]
  },
  {
   "cell_type": "markdown",
   "metadata": {},
   "source": [
    "(You can use the cell below to ensure that your answer above has the correct format. You can and should not modify the content of that cell.)"
   ]
  },
  {
   "cell_type": "code",
   "execution_count": null,
   "metadata": {
    "collapsed": true,
    "deletable": false,
    "editable": false,
    "nbgrader": {
     "checksum": "2aa28cc39134b115503f5bd7248d8148",
     "grade": true,
     "grade_id": "cell-8156977a30c7d5bb",
     "locked": true,
     "points": 1,
     "schema_version": 1,
     "solution": false
    }
   },
   "outputs": [],
   "source": [
    "_answer = _\n",
    "assert(type(_answer) == str)"
   ]
  },
  {
   "cell_type": "markdown",
   "metadata": {
    "deletable": false,
    "editable": false,
    "nbgrader": {
     "checksum": "118b57700b53a406b8a4a865b4f3d111",
     "grade": false,
     "grade_id": "cell-18393416b0d0bef7",
     "locked": true,
     "schema_version": 1,
     "solution": false
    }
   },
   "source": [
    "* A fragment of code that produces or calculates a new data value is called\n",
    "\n",
    "(a) variable<br />\n",
    "(b) expression<br />\n",
    "(c) productive clause<br />\n",
    "(d) assignment statement<br />"
   ]
  },
  {
   "cell_type": "code",
   "execution_count": null,
   "metadata": {
    "deletable": false,
    "nbgrader": {
     "checksum": "8a6f671e857d9db3b2188d2317a6731a",
     "grade": false,
     "grade_id": "cell-2b84fca4c67e4ddf",
     "locked": false,
     "schema_version": 1,
     "solution": true
    }
   },
   "outputs": [],
   "source": [
    "# YOUR CODE HERE\n",
    "raise NotImplementedError()"
   ]
  },
  {
   "cell_type": "markdown",
   "metadata": {},
   "source": [
    "(You can use the cell below to ensure that your answer above has the correct format. You can and should not modify the content of that cell.)"
   ]
  },
  {
   "cell_type": "code",
   "execution_count": null,
   "metadata": {
    "collapsed": true,
    "deletable": false,
    "editable": false,
    "nbgrader": {
     "checksum": "714fa3fec880910c4ab79522d25b94bd",
     "grade": true,
     "grade_id": "cell-561788102c2888e4",
     "locked": true,
     "points": 1,
     "schema_version": 1,
     "solution": false
    }
   },
   "outputs": [],
   "source": [
    "_answer = _\n",
    "assert(type(_answer) == str)"
   ]
  },
  {
   "cell_type": "markdown",
   "metadata": {
    "deletable": false,
    "editable": false,
    "nbgrader": {
     "checksum": "8dbf9f754be33d4f64a06b66756989e1",
     "grade": false,
     "grade_id": "cell-6ea943e346dc3cba",
     "locked": true,
     "schema_version": 1,
     "solution": false
    }
   },
   "source": [
    "* For the following copy of the chaos program, select **all the statements** below which are true,\n",
    "and submit their letters in one string as your answer.  (That is `\"abc\"` if you think statements (a), (b) \n",
    "and (c) are true, and all other statements are false.)\n",
    "```python\n",
    "# A simple program illustrating chaotic behavior\n",
    "x = 0.25\n",
    "for i in range(10):\n",
    "    x = 3.9 * x * (1 - x)\n",
    "    print(x)\n",
    "```\n",
    "\n",
    "(a) The only variable in this program is `x`.<br />\n",
    "(b) The line `for i in range(10):` is a complete statement.<br />\n",
    "(c) The line starting with `#` is a comment.<br />\n",
    "(d) There are exactly two assigment statements in this program.<br />\n",
    "(e) The code fragment `range(10)` is an expression.<br />\n",
    "(f) The program would work in the same way if the last two lines were  not indented by spaces.<br />"
   ]
  },
  {
   "cell_type": "code",
   "execution_count": null,
   "metadata": {
    "deletable": false,
    "nbgrader": {
     "checksum": "53e560f60122fbcb9e3accf298a58d0b",
     "grade": false,
     "grade_id": "cell-4b82b99f9303984a",
     "locked": false,
     "schema_version": 1,
     "solution": true
    }
   },
   "outputs": [],
   "source": [
    "# YOUR CODE HERE\n",
    "raise NotImplementedError()"
   ]
  },
  {
   "cell_type": "markdown",
   "metadata": {},
   "source": [
    "(You can use the cell below to ensure that your answer above has the correct format. You can and should not modify the content of that cell.)"
   ]
  },
  {
   "cell_type": "code",
   "execution_count": null,
   "metadata": {
    "collapsed": true,
    "deletable": false,
    "editable": false,
    "nbgrader": {
     "checksum": "9b62049b4da01cc654edf08ca3e8da15",
     "grade": true,
     "grade_id": "cell-70b9ecd58f8642e8",
     "locked": true,
     "points": 3,
     "schema_version": 1,
     "solution": false
    }
   },
   "outputs": [],
   "source": [
    "_answer = _\n",
    "assert(type(_answer) == str)"
   ]
  }
 ],
 "metadata": {
  "kernelspec": {
   "display_name": "Python 3",
   "language": "python",
   "name": "python3"
  },
  "language_info": {
   "codemirror_mode": {
    "name": "ipython",
    "version": 3
   },
   "file_extension": ".py",
   "mimetype": "text/x-python",
   "name": "python",
   "nbconvert_exporter": "python",
   "pygments_lexer": "ipython3",
   "version": "3.6.1"
  }
 },
 "nbformat": 4,
 "nbformat_minor": 2
}
