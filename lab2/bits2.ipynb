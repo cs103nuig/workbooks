{
 "cells": [
  {
   "cell_type": "markdown",
   "metadata": {},
   "source": [
    "### CS102/CS103\n",
    "\n",
    "Prof. Götz Pfeiffer<br />\n",
    "School of Mathematics, Statistics and Applied Mathematics<br />\n",
    "NUI Galway\n",
    "\n",
    "# Computer Lab 2"
   ]
  },
  {
   "cell_type": "markdown",
   "metadata": {
    "collapsed": true
   },
   "source": [
    "## True or False\n",
    "\n",
    "Each of the following statements is either true or false.\n",
    "Delete the current content of the cell below the statement.\n",
    "Then type in your answer as either `True` or `False`\n",
    "(with a captial `T` or `F`)."
   ]
  },
  {
   "cell_type": "markdown",
   "metadata": {
    "deletable": false,
    "editable": false,
    "nbgrader": {
     "checksum": "923883c9501928d87c9ba5b21d15196c",
     "grade": false,
     "grade_id": "cell-1c7cc9f1d3356032",
     "locked": true,
     "schema_version": 1,
     "solution": false
    }
   },
   "source": [
    "* Names (identifiers) in a `python` program must start with a letter or an underscore (`_`)."
   ]
  },
  {
   "cell_type": "code",
   "execution_count": null,
   "metadata": {
    "deletable": false,
    "nbgrader": {
     "checksum": "ca8601497ccfcaa3687032bdf780dc68",
     "grade": false,
     "grade_id": "cell-73f48fe9d723d2b1",
     "locked": false,
     "schema_version": 1,
     "solution": true
    }
   },
   "outputs": [],
   "source": [
    "# YOUR CODE HERE\n",
    "raise NotImplementedError()"
   ]
  },
  {
   "cell_type": "markdown",
   "metadata": {},
   "source": [
    "(You can use the cell below to ensure that your answer above has the correct format. You can and should not\n",
    "modify the content of that cell.)"
   ]
  },
  {
   "cell_type": "code",
   "execution_count": null,
   "metadata": {
    "collapsed": true,
    "deletable": false,
    "editable": false,
    "nbgrader": {
     "checksum": "4f68ffef95134f797652cfdf1a41712b",
     "grade": true,
     "grade_id": "cell-cbd0538cd1659bda",
     "locked": true,
     "points": 1,
     "schema_version": 1,
     "solution": false
    }
   },
   "outputs": [],
   "source": [
    "_answer = _\n",
    "assert(type(_answer) == bool)"
   ]
  },
  {
   "cell_type": "markdown",
   "metadata": {
    "deletable": false,
    "editable": false,
    "nbgrader": {
     "checksum": "a283a8f72b13267ea8fa9f1ec52b683a",
     "grade": false,
     "grade_id": "cell-da3b4ad18281228c",
     "locked": true,
     "schema_version": 1,
     "solution": false
    }
   },
   "source": [
    "* In `python`, `x = x + 1` is a legal statement."
   ]
  },
  {
   "cell_type": "code",
   "execution_count": null,
   "metadata": {
    "deletable": false,
    "nbgrader": {
     "checksum": "25be1ad96ee680e20bc23eb60c84abd5",
     "grade": false,
     "grade_id": "cell-fac1a561d0c77951",
     "locked": false,
     "schema_version": 1,
     "solution": true
    }
   },
   "outputs": [],
   "source": [
    "# YOUR CODE HERE\n",
    "raise NotImplementedError()"
   ]
  },
  {
   "cell_type": "markdown",
   "metadata": {},
   "source": [
    "(You can use the cell below to ensure that your answer above has the correct format. You can and should not\n",
    "modify the content of that cell.)"
   ]
  },
  {
   "cell_type": "code",
   "execution_count": null,
   "metadata": {
    "collapsed": true,
    "deletable": false,
    "editable": false,
    "nbgrader": {
     "checksum": "589a28fa57ef9a9f8c60c41702107e1f",
     "grade": true,
     "grade_id": "cell-a6d235127c6f1743",
     "locked": true,
     "points": 1,
     "schema_version": 1,
     "solution": false
    }
   },
   "outputs": [],
   "source": [
    "_answer = _\n",
    "assert(type(_answer) == bool)"
   ]
  },
  {
   "cell_type": "markdown",
   "metadata": {
    "deletable": false,
    "editable": false,
    "nbgrader": {
     "checksum": "e098ebc00032f700a5d561bc6bd67c6a",
     "grade": false,
     "grade_id": "cell-a471ca9098e6f1fe",
     "locked": true,
     "schema_version": 1,
     "solution": false
    }
   },
   "source": [
    "* A variable is used to give a name to a value so it can be referred to in other places."
   ]
  },
  {
   "cell_type": "code",
   "execution_count": null,
   "metadata": {
    "deletable": false,
    "nbgrader": {
     "checksum": "7a7bd028c6807989506aa1f42dbcc24b",
     "grade": false,
     "grade_id": "cell-7249bb6b69ddb7f4",
     "locked": false,
     "schema_version": 1,
     "solution": true
    }
   },
   "outputs": [],
   "source": [
    "# YOUR CODE HERE\n",
    "raise NotImplementedError()"
   ]
  },
  {
   "cell_type": "markdown",
   "metadata": {},
   "source": [
    "(You can use the cell below to ensure that your answer above has the correct format. You can and should not\n",
    "modify the content of that cell.)"
   ]
  },
  {
   "cell_type": "code",
   "execution_count": null,
   "metadata": {
    "collapsed": true,
    "deletable": false,
    "editable": false,
    "nbgrader": {
     "checksum": "e36c07a5de866c836003c08a51953114",
     "grade": true,
     "grade_id": "cell-1c5cccaaacf8695d",
     "locked": true,
     "points": 1,
     "schema_version": 1,
     "solution": false
    }
   },
   "outputs": [],
   "source": [
    "_answer = _\n",
    "assert(type(_answer) == bool)"
   ]
  },
  {
   "cell_type": "markdown",
   "metadata": {
    "deletable": false,
    "editable": false,
    "nbgrader": {
     "checksum": "e4724ce1c36f3ffb9308651295f94767",
     "grade": false,
     "grade_id": "cell-f766c70829c2cb22",
     "locked": true,
     "schema_version": 1,
     "solution": false
    }
   },
   "source": [
    "* A loop is used to skip over a section of a program."
   ]
  },
  {
   "cell_type": "code",
   "execution_count": null,
   "metadata": {
    "deletable": false,
    "nbgrader": {
     "checksum": "7e331b9021b3ce090f056c0d5714321a",
     "grade": false,
     "grade_id": "cell-7b38d02a2e150dde",
     "locked": false,
     "schema_version": 1,
     "solution": true
    }
   },
   "outputs": [],
   "source": [
    "# YOUR CODE HERE\n",
    "raise NotImplementedError()"
   ]
  },
  {
   "cell_type": "markdown",
   "metadata": {},
   "source": [
    "(You can use the cell below to ensure that your answer above has the correct format. You can and should not\n",
    "modify the content of that cell.)"
   ]
  },
  {
   "cell_type": "code",
   "execution_count": null,
   "metadata": {
    "collapsed": true,
    "deletable": false,
    "editable": false,
    "nbgrader": {
     "checksum": "1020a6c1196e948ac6c2725c32628919",
     "grade": true,
     "grade_id": "cell-0fcd6e1c3bb16afc",
     "locked": true,
     "points": 1,
     "schema_version": 1,
     "solution": false
    }
   },
   "outputs": [],
   "source": [
    "_answer = _\n",
    "assert(type(_answer) == bool)"
   ]
  }
 ],
 "metadata": {
  "kernelspec": {
   "display_name": "Python 3",
   "language": "python",
   "name": "python3"
  },
  "language_info": {
   "codemirror_mode": {
    "name": "ipython",
    "version": 3
   },
   "file_extension": ".py",
   "mimetype": "text/x-python",
   "name": "python",
   "nbconvert_exporter": "python",
   "pygments_lexer": "ipython3",
   "version": "3.6.1"
  }
 },
 "nbformat": 4,
 "nbformat_minor": 2
}
