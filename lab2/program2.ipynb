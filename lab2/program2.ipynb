{
 "cells": [
  {
   "cell_type": "markdown",
   "metadata": {},
   "source": [
    "### CS102/CS103\n",
    "\n",
    "Prof. Götz Pfeiffer<br />\n",
    "School of Mathematics, Statistics and Applied Mathematics<br />\n",
    "NUI Galway\n",
    "\n",
    "# Computer Lab 2"
   ]
  },
  {
   "cell_type": "markdown",
   "metadata": {
    "deletable": false,
    "editable": false,
    "nbgrader": {
     "checksum": "407cd1f3aa6d0ba600fa09f946af164c",
     "grade": false,
     "grade_id": "cell-32eab3b5840e89dd",
     "locked": true,
     "schema_version": 1,
     "solution": false
    }
   },
   "source": [
    "##  Programming Exercises\n",
    "\n",
    "In this part of the practical you will write some simple `python` programs in **minimal IPO format**,\n",
    "designed to work smoothly with the `python` cells in the notebook.\n",
    "Such a program consists of **exactly 4 lines**:\n",
    "\n",
    "1. A **comment**, describing what the program does.\n",
    "2. (I) An **input value** is assigned to a variable;\n",
    "3. (P) The value is **processed** and the result is assigned to another variable;\n",
    "4. (O) The variable containing the result on its own, to print that value below the cell.\n",
    "\n",
    "You can use the cells below each answer box to check if your answer has the correct format.  "
   ]
  },
  {
   "cell_type": "markdown",
   "metadata": {},
   "source": [
    "Here is a copy of the temperature converter in minimal IPO format:"
   ]
  },
  {
   "cell_type": "code",
   "execution_count": null,
   "metadata": {},
   "outputs": [],
   "source": [
    "# This cell contains code to convert Fahrenheit into Celsius\n",
    "fahrenheit = 77\n",
    "celsius = (fahrenheit - 32) * 5 / 9\n",
    "celsius"
   ]
  },
  {
   "cell_type": "markdown",
   "metadata": {},
   "source": [
    "Executing the cell will convert the given Fahrenheit temperature int Celsius and print\n",
    "the resulting value below the cell.  To convert a different Fahrenheit temperature, simply\n",
    "replace the given value in the second line.  What is 69F in Celsius? (No points for the correct answer.)"
   ]
  },
  {
   "cell_type": "markdown",
   "metadata": {
    "deletable": false,
    "editable": false,
    "nbgrader": {
     "checksum": "6c3699cf6cbb570039d3ff2a1e44b11b",
     "grade": false,
     "grade_id": "cell-4d4331ad32cbfc49",
     "locked": true,
     "schema_version": 1,
     "solution": false
    }
   },
   "source": [
    "* In the cell below, write a `python` program that converts Celsius into Fahrenheit."
   ]
  },
  {
   "cell_type": "code",
   "execution_count": null,
   "metadata": {
    "deletable": false,
    "nbgrader": {
     "checksum": "6680e5f639273846da07b09a43866784",
     "grade": false,
     "grade_id": "cell-a5eb5dfa0d18d39f",
     "locked": false,
     "schema_version": 1,
     "solution": true
    }
   },
   "outputs": [],
   "source": [
    "# This cell contains code to convert Celsius into Fahrenheit\n",
    "celsius = 25\n",
    "# YOUR CODE HERE\n",
    "raise NotImplementedError()"
   ]
  },
  {
   "cell_type": "markdown",
   "metadata": {},
   "source": [
    "(You can use the cell below to check if your code has the required 4 lines.)"
   ]
  },
  {
   "cell_type": "code",
   "execution_count": null,
   "metadata": {
    "collapsed": true,
    "deletable": false,
    "editable": false,
    "nbgrader": {
     "checksum": "b3719d4871f6d7161effda52c197c3a5",
     "grade": true,
     "grade_id": "cell-a418aa9c8b8aa460",
     "locked": true,
     "points": 2,
     "schema_version": 1,
     "solution": false
    }
   },
   "outputs": [],
   "source": [
    "_input = list(filter(lambda x: x[:3] != '###', _i.split('\\n')))\n",
    "assert(len(_input) == 4)"
   ]
  },
  {
   "cell_type": "markdown",
   "metadata": {
    "deletable": false,
    "editable": false,
    "nbgrader": {
     "checksum": "2e36c6e459cadf9dfcac51ebf5a6d190",
     "grade": false,
     "grade_id": "cell-5052d4c1b896367d",
     "locked": true,
     "schema_version": 1,
     "solution": false
    }
   },
   "source": [
    "* In the cell below, write a `python` program that converts distances measured in kilometres to miles.\n",
    "(Hint: [wikipedia](http://en.wikipedia.org/wiki/Mile))"
   ]
  },
  {
   "cell_type": "code",
   "execution_count": null,
   "metadata": {
    "deletable": false,
    "nbgrader": {
     "checksum": "14aaec1e1f5a61dbdab35dc3da13cad0",
     "grade": false,
     "grade_id": "cell-ac196efba8bd8713",
     "locked": false,
     "schema_version": 1,
     "solution": true
    }
   },
   "outputs": [],
   "source": [
    "# YOUR CODE HERE\n",
    "raise NotImplementedError()"
   ]
  },
  {
   "cell_type": "markdown",
   "metadata": {},
   "source": [
    "(You can use the cell below to check if your code has the required 4 lines.)"
   ]
  },
  {
   "cell_type": "code",
   "execution_count": null,
   "metadata": {
    "collapsed": true,
    "deletable": false,
    "editable": false,
    "nbgrader": {
     "checksum": "f7a136685f209e7e748c7903731f4bbf",
     "grade": true,
     "grade_id": "cell-bf618229ee7b7046",
     "locked": true,
     "points": 2,
     "schema_version": 1,
     "solution": false
    }
   },
   "outputs": [],
   "source": [
    "_input = list(filter(lambda x: x[:3] != '###', _i.split('\\n')))\n",
    "assert(len(_input) == 4)"
   ]
  },
  {
   "cell_type": "markdown",
   "metadata": {
    "collapsed": true
   },
   "source": [
    "Here is a copy of the average calculator in minimal IPO format"
   ]
  },
  {
   "cell_type": "code",
   "execution_count": null,
   "metadata": {},
   "outputs": [],
   "source": [
    "# This cell contains code to compute the average of two exam scores\n",
    "score1, score2 = 96, 99\n",
    "average = (score1 + score2) / 2\n",
    "average"
   ]
  },
  {
   "cell_type": "markdown",
   "metadata": {
    "deletable": false,
    "editable": false,
    "nbgrader": {
     "checksum": "d8573a0593966283b368426249fb5e24",
     "grade": false,
     "grade_id": "cell-23439348f87aa6f1",
     "locked": true,
     "schema_version": 1,
     "solution": false
    }
   },
   "source": [
    "* In the cell below, write a `python` program that computes the average of **three** exam scores."
   ]
  },
  {
   "cell_type": "code",
   "execution_count": null,
   "metadata": {
    "deletable": false,
    "nbgrader": {
     "checksum": "7fda83a4d8a83ea74394dcafd9b371a5",
     "grade": false,
     "grade_id": "cell-b9029bbf5d1badea",
     "locked": false,
     "schema_version": 1,
     "solution": true
    }
   },
   "outputs": [],
   "source": [
    "# YOUR CODE HERE\n",
    "raise NotImplementedError()"
   ]
  },
  {
   "cell_type": "markdown",
   "metadata": {},
   "source": [
    "(You can use the cell below to check if your code has the required 4 lines.)"
   ]
  },
  {
   "cell_type": "code",
   "execution_count": null,
   "metadata": {
    "collapsed": true,
    "deletable": false,
    "editable": false,
    "nbgrader": {
     "checksum": "5bb7672096a121e4d8b4a7057846069d",
     "grade": true,
     "grade_id": "cell-09ee198283484667",
     "locked": true,
     "points": 2,
     "schema_version": 1,
     "solution": false
    }
   },
   "outputs": [],
   "source": [
    "_input = list(filter(lambda x: x[:3] != '###', _i.split('\\n')))\n",
    "assert(len(_input) == 4)"
   ]
  },
  {
   "cell_type": "markdown",
   "metadata": {
    "deletable": false,
    "editable": false,
    "nbgrader": {
     "checksum": "58486f6a223a373e345347f9d89a4010",
     "grade": false,
     "grade_id": "cell-c2254b6bff234815",
     "locked": true,
     "schema_version": 1,
     "solution": false
    }
   },
   "source": [
    "* In the cell below, write a `python` program that converts a length measured in feet and inches into centimetres.\n",
    "Use simultaneous assignment for the values of `feet` and `inches`.\n",
    "(Hint. [wikipedia](http://en.wikipedia.org/wiki/Imperial_units))"
   ]
  },
  {
   "cell_type": "code",
   "execution_count": null,
   "metadata": {
    "deletable": false,
    "nbgrader": {
     "checksum": "31382c3984022cdc2db34916263c7ca4",
     "grade": false,
     "grade_id": "cell-909ad4a4a7e98bc2",
     "locked": false,
     "schema_version": 1,
     "solution": true
    }
   },
   "outputs": [],
   "source": [
    "# This cell contains a program that converts feet and inches into centimetres.\n",
    "feet, inches = 6, 4  # six foot 4 ...\n",
    "# YOUR CODE HERE\n",
    "raise NotImplementedError()"
   ]
  },
  {
   "cell_type": "markdown",
   "metadata": {},
   "source": [
    "(You can use the cell below to check if your code has the required 4 lines.)"
   ]
  },
  {
   "cell_type": "code",
   "execution_count": null,
   "metadata": {
    "collapsed": true,
    "deletable": false,
    "editable": false,
    "nbgrader": {
     "checksum": "4da557a29b58b10f11b89ebf40a4b183",
     "grade": true,
     "grade_id": "cell-cd93c0e1b64ceda2",
     "locked": true,
     "points": 2,
     "schema_version": 1,
     "solution": false
    }
   },
   "outputs": [],
   "source": [
    "_input = list(filter(lambda x: x[:3] != '###', _i.split('\\n')))\n",
    "assert(len(_input) == 4)"
   ]
  },
  {
   "cell_type": "markdown",
   "metadata": {
    "deletable": false,
    "editable": false,
    "nbgrader": {
     "checksum": "e14b946edb1d813f1374f198edc5be45",
     "grade": false,
     "grade_id": "cell-83861b7e35ea1421",
     "locked": true,
     "schema_version": 1,
     "solution": false
    }
   },
   "source": [
    "* In the cell below, write a `python` program that converts miles per gallon into litres per 100 kilometres."
   ]
  },
  {
   "cell_type": "code",
   "execution_count": null,
   "metadata": {
    "deletable": false,
    "nbgrader": {
     "checksum": "348f2a831abc83943bd385e7f58a78e0",
     "grade": false,
     "grade_id": "cell-ce7f5905a870be65",
     "locked": false,
     "schema_version": 1,
     "solution": true
    }
   },
   "outputs": [],
   "source": [
    "# YOUR CODE HERE\n",
    "raise NotImplementedError()"
   ]
  },
  {
   "cell_type": "markdown",
   "metadata": {},
   "source": [
    "(You can use the cell below to check if your code has the required 4 lines.)"
   ]
  },
  {
   "cell_type": "code",
   "execution_count": null,
   "metadata": {
    "collapsed": true,
    "deletable": false,
    "editable": false,
    "nbgrader": {
     "checksum": "b2d65aba2bb8fea622e0851f88abfce4",
     "grade": true,
     "grade_id": "cell-8a93881a9d0acb4f",
     "locked": true,
     "points": 2,
     "schema_version": 1,
     "solution": false
    }
   },
   "outputs": [],
   "source": [
    "_input = list(filter(lambda x: x[:3] != '###', _i.split('\\n')))\n",
    "assert(len(_input) == 4)"
   ]
  },
  {
   "cell_type": "code",
   "execution_count": null,
   "metadata": {
    "collapsed": true
   },
   "outputs": [],
   "source": []
  }
 ],
 "metadata": {
  "kernelspec": {
   "display_name": "Python 3",
   "language": "python",
   "name": "python3"
  },
  "language_info": {
   "codemirror_mode": {
    "name": "ipython",
    "version": 3
   },
   "file_extension": ".py",
   "mimetype": "text/x-python",
   "name": "python",
   "nbconvert_exporter": "python",
   "pygments_lexer": "ipython3",
   "version": "3.6.1"
  }
 },
 "nbformat": 4,
 "nbformat_minor": 2
}
