{
 "cells": [
  {
   "cell_type": "markdown",
   "metadata": {},
   "source": [
    "### CS102/CS103\n",
    "\n",
    "Prof. Götz Pfeiffer<br />\n",
    "School of Mathematics, Statistics and Applied Mathematics<br />\n",
    "NUI Galway\n",
    "\n",
    "# Computer Lab 3"
   ]
  },
  {
   "cell_type": "markdown",
   "metadata": {
    "deletable": false,
    "editable": false,
    "nbgrader": {
     "checksum": "b0fce2dbcf61709de2632a2625431cd6",
     "grade": false,
     "grade_id": "cell-2021f0989cd83349",
     "locked": true,
     "schema_version": 1,
     "solution": false
    }
   },
   "source": [
    "## Multiple Choice\n",
    "\n",
    "For each of the following questions, choose `'a'`, `'b'`, `'c'`, or `'d'` as answer\n",
    "and type it into the cell below (with quotes)."
   ]
  },
  {
   "cell_type": "markdown",
   "metadata": {
    "deletable": false,
    "editable": false,
    "nbgrader": {
     "checksum": "98bea7877bfe9033981c22f9c62abd96",
     "grade": false,
     "grade_id": "cell-d479c06fb4444fda",
     "locked": true,
     "schema_version": 1,
     "solution": false
    }
   },
   "source": [
    "* The template \n",
    "```\n",
    "for <variable> in range( <expr> ):\n",
    "    <body>\n",
    "```\n",
    "describes a\n",
    "\n",
    "(a) a general loop<br />\n",
    "(b) an assignemnent statement<br />\n",
    "(c) a flowchart<br />\n",
    "(d) a counted loop<br />"
   ]
  },
  {
   "cell_type": "code",
   "execution_count": null,
   "metadata": {
    "deletable": false,
    "nbgrader": {
     "checksum": "59d6b943104f913d69e6d580dad5d90e",
     "grade": false,
     "grade_id": "cell-96a7d6eca134cef2",
     "locked": false,
     "schema_version": 1,
     "solution": true
    }
   },
   "outputs": [],
   "source": [
    "# YOUR CODE HERE\n",
    "raise NotImplementedError()"
   ]
  },
  {
   "cell_type": "markdown",
   "metadata": {},
   "source": [
    "(You can use the cell below to ensure that your answer above has the correct format. You can and should not modify the content of that cell.)"
   ]
  },
  {
   "cell_type": "code",
   "execution_count": null,
   "metadata": {
    "collapsed": true,
    "deletable": false,
    "editable": false,
    "nbgrader": {
     "checksum": "cf892837358f340507b5168959d5d889",
     "grade": true,
     "grade_id": "cell-fc977ed8c2f36d06",
     "locked": true,
     "points": 1,
     "schema_version": 1,
     "solution": false
    }
   },
   "outputs": [],
   "source": [
    "_answer = _\n",
    "assert(type(_answer) == str)"
   ]
  },
  {
   "cell_type": "markdown",
   "metadata": {
    "deletable": false,
    "editable": false,
    "nbgrader": {
     "checksum": "9239a2f548b76fa25745659707e1432f",
     "grade": false,
     "grade_id": "cell-80d65011ece25501",
     "locked": true,
     "schema_version": 1,
     "solution": false
    }
   },
   "source": [
    "* Which of the following is not a built-in operation in `python`?\n",
    "\n",
    "(a) `+`<br />\n",
    "(b) `%`<br />\n",
    "(c) `sqrt()`<br />\n",
    "(d) `abs()`<br />"
   ]
  },
  {
   "cell_type": "code",
   "execution_count": null,
   "metadata": {
    "deletable": false,
    "nbgrader": {
     "checksum": "5bd6a4dcc6fe1deb6f96e2e1d58bfff6",
     "grade": false,
     "grade_id": "cell-2494c251693a75d8",
     "locked": false,
     "schema_version": 1,
     "solution": true
    }
   },
   "outputs": [],
   "source": [
    "# YOUR CODE HERE\n",
    "raise NotImplementedError()"
   ]
  },
  {
   "cell_type": "markdown",
   "metadata": {},
   "source": [
    "(You can use the cell below to ensure that your answer above has the correct format. You can and should not modify the content of that cell.)"
   ]
  },
  {
   "cell_type": "code",
   "execution_count": null,
   "metadata": {
    "collapsed": true,
    "deletable": false,
    "editable": false,
    "nbgrader": {
     "checksum": "b72343daf30fbf215223f1e279d9e53e",
     "grade": true,
     "grade_id": "cell-8134c2e463c21f04",
     "locked": true,
     "points": 1,
     "schema_version": 1,
     "solution": false
    }
   },
   "outputs": [],
   "source": [
    "_answer = _\n",
    "assert(type(_answer) == str)"
   ]
  },
  {
   "cell_type": "markdown",
   "metadata": {
    "deletable": false,
    "editable": false,
    "nbgrader": {
     "checksum": "74f07ce3a7360b481d554f691b22b85d",
     "grade": false,
     "grade_id": "cell-26a0bc9ce1544392",
     "locked": true,
     "schema_version": 1,
     "solution": false
    }
   },
   "source": [
    "* In order to use functions from the `math` library, a program must include\n",
    "\n",
    "(a) a comment<br />\n",
    "(b) a loop<br />\n",
    "(c) an operator<br />\n",
    "(d) an `import` statement<br />"
   ]
  },
  {
   "cell_type": "code",
   "execution_count": null,
   "metadata": {
    "deletable": false,
    "nbgrader": {
     "checksum": "99d1b7b4d142b3e95d1863440fd468ca",
     "grade": false,
     "grade_id": "cell-8fbaed3d68a4720c",
     "locked": false,
     "schema_version": 1,
     "solution": true
    }
   },
   "outputs": [],
   "source": [
    "# YOUR CODE HERE\n",
    "raise NotImplementedError()"
   ]
  },
  {
   "cell_type": "markdown",
   "metadata": {},
   "source": [
    "(You can use the cell below to ensure that your answer above has the correct format. You can and should not modify the content of that cell.)"
   ]
  },
  {
   "cell_type": "code",
   "execution_count": null,
   "metadata": {
    "collapsed": true,
    "deletable": false,
    "editable": false,
    "nbgrader": {
     "checksum": "401b39ae70f1f9135d1ea21430f58605",
     "grade": true,
     "grade_id": "cell-f6722a93060a273f",
     "locked": true,
     "points": 1,
     "schema_version": 1,
     "solution": false
    }
   },
   "outputs": [],
   "source": [
    "_answer = _\n",
    "assert(type(_answer) == str)"
   ]
  }
 ],
 "metadata": {
  "kernelspec": {
   "display_name": "Python 3",
   "language": "python",
   "name": "python3"
  },
  "language_info": {
   "codemirror_mode": {
    "name": "ipython",
    "version": 3
   },
   "file_extension": ".py",
   "mimetype": "text/x-python",
   "name": "python",
   "nbconvert_exporter": "python",
   "pygments_lexer": "ipython3",
   "version": "3.6.1"
  }
 },
 "nbformat": 4,
 "nbformat_minor": 2
}
