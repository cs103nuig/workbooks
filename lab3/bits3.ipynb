{
 "cells": [
  {
   "cell_type": "markdown",
   "metadata": {},
   "source": [
    "### CS102/CS103\n",
    "\n",
    "Prof. Götz Pfeiffer<br />\n",
    "School of Mathematics, Statistics and Applied Mathematics<br />\n",
    "NUI Galway\n",
    "\n",
    "# Computer Lab 3"
   ]
  },
  {
   "cell_type": "markdown",
   "metadata": {
    "collapsed": true,
    "deletable": false,
    "editable": false,
    "nbgrader": {
     "checksum": "169e1d97809026870cf377e29f568d3d",
     "grade": false,
     "grade_id": "cell-a8085c9720e29e25",
     "locked": true,
     "schema_version": 1,
     "solution": false
    }
   },
   "source": [
    "## True or False\n",
    "\n",
    "Each of the following statements is either true or false.\n",
    "Delete the current content of the cell below the statement.\n",
    "Then type in your answer as either `True` or `False`\n",
    "(with a captial `T` or `F`)."
   ]
  },
  {
   "cell_type": "markdown",
   "metadata": {
    "deletable": false,
    "editable": false,
    "nbgrader": {
     "checksum": "5d80c264d04706ed732da2b2392d848e",
     "grade": false,
     "grade_id": "cell-5c4cb244834784e6",
     "locked": true,
     "schema_version": 1,
     "solution": false
    }
   },
   "source": [
    "* A counted loop is designed to iterate a specific number of times."
   ]
  },
  {
   "cell_type": "code",
   "execution_count": null,
   "metadata": {
    "deletable": false,
    "nbgrader": {
     "checksum": "4d3a5d39bf119b3753a9d8bd662d01f4",
     "grade": false,
     "grade_id": "cell-03f2c52fc875fd45",
     "locked": false,
     "schema_version": 1,
     "solution": true
    }
   },
   "outputs": [],
   "source": [
    "# YOUR CODE HERE\n",
    "raise NotImplementedError()"
   ]
  },
  {
   "cell_type": "markdown",
   "metadata": {},
   "source": [
    "(You can use the cell below to ensure that your answer above has the correct format. You can and should not\n",
    "modify the content of that cell.)"
   ]
  },
  {
   "cell_type": "code",
   "execution_count": null,
   "metadata": {
    "collapsed": true,
    "deletable": false,
    "editable": false,
    "nbgrader": {
     "checksum": "ffe2b2faffb3d3e324ee35c9c66a1476",
     "grade": true,
     "grade_id": "cell-dcf0aeae52ba989d",
     "locked": true,
     "points": 1,
     "schema_version": 1,
     "solution": false
    }
   },
   "outputs": [],
   "source": [
    "_answer = _\n",
    "assert(type(_answer) == bool)"
   ]
  },
  {
   "cell_type": "markdown",
   "metadata": {
    "deletable": false,
    "editable": false,
    "nbgrader": {
     "checksum": "0d17fc2c561d75a538add23f15333005",
     "grade": false,
     "grade_id": "cell-a12646f99046d1c0",
     "locked": true,
     "schema_version": 1,
     "solution": false
    }
   },
   "source": [
    "* Information that  is stored  and manipulated  on a  computer is called data."
   ]
  },
  {
   "cell_type": "code",
   "execution_count": null,
   "metadata": {
    "deletable": false,
    "nbgrader": {
     "checksum": "cd9ee586c9c8d64651480b3a17e414ca",
     "grade": false,
     "grade_id": "cell-4021f8b7ab820cc0",
     "locked": false,
     "schema_version": 1,
     "solution": true
    }
   },
   "outputs": [],
   "source": [
    "# YOUR CODE HERE\n",
    "raise NotImplementedError()"
   ]
  },
  {
   "cell_type": "markdown",
   "metadata": {},
   "source": [
    "(You can use the cell below to ensure that your answer above has the correct format. You can and should not\n",
    "modify the content of that cell.)"
   ]
  },
  {
   "cell_type": "code",
   "execution_count": null,
   "metadata": {
    "collapsed": true,
    "deletable": false,
    "editable": false,
    "nbgrader": {
     "checksum": "b487d07c5c2e5a5074c67d0d197d0ba6",
     "grade": true,
     "grade_id": "cell-47374c512dfb59e9",
     "locked": true,
     "points": 1,
     "schema_version": 1,
     "solution": false
    }
   },
   "outputs": [],
   "source": [
    "_answer = _\n",
    "assert(type(_answer) == bool)"
   ]
  },
  {
   "cell_type": "markdown",
   "metadata": {
    "deletable": false,
    "editable": false,
    "nbgrader": {
     "checksum": "fca5a3251539370785a6f0d5c16e8a34",
     "grade": false,
     "grade_id": "cell-b7f5b99a9f60a051",
     "locked": true,
     "schema_version": 1,
     "solution": false
    }
   },
   "source": [
    "* Since floating point numbers are extremely accurate, they should generally be used instead of `int`s."
   ]
  },
  {
   "cell_type": "code",
   "execution_count": null,
   "metadata": {
    "deletable": false,
    "nbgrader": {
     "checksum": "804379cbaf094ab7233efce31daf3ade",
     "grade": false,
     "grade_id": "cell-f1f5d169efc4ba42",
     "locked": false,
     "schema_version": 1,
     "solution": true
    }
   },
   "outputs": [],
   "source": [
    "# YOUR CODE HERE\n",
    "raise NotImplementedError()"
   ]
  },
  {
   "cell_type": "markdown",
   "metadata": {},
   "source": [
    "(You can use the cell below to ensure that your answer above has the correct format. You can and should not\n",
    "modify the content of that cell.)"
   ]
  },
  {
   "cell_type": "code",
   "execution_count": null,
   "metadata": {
    "collapsed": true,
    "deletable": false,
    "editable": false,
    "nbgrader": {
     "checksum": "3c9c6a5146aa3e1d339b76c44cb7b310",
     "grade": true,
     "grade_id": "cell-2158cbbae553bb8e",
     "locked": true,
     "points": 1,
     "schema_version": 1,
     "solution": false
    }
   },
   "outputs": [],
   "source": [
    "_answer = _\n",
    "assert(type(_answer) == bool)"
   ]
  },
  {
   "cell_type": "markdown",
   "metadata": {
    "deletable": false,
    "editable": false,
    "nbgrader": {
     "checksum": "f54295ff19357d617a2d5fdaf9656329",
     "grade": false,
     "grade_id": "cell-590f770ec17a8757",
     "locked": true,
     "schema_version": 1,
     "solution": false
    }
   },
   "source": [
    "* Operations like  addition and  subtraction are  defined  in the `math` library."
   ]
  },
  {
   "cell_type": "code",
   "execution_count": null,
   "metadata": {
    "deletable": false,
    "nbgrader": {
     "checksum": "c5a9cc6fa76e7e9a9c4fade56caa750d",
     "grade": false,
     "grade_id": "cell-6baa652254f2b192",
     "locked": false,
     "schema_version": 1,
     "solution": true
    }
   },
   "outputs": [],
   "source": [
    "# YOUR CODE HERE\n",
    "raise NotImplementedError()"
   ]
  },
  {
   "cell_type": "markdown",
   "metadata": {},
   "source": [
    "(You can use the cell below to ensure that your answer above has the correct format. You can and should not\n",
    "modify the content of that cell.)"
   ]
  },
  {
   "cell_type": "code",
   "execution_count": null,
   "metadata": {
    "collapsed": true,
    "deletable": false,
    "editable": false,
    "nbgrader": {
     "checksum": "a283462056809bc68e4dc56ec16f3584",
     "grade": true,
     "grade_id": "cell-1771941c74e30f5d",
     "locked": true,
     "points": 1,
     "schema_version": 1,
     "solution": false
    }
   },
   "outputs": [],
   "source": [
    "_answer = _\n",
    "assert(type(_answer) == bool)"
   ]
  },
  {
   "cell_type": "markdown",
   "metadata": {
    "deletable": false,
    "editable": false,
    "nbgrader": {
     "checksum": "5f9e6b37ecf7bca07c1a6470ffb9b14c",
     "grade": false,
     "grade_id": "cell-af7774a6f8f25bd6",
     "locked": true,
     "schema_version": 1,
     "solution": false
    }
   },
   "source": [
    "* The `sqrt()` function computes the squirt of a number."
   ]
  },
  {
   "cell_type": "code",
   "execution_count": null,
   "metadata": {
    "deletable": false,
    "nbgrader": {
     "checksum": "b61ed85d5d85ddcd95e6da458b752455",
     "grade": false,
     "grade_id": "cell-b946c84d4f5090e4",
     "locked": false,
     "schema_version": 1,
     "solution": true
    }
   },
   "outputs": [],
   "source": [
    "# YOUR CODE HERE\n",
    "raise NotImplementedError()"
   ]
  },
  {
   "cell_type": "markdown",
   "metadata": {},
   "source": [
    "(You can use the cell below to ensure that your answer above has the correct format. You can and should not\n",
    "modify the content of that cell.)"
   ]
  },
  {
   "cell_type": "code",
   "execution_count": null,
   "metadata": {
    "collapsed": true,
    "deletable": false,
    "editable": false,
    "nbgrader": {
     "checksum": "39559ec49c61f586533dbcfa8da8370f",
     "grade": true,
     "grade_id": "cell-0774378a100ebc64",
     "locked": true,
     "points": 1,
     "schema_version": 1,
     "solution": false
    }
   },
   "outputs": [],
   "source": [
    "_answer = _\n",
    "assert(type(_answer) == bool)"
   ]
  },
  {
   "cell_type": "markdown",
   "metadata": {
    "deletable": false,
    "editable": false,
    "nbgrader": {
     "checksum": "91c0721d49945b352fc7c95ba69f3a40",
     "grade": false,
     "grade_id": "cell-5c2b3be819b1b989",
     "locked": true,
     "schema_version": 1,
     "solution": false
    }
   },
   "source": [
    "* The `int` data type is identical to the mathematical concept of integer."
   ]
  },
  {
   "cell_type": "code",
   "execution_count": null,
   "metadata": {
    "deletable": false,
    "nbgrader": {
     "checksum": "9e6c6fb6646ad0ba2b3d1a46f81a177b",
     "grade": false,
     "grade_id": "cell-8fcd1146f01a9604",
     "locked": false,
     "schema_version": 1,
     "solution": true
    }
   },
   "outputs": [],
   "source": [
    "# YOUR CODE HERE\n",
    "raise NotImplementedError()"
   ]
  },
  {
   "cell_type": "markdown",
   "metadata": {},
   "source": [
    "(You can use the cell below to ensure that your answer above has the correct format. You can and should not\n",
    "modify the content of that cell.)"
   ]
  },
  {
   "cell_type": "code",
   "execution_count": null,
   "metadata": {
    "collapsed": true,
    "deletable": false,
    "editable": false,
    "nbgrader": {
     "checksum": "cafaea326557dcfdb024e188dd856307",
     "grade": true,
     "grade_id": "cell-1ce10653dfb71f61",
     "locked": true,
     "points": 1,
     "schema_version": 1,
     "solution": false
    }
   },
   "outputs": [],
   "source": [
    "_answer = _\n",
    "assert(type(_answer) == bool)"
   ]
  },
  {
   "cell_type": "markdown",
   "metadata": {
    "deletable": false,
    "editable": false,
    "nbgrader": {
     "checksum": "ef83b71f37c2509ec66b34d3d0734c6b",
     "grade": false,
     "grade_id": "cell-e25c3299e0c552ea",
     "locked": true,
     "schema_version": 1,
     "solution": false
    }
   },
   "source": [
    "* In `Python` 3, the value of `4/5` is the same as that of  `4.0/5.0`."
   ]
  },
  {
   "cell_type": "code",
   "execution_count": null,
   "metadata": {
    "deletable": false,
    "nbgrader": {
     "checksum": "5cbe7bbee7eda85a6d78f7c75403bad9",
     "grade": false,
     "grade_id": "cell-ce4589ef8ab553ed",
     "locked": false,
     "schema_version": 1,
     "solution": true
    }
   },
   "outputs": [],
   "source": [
    "# YOUR CODE HERE\n",
    "raise NotImplementedError()"
   ]
  },
  {
   "cell_type": "markdown",
   "metadata": {},
   "source": [
    "(You can use the cell below to ensure that your answer above has the correct format. You can and should not\n",
    "modify the content of that cell.)"
   ]
  },
  {
   "cell_type": "code",
   "execution_count": null,
   "metadata": {
    "collapsed": true,
    "deletable": false,
    "editable": false,
    "nbgrader": {
     "checksum": "ec9b3181e6eb348e662b49012cf648d7",
     "grade": true,
     "grade_id": "cell-3bc55bc442556b1b",
     "locked": true,
     "points": 1,
     "schema_version": 1,
     "solution": false
    }
   },
   "outputs": [],
   "source": [
    "_answer = _\n",
    "assert(type(_answer) == bool)"
   ]
  }
 ],
 "metadata": {
  "kernelspec": {
   "display_name": "Python 3",
   "language": "python",
   "name": "python3"
  },
  "language_info": {
   "codemirror_mode": {
    "name": "ipython",
    "version": 3
   },
   "file_extension": ".py",
   "mimetype": "text/x-python",
   "name": "python",
   "nbconvert_exporter": "python",
   "pygments_lexer": "ipython3",
   "version": "3.6.1"
  }
 },
 "nbformat": 4,
 "nbformat_minor": 2
}
