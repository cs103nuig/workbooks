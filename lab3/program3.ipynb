{
 "cells": [
  {
   "cell_type": "markdown",
   "metadata": {},
   "source": [
    "### CS102/CS103\n",
    "\n",
    "Prof. Götz Pfeiffer<br />\n",
    "School of Mathematics, Statistics and Applied Mathematics<br />\n",
    "NUI Galway\n",
    "\n",
    "# Computer Lab 3"
   ]
  },
  {
   "cell_type": "markdown",
   "metadata": {
    "deletable": false,
    "editable": false,
    "nbgrader": {
     "checksum": "37234a18b3799c3d3d29e258d6f58958",
     "grade": false,
     "grade_id": "cell-32eab3b5840e89dd",
     "locked": true,
     "schema_version": 1,
     "solution": false
    }
   },
   "source": [
    "##  Programming Exercises\n",
    "\n",
    "In this part of the practical you will write some simple `python` functions\n",
    "that use a `for` loop to compute a certain value.\n",
    "In each function definition, the first line of\n",
    "the function body should be a string that briefly explains the\n",
    "purpose of that function.\n",
    "\n",
    "In some of the exercises, a **partial answer** together with the text\n",
    "```\n",
    "# YOUR CODE HERE\n",
    "raise NotImplementedError()\n",
    "```\n",
    "is already given in the answer cell.  **Delete** those two lines\n",
    "and replace them with your own code to complete the answer."
   ]
  },
  {
   "cell_type": "markdown",
   "metadata": {
    "deletable": false,
    "editable": false,
    "nbgrader": {
     "checksum": "3cf119d307de623df9468ba00e47ec80",
     "grade": false,
     "grade_id": "cell-55e879b6e8ac62c7",
     "locked": true,
     "schema_version": 1,
     "solution": false
    }
   },
   "source": [
    "* Using the **accumulator pattern**, write a `python` function that computes the sum of the squares\n",
    "of the numbers from $1$ to $n$."
   ]
  },
  {
   "cell_type": "code",
   "execution_count": null,
   "metadata": {
    "collapsed": true,
    "deletable": false,
    "nbgrader": {
     "checksum": "2cfcd047f22b56a4258db10574ce2005",
     "grade": false,
     "grade_id": "cell-2faf0e81992f1428",
     "locked": false,
     "schema_version": 1,
     "solution": true
    }
   },
   "outputs": [],
   "source": [
    "def sum_of_squares(n):\n",
    "    \"Compute the sum of the squares of the numbers from 1 to n\"\n",
    "    total = 0\n",
    "    # YOUR CODE HERE\n",
    "    raise NotImplementedError()"
   ]
  },
  {
   "cell_type": "markdown",
   "metadata": {},
   "source": [
    "The sum of squares from $1$ to $10$ is $385$. Verify that this is the answer you get:"
   ]
  },
  {
   "cell_type": "code",
   "execution_count": null,
   "metadata": {},
   "outputs": [],
   "source": [
    "sum_of_squares(12)"
   ]
  },
  {
   "cell_type": "code",
   "execution_count": null,
   "metadata": {
    "collapsed": true,
    "deletable": false,
    "editable": false,
    "nbgrader": {
     "checksum": "bdf2476460da0c092d0cbd3b029e30b4",
     "grade": true,
     "grade_id": "cell-ef03fd263fd71770",
     "locked": true,
     "points": 2,
     "schema_version": 1,
     "solution": false
    }
   },
   "outputs": [],
   "source": [
    "\"\"\"Check that sum_of_squares returns the correct answer for various inputs.\"\"\"\n",
    "assert sum_of_squares(0) == 0\n",
    "assert sum_of_squares(1) == 1\n",
    "assert sum_of_squares(2) == 5\n",
    "assert sum_of_squares(10) == 385\n",
    "assert sum_of_squares(11) == 506\n",
    "\n",
    "assert sum_of_squares.__doc__ != None"
   ]
  },
  {
   "cell_type": "markdown",
   "metadata": {
    "deletable": false,
    "editable": false,
    "nbgrader": {
     "checksum": "7ac3219aa553a70deba5ce74ccb0d770",
     "grade": false,
     "grade_id": "cell-10e3ce84ae3104d9",
     "locked": true,
     "schema_version": 1,
     "solution": false
    }
   },
   "source": [
    "* Using the **accumulator pattern**, write a `python` function that computes the sum of the **cubes**\n",
    "of the numbers from $1$ to $n$."
   ]
  },
  {
   "cell_type": "code",
   "execution_count": null,
   "metadata": {
    "collapsed": true,
    "deletable": false,
    "nbgrader": {
     "checksum": "dc67fc68523ed79c086b10af24bd954e",
     "grade": false,
     "grade_id": "cell-240ebe51f6830eb4",
     "locked": false,
     "schema_version": 1,
     "solution": true
    }
   },
   "outputs": [],
   "source": [
    "def sum_of_cubes(n):\n",
    "    \"Compute the sum of the cubes of the numbers from 1 to n\"\n",
    "    total = 0\n",
    "    # YOUR CODE HERE\n",
    "    raise NotImplementedError()"
   ]
  },
  {
   "cell_type": "markdown",
   "metadata": {},
   "source": [
    "The sum of cubes from $1$ to $10$ is $3025$. Verify that this is the answer you get:"
   ]
  },
  {
   "cell_type": "code",
   "execution_count": null,
   "metadata": {},
   "outputs": [],
   "source": [
    "sum_of_cubes(10)"
   ]
  },
  {
   "cell_type": "code",
   "execution_count": null,
   "metadata": {
    "collapsed": true,
    "deletable": false,
    "editable": false,
    "nbgrader": {
     "checksum": "1d6f687852b53e68ca325e8ebcaa3854",
     "grade": true,
     "grade_id": "cell-b13af065382449ff",
     "locked": true,
     "points": 2,
     "schema_version": 1,
     "solution": false
    }
   },
   "outputs": [],
   "source": [
    "\"\"\"Check that sum_of_cubes returns the correct answer for various inputs.\"\"\"\n",
    "assert sum_of_cubes(0) == 0\n",
    "assert sum_of_cubes(1) == 1\n",
    "assert sum_of_cubes(2) == 9\n",
    "assert sum_of_cubes(10) == 3025\n",
    "assert sum_of_cubes(11) == 4356\n",
    "\n",
    "assert sum_of_cubes.__doc__ != None"
   ]
  },
  {
   "cell_type": "markdown",
   "metadata": {
    "deletable": false,
    "editable": false,
    "nbgrader": {
     "checksum": "edd0aa8518d0cc1481574d68b09a8026",
     "grade": false,
     "grade_id": "cell-57c42e302b1fb991",
     "locked": true,
     "schema_version": 1,
     "solution": false
    }
   },
   "source": [
    "* Write a `python` function `sum_of_numbers` that computes the sum of a given list of numbers "
   ]
  },
  {
   "cell_type": "code",
   "execution_count": null,
   "metadata": {
    "collapsed": true,
    "deletable": false,
    "nbgrader": {
     "checksum": "cc23cf23861130f8ae81fdb030c38a91",
     "grade": false,
     "grade_id": "cell-2d8b4080be6ecf27",
     "locked": false,
     "schema_version": 1,
     "solution": true
    }
   },
   "outputs": [],
   "source": [
    "def sum_of_numbers(numbers):\n",
    "    \"compute the sum of the list numbers\"\n",
    "    total = 0\n",
    "    # YOUR CODE HERE\n",
    "    raise NotImplementedError()"
   ]
  },
  {
   "cell_type": "markdown",
   "metadata": {},
   "source": [
    "The sum of the list `[1, 7, 2]` is $10$. Verify that this is the answer you get:"
   ]
  },
  {
   "cell_type": "code",
   "execution_count": null,
   "metadata": {},
   "outputs": [],
   "source": [
    "sum_of_numbers([1, 7, 2])"
   ]
  },
  {
   "cell_type": "code",
   "execution_count": null,
   "metadata": {
    "collapsed": true,
    "deletable": false,
    "editable": false,
    "nbgrader": {
     "checksum": "02cdd5d5e8e7497ecbbd76532e6aecc8",
     "grade": true,
     "grade_id": "cell-5fa27de2aeb00e13",
     "locked": true,
     "points": 2,
     "schema_version": 1,
     "solution": false
    }
   },
   "outputs": [],
   "source": [
    "\"\"\"Check that sum_of_numbers returns the correct answer for various inputs.\"\"\"\n",
    "assert sum_of_numbers([]) == 0\n",
    "assert sum_of_numbers([1]) == 1\n",
    "assert sum_of_numbers([1,2]) == 3\n",
    "assert sum_of_numbers([1, 7, 2]) == 10\n",
    "assert sum_of_numbers(range(11)) == 55\n",
    "assert sum_of_numbers([i*i for i in range(11)]) == 385\n",
    "\n",
    "assert sum_of_numbers.__doc__ != None"
   ]
  },
  {
   "cell_type": "markdown",
   "metadata": {
    "deletable": false,
    "editable": false,
    "nbgrader": {
     "checksum": "79f7d1b72832eed541dda3f602061f4a",
     "grade": false,
     "grade_id": "cell-3fdea687f2ea2cb3",
     "locked": true,
     "schema_version": 1,
     "solution": false
    }
   },
   "source": [
    "* Write a `python` function `avg_of_numbers` that computes the average of a given list of numbers. "
   ]
  },
  {
   "cell_type": "code",
   "execution_count": null,
   "metadata": {
    "collapsed": true,
    "deletable": false,
    "nbgrader": {
     "checksum": "3c39fa1d3cf23ff3bfb91d878be4842b",
     "grade": false,
     "grade_id": "cell-e0be5549829534d8",
     "locked": false,
     "schema_version": 1,
     "solution": true
    }
   },
   "outputs": [],
   "source": [
    "def avg_of_numbers(numbers):\n",
    "    \"compute the average of the list numbers\"\n",
    "    total = 0\n",
    "    # YOUR CODE HERE\n",
    "    raise NotImplementedError()"
   ]
  },
  {
   "cell_type": "markdown",
   "metadata": {},
   "source": [
    "The average of the list `[1, 7, 2, 6]` is $4$. Verify that this is the answer you get:"
   ]
  },
  {
   "cell_type": "code",
   "execution_count": null,
   "metadata": {},
   "outputs": [],
   "source": [
    "avg_of_numbers([1, 7, 2, 6])"
   ]
  },
  {
   "cell_type": "code",
   "execution_count": null,
   "metadata": {
    "collapsed": true,
    "deletable": false,
    "editable": false,
    "nbgrader": {
     "checksum": "fbd2318378dfeb2515f152f44eaca4cc",
     "grade": true,
     "grade_id": "cell-7cc6f78c8e2ab6b2",
     "locked": true,
     "points": 2,
     "schema_version": 1,
     "solution": false
    }
   },
   "outputs": [],
   "source": [
    "\"\"\"Check that sum_of_numbers returns the correct answer for various inputs.\"\"\"\n",
    "assert avg_of_numbers([1]) == 1\n",
    "assert avg_of_numbers([1,2]) == 3 / 2\n",
    "assert avg_of_numbers([1, 7, 2]) == sum([1, 7, 2]) / 3\n",
    "assert avg_of_numbers(range(11)) == sum(range(11)) / 11\n",
    "assert avg_of_numbers([i*i for i in range(11)]) == sum([i*i for i in range(11)]) / 11\n",
    "\n",
    "assert avg_of_numbers.__doc__ != None"
   ]
  },
  {
   "cell_type": "markdown",
   "metadata": {},
   "source": [
    "* The mathematical constant $\\pi$ can be approximated by summing the terms of the [Madhava series](https://en.wikipedia.org/wiki/Madhava_series)\n",
    "$$ \\frac41 - \\frac43 + \\frac45 - \\frac47 + \\frac49 - \\frac4{11} \\pm \\dotsm $$\n",
    "Write a `python` function `pi_approximation` that computes an approximation of $\\pi$\n",
    "as the sum of the first $n$ terms of that series."
   ]
  },
  {
   "cell_type": "code",
   "execution_count": null,
   "metadata": {
    "collapsed": true,
    "deletable": false,
    "nbgrader": {
     "checksum": "be5f1e05586ebad48ea8a1e04d0ee419",
     "grade": false,
     "grade_id": "cell-17bde505efc70b3e",
     "locked": false,
     "schema_version": 1,
     "solution": true
    }
   },
   "outputs": [],
   "source": [
    "def pi_approximation(n):\n",
    "    \"approximate pi\"\n",
    "    # YOUR CODE HERE\n",
    "    raise NotImplementedError()"
   ]
  },
  {
   "cell_type": "markdown",
   "metadata": {},
   "source": [
    "The approximation of $\\pi$ obtained from the first two terms of the series is $\\tfrac83$. Verify that this is the answer you get:"
   ]
  },
  {
   "cell_type": "code",
   "execution_count": null,
   "metadata": {},
   "outputs": [],
   "source": [
    "pi_approximation(2)"
   ]
  },
  {
   "cell_type": "code",
   "execution_count": null,
   "metadata": {
    "collapsed": true,
    "deletable": false,
    "editable": false,
    "nbgrader": {
     "checksum": "78f62e115287493b9a233e7e405007df",
     "grade": true,
     "grade_id": "cell-64c550d19f1557ee",
     "locked": true,
     "points": 2,
     "schema_version": 1,
     "solution": false
    }
   },
   "outputs": [],
   "source": [
    "\"\"\"Check that pi_approximation returns the correct answer for various inputs.\"\"\"\n",
    "assert pi_approximation(0) == 0.0\n",
    "assert pi_approximation(1) == 4.0\n",
    "assert pi_approximation(2) == 4 - 4/3\n",
    "assert pi_approximation(10) == 4 * sum((-1)**i / (2*i+1) for i in range(10))\n",
    "\n",
    "assert pi_approximation.__doc__ != None"
   ]
  },
  {
   "cell_type": "markdown",
   "metadata": {
    "deletable": false,
    "editable": false,
    "nbgrader": {
     "checksum": "2400e8843b00a5f78d7f8a4e7eb2fec6",
     "grade": false,
     "grade_id": "cell-38225058bbbb8213",
     "locked": true,
     "schema_version": 1,
     "solution": false
    }
   },
   "source": [
    "* Write a `python` function that computes the factorial $n!$ of an integer $n \\geq 0$\n",
    "as the product of all numbers from $1$ to $n$."
   ]
  },
  {
   "cell_type": "code",
   "execution_count": null,
   "metadata": {
    "collapsed": true,
    "deletable": false,
    "nbgrader": {
     "checksum": "f5095c009a13a330a44aaa726ee6fbb7",
     "grade": false,
     "grade_id": "cell-88503156a3c43f7d",
     "locked": false,
     "schema_version": 1,
     "solution": true
    }
   },
   "outputs": [],
   "source": [
    "def factorial(n):\n",
    "    # YOUR CODE HERE\n",
    "    raise NotImplementedError()"
   ]
  },
  {
   "cell_type": "markdown",
   "metadata": {},
   "source": [
    "The factorial $5!$ is $120$.  Verify that this is the answer you get:"
   ]
  },
  {
   "cell_type": "code",
   "execution_count": null,
   "metadata": {},
   "outputs": [],
   "source": [
    "factorial(5)"
   ]
  },
  {
   "cell_type": "code",
   "execution_count": null,
   "metadata": {
    "collapsed": true,
    "deletable": false,
    "editable": false,
    "nbgrader": {
     "checksum": "31ed73d136f87552dee17286d4a1f3f6",
     "grade": true,
     "grade_id": "cell-94be2dda2f6911f0",
     "locked": true,
     "points": 2,
     "schema_version": 1,
     "solution": false
    }
   },
   "outputs": [],
   "source": [
    "\"\"\"Check that factorial returns the correct answer for various inputs.\"\"\"\n",
    "assert factorial(0) == 1\n",
    "assert factorial(1) == 1\n",
    "assert factorial(2) == 2\n",
    "assert factorial(5) == 2 * 3 * 4 * 5\n",
    "\n",
    "assert factorial.__doc__ != None"
   ]
  },
  {
   "cell_type": "markdown",
   "metadata": {
    "deletable": false,
    "editable": false,
    "nbgrader": {
     "checksum": "3fa1d202cb49d7ffbcb9569392df75c6",
     "grade": false,
     "grade_id": "cell-53db1dc9e0f1adfe",
     "locked": true,
     "schema_version": 1,
     "solution": false
    }
   },
   "source": [
    "* The mathematical constant $e$ can be approximated by summing the terms of the series\n",
    "$$\\frac1{0!} + \\frac1{1!} + \\frac1{2!} + \\frac1{3!} + \\cdots$$\n",
    "Write a `python` function that uses the above `factorial()` function and computes an approximation of $e$ as the sum of the first $n$\n",
    "terms of this series."
   ]
  },
  {
   "cell_type": "code",
   "execution_count": null,
   "metadata": {
    "collapsed": true,
    "deletable": false,
    "nbgrader": {
     "checksum": "63dbcb4bba529067f3d22da36231cfc8",
     "grade": false,
     "grade_id": "cell-674e36c5110c36a2",
     "locked": false,
     "schema_version": 1,
     "solution": true
    }
   },
   "outputs": [],
   "source": [
    "def e_approximation(n):\n",
    "    # YOUR CODE HERE\n",
    "    raise NotImplementedError()"
   ]
  },
  {
   "cell_type": "markdown",
   "metadata": {},
   "source": [
    "The approximation obtained as sum of the first $3$ terms of the series is $2.5$. Verify that this is the answer you get:"
   ]
  },
  {
   "cell_type": "code",
   "execution_count": null,
   "metadata": {},
   "outputs": [],
   "source": [
    "e_approximation(3)"
   ]
  },
  {
   "cell_type": "code",
   "execution_count": null,
   "metadata": {
    "collapsed": true,
    "deletable": false,
    "editable": false,
    "nbgrader": {
     "checksum": "5245453ebd708b38a457a461cde4e661",
     "grade": true,
     "grade_id": "cell-58494e99b198abf8",
     "locked": true,
     "points": 2,
     "schema_version": 1,
     "solution": false
    }
   },
   "outputs": [],
   "source": [
    "\"\"\"Check that e_approximation returns the correct answer for various inputs.\"\"\"\n",
    "assert e_approximation(0) == 0.0\n",
    "assert e_approximation(1) == 1.0\n",
    "assert e_approximation(2) == 2.0\n",
    "assert e_approximation(3) == 5 / 2\n",
    "assert e_approximation(10) == sum(1 / factorial(i) for i in range(10))\n",
    "assert e_approximation(100) == sum(1 / factorial(i) for i in range(100))\n",
    "\n",
    "assert e_approximation.__doc__ != None"
   ]
  },
  {
   "cell_type": "markdown",
   "metadata": {
    "deletable": false,
    "editable": false,
    "nbgrader": {
     "checksum": "85afa6a2f09ca0f5486f9aaf43667d99",
     "grade": false,
     "grade_id": "cell-dfec3fb062f17cfb",
     "locked": true,
     "schema_version": 1,
     "solution": false
    }
   },
   "source": [
    "The [Fibonacci numbers](https://en.wikipedia.org/wiki/Fibonacci_number) are a sequence of numbers $F_n$,\n",
    "$n = 0, 1, 2,  \\ldots$, defined by the recurrence relation\n",
    "$$F_n = F_{n-1} + F_{n-2}$$\n",
    "with seed values $F_0 = 1$ and $F_1 = 1$.\n",
    "Using the accumulator pattern with a list `fibonacci` initialized\n",
    "as\n",
    "```python\n",
    "fibonacci = [0, 1]\n",
    "```\n",
    "Write a `python` function `fibonacci_up_to` that computes and returns\n",
    "a list of Fibonacci numbers $F_0, \\dots, F_n$ for a given integer $n > 0$."
   ]
  },
  {
   "cell_type": "code",
   "execution_count": null,
   "metadata": {
    "collapsed": true,
    "deletable": false,
    "nbgrader": {
     "checksum": "b1b341fb2ce9d92b9ca746803036440b",
     "grade": false,
     "grade_id": "cell-d45cf919b36be9d9",
     "locked": false,
     "schema_version": 1,
     "solution": true
    }
   },
   "outputs": [],
   "source": [
    "def fibonacci_up_to(n):\n",
    "    \"compute the list of Fibonacci numbers F_0,...,F_n\"\n",
    "    fibonacci = [0, 1]\n",
    "    # YOUR CODE HERE\n",
    "    raise NotImplementedError()"
   ]
  },
  {
   "cell_type": "markdown",
   "metadata": {},
   "source": [
    "The Fibonacci series $F_n$ up to $n = 5$ is $0, 1, 1, 2, 3, 5$. Verify that this is the answer you get:"
   ]
  },
  {
   "cell_type": "code",
   "execution_count": null,
   "metadata": {},
   "outputs": [],
   "source": [
    "fibonacci_up_to(5)"
   ]
  },
  {
   "cell_type": "code",
   "execution_count": null,
   "metadata": {
    "collapsed": true,
    "deletable": false,
    "editable": false,
    "nbgrader": {
     "checksum": "1c34cde33d24322c3d95984f58d2dd1d",
     "grade": true,
     "grade_id": "cell-343b193187dfa7e7",
     "locked": true,
     "points": 2,
     "schema_version": 1,
     "solution": false
    }
   },
   "outputs": [],
   "source": [
    "\"\"\"Check that fibonacci returns the correct answer for various inputs.\"\"\"\n",
    "assert fibonacci_up_to(1) == [0, 1]\n",
    "assert fibonacci_up_to(2) == [0, 1, 1]\n",
    "assert fibonacci_up_to(3) == [0, 1, 1, 2]\n",
    "assert fibonacci_up_to(5) == [0, 1, 1, 2, 3, 5]\n",
    "assert fibonacci_up_to(20)[20] == 6765\n",
    "\n",
    "assert fibonacci_up_to.__doc__ != None"
   ]
  },
  {
   "cell_type": "code",
   "execution_count": null,
   "metadata": {
    "collapsed": true
   },
   "outputs": [],
   "source": []
  }
 ],
 "metadata": {
  "kernelspec": {
   "display_name": "Python 3",
   "language": "python",
   "name": "python3"
  },
  "language_info": {
   "codemirror_mode": {
    "name": "ipython",
    "version": 3
   },
   "file_extension": ".py",
   "mimetype": "text/x-python",
   "name": "python",
   "nbconvert_exporter": "python",
   "pygments_lexer": "ipython3",
   "version": "3.6.1"
  }
 },
 "nbformat": 4,
 "nbformat_minor": 2
}
