{
 "cells": [
  {
   "cell_type": "markdown",
   "metadata": {},
   "source": [
    "### CS102/CS103\n",
    "\n",
    "Prof. Götz Pfeiffer<br />\n",
    "School of Mathematics, Statistics and Applied Mathematics<br />\n",
    "NUI Galway\n",
    "\n",
    "# Computer Lab 6"
   ]
  },
  {
   "cell_type": "markdown",
   "metadata": {
    "deletable": false,
    "editable": false,
    "nbgrader": {
     "checksum": "6f91fe10d18f86af9fad831368b754e9",
     "grade": false,
     "grade_id": "cell-a7e99a98ffef4516",
     "locked": true,
     "schema_version": 1,
     "solution": false
    }
   },
   "source": [
    "## Multiple Choice\n",
    "\n",
    "For each of the following questions, choose `'a'`, `'b'`, `'c'`, or `'d'` as answer\n",
    "and type it into the cell below (with quotes)."
   ]
  },
  {
   "cell_type": "markdown",
   "metadata": {
    "deletable": false,
    "editable": false,
    "nbgrader": {
     "checksum": "feceb6afd09c5e8d48ea0d0e906c9892",
     "grade": false,
     "grade_id": "cell-56aebc2a71146f41",
     "locked": true,
     "schema_version": 1,
     "solution": false
    }
   },
   "source": [
    "* Accessing a single character out of a string is called\n",
    "\n",
    "(a) slicing<br />\n",
    "(b) concatenation<br />\n",
    "(c) assignment<br />\n",
    "(d) indexing<br />"
   ]
  },
  {
   "cell_type": "code",
   "execution_count": null,
   "metadata": {
    "deletable": false,
    "nbgrader": {
     "checksum": "4aa2806eb7af04a4ee44c3e731c8c1fb",
     "grade": false,
     "grade_id": "cell-e2d7f46305b54d6a",
     "locked": false,
     "schema_version": 1,
     "solution": true
    }
   },
   "outputs": [],
   "source": [
    "# YOUR CODE HERE\n",
    "raise NotImplementedError()"
   ]
  },
  {
   "cell_type": "markdown",
   "metadata": {},
   "source": [
    "(You can use the cell below to ensure that your answer above has the correct format. You can and should not modify the content of that cell.)"
   ]
  },
  {
   "cell_type": "code",
   "execution_count": null,
   "metadata": {
    "collapsed": true,
    "deletable": false,
    "editable": false,
    "nbgrader": {
     "checksum": "016749bcef9d506068ff29fda30ac199",
     "grade": true,
     "grade_id": "cell-07cfc245d8db90a1",
     "locked": true,
     "points": 1,
     "schema_version": 1,
     "solution": false
    }
   },
   "outputs": [],
   "source": [
    "_answer = _\n",
    "assert(type(_answer) == str)"
   ]
  },
  {
   "cell_type": "markdown",
   "metadata": {
    "deletable": false,
    "editable": false,
    "nbgrader": {
     "checksum": "288707752048ec734b44ef7d2aa92859",
     "grade": false,
     "grade_id": "cell-d3ff0e5eabadf4a4",
     "locked": true,
     "schema_version": 1,
     "solution": false
    }
   },
   "source": [
    "* If `s` is a string, which of the following is the same as `s[0:-1]`?\n",
    "\n",
    "(a) `s[-1]`<br />\n",
    "(b) `s[:]`<br />\n",
    "(c) `s[:len(s)-1]`<br />\n",
    "(d) `s[0:len(s)]`<br />"
   ]
  },
  {
   "cell_type": "code",
   "execution_count": null,
   "metadata": {
    "deletable": false,
    "nbgrader": {
     "checksum": "ec779ba46dda514de33b4c0f693fb443",
     "grade": false,
     "grade_id": "cell-e2c7f46305b54d6a",
     "locked": false,
     "schema_version": 1,
     "solution": true
    }
   },
   "outputs": [],
   "source": [
    "# YOUR CODE HERE\n",
    "raise NotImplementedError()"
   ]
  },
  {
   "cell_type": "markdown",
   "metadata": {},
   "source": [
    "(You can use the cell below to ensure that your answer above has the correct format. You can and should not modify the content of that cell.)"
   ]
  },
  {
   "cell_type": "code",
   "execution_count": null,
   "metadata": {
    "collapsed": true,
    "deletable": false,
    "editable": false,
    "nbgrader": {
     "checksum": "f171e55663a3c8f8a487fe6606581cf8",
     "grade": true,
     "grade_id": "cell-07cfc245d8db90a2",
     "locked": true,
     "points": 1,
     "schema_version": 1,
     "solution": false
    }
   },
   "outputs": [],
   "source": [
    "_answer = _\n",
    "assert(type(_answer) == str)"
   ]
  },
  {
   "cell_type": "markdown",
   "metadata": {
    "deletable": false,
    "editable": false,
    "nbgrader": {
     "checksum": "291ed554f019c5d146db41f80e8d08dd",
     "grade": false,
     "grade_id": "cell-9987b7e8df9fd9d1",
     "locked": true,
     "schema_version": 1,
     "solution": false
    }
   },
   "source": [
    "* What function gives the Unicode value of a character?\n",
    "\n",
    "(a) `ord()`<br />\n",
    "(b) `ascii()`<br />\n",
    "(c) `chr()`<br />\n",
    "(d) `eval()`<br />"
   ]
  },
  {
   "cell_type": "code",
   "execution_count": null,
   "metadata": {
    "deletable": false,
    "nbgrader": {
     "checksum": "4911720802f2682ea8403f9628c55c13",
     "grade": false,
     "grade_id": "cell-e2b7f46305b54d6a",
     "locked": false,
     "schema_version": 1,
     "solution": true
    }
   },
   "outputs": [],
   "source": [
    "# YOUR CODE HERE\n",
    "raise NotImplementedError()"
   ]
  },
  {
   "cell_type": "markdown",
   "metadata": {},
   "source": [
    "(You can use the cell below to ensure that your answer above has the correct format. You can and should not modify the content of that cell.)"
   ]
  },
  {
   "cell_type": "code",
   "execution_count": null,
   "metadata": {
    "collapsed": true,
    "deletable": false,
    "editable": false,
    "nbgrader": {
     "checksum": "f9c68fb87ed1e56578ea1520f1e042fa",
     "grade": true,
     "grade_id": "cell-07cfc245d8db90a3",
     "locked": true,
     "points": 1,
     "schema_version": 1,
     "solution": false
    }
   },
   "outputs": [],
   "source": [
    "_answer = _\n",
    "assert(type(_answer) == str)"
   ]
  },
  {
   "cell_type": "markdown",
   "metadata": {
    "deletable": false,
    "editable": false,
    "nbgrader": {
     "checksum": "ec0a9322f52bfdd2e0dc75cab94a3071",
     "grade": false,
     "grade_id": "cell-255200f65ffbbe9d",
     "locked": true,
     "schema_version": 1,
     "solution": false
    }
   },
   "source": [
    "* The string slots that are filled in by the `format()` method are marked by:\n",
    "\n",
    "(a) `%`<br />\n",
    "(b) `$`<br />\n",
    "(c) `[]`<br />\n",
    "(d) `{}`<br />"
   ]
  },
  {
   "cell_type": "code",
   "execution_count": null,
   "metadata": {
    "deletable": false,
    "nbgrader": {
     "checksum": "09e712942189aa44bcf4de617da7061b",
     "grade": false,
     "grade_id": "cell-e2a7f46305b54d6a",
     "locked": false,
     "schema_version": 1,
     "solution": true
    }
   },
   "outputs": [],
   "source": [
    "# YOUR CODE HERE\n",
    "raise NotImplementedError()"
   ]
  },
  {
   "cell_type": "markdown",
   "metadata": {},
   "source": [
    "(You can use the cell below to ensure that your answer above has the correct format. You can and should not modify the content of that cell.)"
   ]
  },
  {
   "cell_type": "code",
   "execution_count": null,
   "metadata": {
    "collapsed": true,
    "deletable": false,
    "editable": false,
    "nbgrader": {
     "checksum": "fa9179fd20f281831bceea2a8c26ae0c",
     "grade": true,
     "grade_id": "cell-07cfc245d8db90a4",
     "locked": true,
     "points": 1,
     "schema_version": 1,
     "solution": false
    }
   },
   "outputs": [],
   "source": [
    "_answer = _\n",
    "assert(type(_answer) == str)"
   ]
  },
  {
   "cell_type": "markdown",
   "metadata": {
    "deletable": false,
    "editable": false,
    "nbgrader": {
     "checksum": "498ff69c4f1fdb295826f8f6636a5fa8",
     "grade": false,
     "grade_id": "cell-d1d96dd7ac270f73",
     "locked": true,
     "schema_version": 1,
     "solution": false
    }
   },
   "source": [
    "* Which of the following is **not** a file reading method in `python`?\n",
    "\n",
    "(a) `read()`<br />\n",
    "(b) `readline()`<br />\n",
    "(c) `readall()`<br />\n",
    "(d) `readlines()`<br />"
   ]
  },
  {
   "cell_type": "code",
   "execution_count": null,
   "metadata": {
    "deletable": false,
    "nbgrader": {
     "checksum": "6b5ff893eb81ac10dc7fa26e2250fe57",
     "grade": false,
     "grade_id": "cell-6c2d800ce6bfc0ec",
     "locked": false,
     "schema_version": 1,
     "solution": true
    }
   },
   "outputs": [],
   "source": [
    "# YOUR CODE HERE\n",
    "raise NotImplementedError()"
   ]
  },
  {
   "cell_type": "markdown",
   "metadata": {},
   "source": [
    "(You can use the cell below to ensure that your answer above has the correct format. You can and should not modify the content of that cell.)"
   ]
  },
  {
   "cell_type": "code",
   "execution_count": null,
   "metadata": {
    "collapsed": true,
    "deletable": false,
    "editable": false,
    "nbgrader": {
     "checksum": "8f9d3a421c592750b030310b2114be24",
     "grade": true,
     "grade_id": "cell-0c2cffbe60f28e9d",
     "locked": true,
     "points": 1,
     "schema_version": 1,
     "solution": false
    }
   },
   "outputs": [],
   "source": [
    "_answer = _\n",
    "assert(type(_answer) == str)"
   ]
  }
 ],
 "metadata": {
  "kernelspec": {
   "display_name": "Python 3",
   "language": "python",
   "name": "python3"
  },
  "language_info": {
   "codemirror_mode": {
    "name": "ipython",
    "version": 3
   },
   "file_extension": ".py",
   "mimetype": "text/x-python",
   "name": "python",
   "nbconvert_exporter": "python",
   "pygments_lexer": "ipython3",
   "version": "3.6.1"
  }
 },
 "nbformat": 4,
 "nbformat_minor": 2
}
