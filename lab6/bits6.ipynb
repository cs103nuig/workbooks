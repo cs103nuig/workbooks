{
 "cells": [
  {
   "cell_type": "markdown",
   "metadata": {},
   "source": [
    "### CS102/CS103\n",
    "\n",
    "Prof. Götz Pfeiffer<br />\n",
    "School of Mathematics, Statistics and Applied Mathematics<br />\n",
    "NUI Galway\n",
    "\n",
    "# Computer Lab 6"
   ]
  },
  {
   "cell_type": "markdown",
   "metadata": {
    "collapsed": true,
    "deletable": false,
    "editable": false,
    "nbgrader": {
     "checksum": "e7ca1e7735e1bd96299046fea8404488",
     "grade": false,
     "grade_id": "cell-9b0d7e26dcdae53f",
     "locked": true,
     "schema_version": 1,
     "solution": false
    }
   },
   "source": [
    "## True or False\n",
    "\n",
    "Each of the following statements is either true or false.\n",
    "Delete the current content of the cell below the statement.\n",
    "Then type in your answer as either `True` or `False`\n",
    "(with a capital `T` or `F`)."
   ]
  },
  {
   "cell_type": "markdown",
   "metadata": {
    "deletable": false,
    "editable": false,
    "nbgrader": {
     "checksum": "1bd9a769a6cadbd954f6e8dc7d47f022",
     "grade": false,
     "grade_id": "cell-b775cfb108af734b",
     "locked": true,
     "schema_version": 1,
     "solution": false
    }
   },
   "source": [
    "* A `python` string literal is always enclosed in double quotes"
   ]
  },
  {
   "cell_type": "code",
   "execution_count": null,
   "metadata": {
    "deletable": false,
    "nbgrader": {
     "checksum": "baffb12c2f883079f7aec57d902941e6",
     "grade": false,
     "grade_id": "cell-a47f83dcd3a6b7b7",
     "locked": false,
     "schema_version": 1,
     "solution": true
    }
   },
   "outputs": [],
   "source": [
    "# YOUR CODE HERE\n",
    "raise NotImplementedError()"
   ]
  },
  {
   "cell_type": "markdown",
   "metadata": {},
   "source": [
    "(You can use the cell below to ensure that your answer above has the correct format. You can and should not\n",
    "modify the content of that cell.)"
   ]
  },
  {
   "cell_type": "code",
   "execution_count": null,
   "metadata": {
    "collapsed": true,
    "deletable": false,
    "editable": false,
    "nbgrader": {
     "checksum": "721be92365b6b3bbc9eb44fbd8788b89",
     "grade": true,
     "grade_id": "cell-149ce7b37c6a3e3e",
     "locked": true,
     "points": 1,
     "schema_version": 1,
     "solution": false
    }
   },
   "outputs": [],
   "source": [
    "_answer = _\n",
    "assert(type(_answer) == bool)"
   ]
  },
  {
   "cell_type": "markdown",
   "metadata": {
    "deletable": false,
    "editable": false,
    "nbgrader": {
     "checksum": "9648840d6fcec5322a97b769a22d949b",
     "grade": false,
     "grade_id": "cell-ace89f6688ec8817",
     "locked": true,
     "schema_version": 1,
     "solution": false
    }
   },
   "source": [
    "* The last character of a string `s` is at position `len(s) - 1`."
   ]
  },
  {
   "cell_type": "code",
   "execution_count": null,
   "metadata": {
    "deletable": false,
    "nbgrader": {
     "checksum": "87cac347165915100b7e33955a7f33d1",
     "grade": false,
     "grade_id": "cell-a47f83dcd3a6b7b6",
     "locked": false,
     "schema_version": 1,
     "solution": true
    }
   },
   "outputs": [],
   "source": [
    "# YOUR CODE HERE\n",
    "raise NotImplementedError()"
   ]
  },
  {
   "cell_type": "markdown",
   "metadata": {},
   "source": [
    "(You can use the cell below to ensure that your answer above has the correct format. You can and should not\n",
    "modify the content of that cell.)"
   ]
  },
  {
   "cell_type": "code",
   "execution_count": null,
   "metadata": {
    "collapsed": true,
    "deletable": false,
    "editable": false,
    "nbgrader": {
     "checksum": "83d2f0d0d26ae8a2a231b8753dad3bf7",
     "grade": true,
     "grade_id": "cell-249ce7b37c6a3e3e",
     "locked": true,
     "points": 1,
     "schema_version": 1,
     "solution": false
    }
   },
   "outputs": [],
   "source": [
    "_answer = _\n",
    "assert(type(_answer) == bool)"
   ]
  },
  {
   "cell_type": "markdown",
   "metadata": {
    "deletable": false,
    "editable": false,
    "nbgrader": {
     "checksum": "b28e831d470f036601820168b6f5172b",
     "grade": false,
     "grade_id": "cell-3c30a1f260fdebfe",
     "locked": true,
     "schema_version": 1,
     "solution": false
    }
   },
   "source": [
    "* A string always contains a single line of text."
   ]
  },
  {
   "cell_type": "code",
   "execution_count": null,
   "metadata": {
    "deletable": false,
    "nbgrader": {
     "checksum": "ccb6e872609b92da1621fa7a49222bc3",
     "grade": false,
     "grade_id": "cell-a47f83dcd3a6b7b5",
     "locked": false,
     "schema_version": 1,
     "solution": true
    }
   },
   "outputs": [],
   "source": [
    "# YOUR CODE HERE\n",
    "raise NotImplementedError()"
   ]
  },
  {
   "cell_type": "markdown",
   "metadata": {},
   "source": [
    "(You can use the cell below to ensure that your answer above has the correct format. You can and should not\n",
    "modify the content of that cell.)"
   ]
  },
  {
   "cell_type": "code",
   "execution_count": null,
   "metadata": {
    "collapsed": true,
    "deletable": false,
    "editable": false,
    "nbgrader": {
     "checksum": "57b276c05bfb86fcd1cb6d1de6a79b66",
     "grade": true,
     "grade_id": "cell-349ce7b37c6a3e3e",
     "locked": true,
     "points": 1,
     "schema_version": 1,
     "solution": false
    }
   },
   "outputs": [],
   "source": [
    "_answer = _\n",
    "assert(type(_answer) == bool)"
   ]
  },
  {
   "cell_type": "markdown",
   "metadata": {
    "deletable": false,
    "editable": false,
    "nbgrader": {
     "checksum": "20c275ddab68811f811eb8878d637092",
     "grade": false,
     "grade_id": "cell-c6e449ca1f947160",
     "locked": true,
     "schema_version": 1,
     "solution": false
    }
   },
   "source": [
    "* In `python`, \"4\" + \"5\" is \"45\"."
   ]
  },
  {
   "cell_type": "code",
   "execution_count": null,
   "metadata": {
    "deletable": false,
    "nbgrader": {
     "checksum": "8b584027af190b9ee1fd5f97837ab636",
     "grade": false,
     "grade_id": "cell-a47f83dcd3a6b7b4",
     "locked": false,
     "schema_version": 1,
     "solution": true
    }
   },
   "outputs": [],
   "source": [
    "# YOUR CODE HERE\n",
    "raise NotImplementedError()"
   ]
  },
  {
   "cell_type": "markdown",
   "metadata": {},
   "source": [
    "(You can use the cell below to ensure that your answer above has the correct format. You can and should not\n",
    "modify the content of that cell.)"
   ]
  },
  {
   "cell_type": "code",
   "execution_count": null,
   "metadata": {
    "collapsed": true,
    "deletable": false,
    "editable": false,
    "nbgrader": {
     "checksum": "97230cf53c85e537f71321e0f015e7f0",
     "grade": true,
     "grade_id": "cell-449ce7b37c6a3e3e",
     "locked": true,
     "points": 1,
     "schema_version": 1,
     "solution": false
    }
   },
   "outputs": [],
   "source": [
    "_answer = _\n",
    "assert(type(_answer) == bool)"
   ]
  },
  {
   "cell_type": "markdown",
   "metadata": {
    "deletable": false,
    "editable": false,
    "nbgrader": {
     "checksum": "d8272695f406221280f61ae05bed2f75",
     "grade": false,
     "grade_id": "cell-02ccb9f58be9632b",
     "locked": true,
     "schema_version": 1,
     "solution": false
    }
   },
   "source": [
    "* Unicode is a standard for repesenting characters using numeric codes."
   ]
  },
  {
   "cell_type": "code",
   "execution_count": null,
   "metadata": {
    "deletable": false,
    "nbgrader": {
     "checksum": "11a19d37fe434fedde899697bb67cea4",
     "grade": false,
     "grade_id": "cell-a47f83dcd3a6b7b3",
     "locked": false,
     "schema_version": 1,
     "solution": true
    }
   },
   "outputs": [],
   "source": [
    "# YOUR CODE HERE\n",
    "raise NotImplementedError()"
   ]
  },
  {
   "cell_type": "markdown",
   "metadata": {},
   "source": [
    "(You can use the cell below to ensure that your answer above has the correct format. You can and should not\n",
    "modify the content of that cell.)"
   ]
  },
  {
   "cell_type": "code",
   "execution_count": null,
   "metadata": {
    "collapsed": true,
    "deletable": false,
    "editable": false,
    "nbgrader": {
     "checksum": "ea943398bf79ba2c6ed6a7839c3aae74",
     "grade": true,
     "grade_id": "cell-549ce7b37c6a3e3e",
     "locked": true,
     "points": 1,
     "schema_version": 1,
     "solution": false
    }
   },
   "outputs": [],
   "source": [
    "_answer = _\n",
    "assert(type(_answer) == bool)"
   ]
  },
  {
   "cell_type": "markdown",
   "metadata": {
    "deletable": false,
    "editable": false,
    "nbgrader": {
     "checksum": "992ed6170cac2837b4f5eadb2c5bbdc1",
     "grade": false,
     "grade_id": "cell-0bcc5d29491138f7",
     "locked": true,
     "schema_version": 1,
     "solution": false
    }
   },
   "source": [
    "* The `split()` method breaks a string into a list of substrings, and `join()` does the opposite."
   ]
  },
  {
   "cell_type": "code",
   "execution_count": null,
   "metadata": {
    "deletable": false,
    "nbgrader": {
     "checksum": "3bf66b34f74fbffa01c4472b8c8f2a29",
     "grade": false,
     "grade_id": "cell-a47f83dcd3a6b7b2",
     "locked": false,
     "schema_version": 1,
     "solution": true
    }
   },
   "outputs": [],
   "source": [
    "# YOUR CODE HERE\n",
    "raise NotImplementedError()"
   ]
  },
  {
   "cell_type": "markdown",
   "metadata": {},
   "source": [
    "(You can use the cell below to ensure that your answer above has the correct format. You can and should not\n",
    "modify the content of that cell.)"
   ]
  },
  {
   "cell_type": "code",
   "execution_count": null,
   "metadata": {
    "collapsed": true,
    "deletable": false,
    "editable": false,
    "nbgrader": {
     "checksum": "ae9b797afed6f64efb16f2664db98965",
     "grade": true,
     "grade_id": "cell-049ce7b37c6a3e3e",
     "locked": true,
     "points": 1,
     "schema_version": 1,
     "solution": false
    }
   },
   "outputs": [],
   "source": [
    "_answer = _\n",
    "assert(type(_answer) == bool)"
   ]
  },
  {
   "cell_type": "markdown",
   "metadata": {
    "deletable": false,
    "editable": false,
    "nbgrader": {
     "checksum": "6e7bc11a24445d11d06093a98cc9fd54",
     "grade": false,
     "grade_id": "cell-dfef406e0c0e4322",
     "locked": true,
     "schema_version": 1,
     "solution": false
    }
   },
   "source": [
    "* The `add()` method can be used to add an item to the end of a list."
   ]
  },
  {
   "cell_type": "code",
   "execution_count": null,
   "metadata": {
    "deletable": false,
    "nbgrader": {
     "checksum": "522947b7291027a26798b68fe2ac8d77",
     "grade": false,
     "grade_id": "cell-1b8e9a64750602a1",
     "locked": false,
     "schema_version": 1,
     "solution": true
    }
   },
   "outputs": [],
   "source": [
    "# YOUR CODE HERE\n",
    "raise NotImplementedError()"
   ]
  },
  {
   "cell_type": "markdown",
   "metadata": {},
   "source": [
    "(You can use the cell below to ensure that your answer above has the correct format. You can and should not\n",
    "modify the content of that cell.)"
   ]
  },
  {
   "cell_type": "code",
   "execution_count": null,
   "metadata": {
    "collapsed": true,
    "deletable": false,
    "editable": false,
    "nbgrader": {
     "checksum": "cad7114b26fe0d00e7cb2d258ae6435d",
     "grade": true,
     "grade_id": "cell-0ddf307f9dab9181",
     "locked": true,
     "points": 1,
     "schema_version": 1,
     "solution": false
    }
   },
   "outputs": [],
   "source": [
    "_answer = _\n",
    "assert(type(_answer) == bool)"
   ]
  },
  {
   "cell_type": "code",
   "execution_count": null,
   "metadata": {
    "collapsed": true
   },
   "outputs": [],
   "source": []
  }
 ],
 "metadata": {
  "kernelspec": {
   "display_name": "Python 3",
   "language": "python",
   "name": "python3"
  },
  "language_info": {
   "codemirror_mode": {
    "name": "ipython",
    "version": 3
   },
   "file_extension": ".py",
   "mimetype": "text/x-python",
   "name": "python",
   "nbconvert_exporter": "python",
   "pygments_lexer": "ipython3",
   "version": "3.6.1"
  }
 },
 "nbformat": 4,
 "nbformat_minor": 2
}
