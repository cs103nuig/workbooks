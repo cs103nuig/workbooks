{
 "cells": [
  {
   "cell_type": "markdown",
   "metadata": {},
   "source": [
    "### CS102/CS103\n",
    "\n",
    "Prof. Götz Pfeiffer<br />\n",
    "School of Mathematics, Statistics and Applied Mathematics<br />\n",
    "NUI Galway\n",
    "\n",
    "# Computer Lab 6"
   ]
  },
  {
   "cell_type": "markdown",
   "metadata": {
    "deletable": false,
    "editable": false,
    "nbgrader": {
     "checksum": "99811c5545793956748664473c53409d",
     "grade": false,
     "grade_id": "cell-af0fec2d5190f4db",
     "locked": true,
     "schema_version": 1,
     "solution": false
    }
   },
   "source": [
    "##  Programming Exercises\n",
    "\n",
    "In this part of the practical you will write some `python` functions.\n",
    "\n",
    "In each function definition, the **first line of\n",
    "the function body** should be **a string that briefly explains the\n",
    "purpose** of that function.\n",
    "\n",
    "\n",
    "\n",
    "\n",
    "In some of the exercises, a **partial answer** together with the text\n",
    "```\n",
    "# YOUR CODE HERE\n",
    "raise NotImplementedError()\n",
    "```\n",
    "is already given in the answer cell.  **Delete** those two lines\n",
    "and replace them with your own code to complete the answer."
   ]
  },
  {
   "cell_type": "markdown",
   "metadata": {
    "deletable": false,
    "editable": false,
    "nbgrader": {
     "checksum": "cdde6e616baf88d33a56c3988dfc4c63",
     "grade": false,
     "grade_id": "cell-72c341cff90553df",
     "locked": true,
     "schema_version": 1,
     "solution": false
    }
   },
   "source": [
    "* An **acronym** is a word formed by taking the first letters in a phrase.\n",
    "For example, RAM is an acronym for \"Random Access Memory\".\n",
    "Write a `python` function that computes and returns an acronym for any given phrase.\n",
    "The acronym should be all uppercase, even if the words in the phrase are not capitalized.\n",
    "(**Hint:** use an accumulator.)"
   ]
  },
  {
   "cell_type": "code",
   "execution_count": null,
   "metadata": {
    "collapsed": true,
    "deletable": false,
    "nbgrader": {
     "checksum": "0cf1b93fc0c57c325c06b047491ac4b4",
     "grade": false,
     "grade_id": "cell-e73860bd998415ef",
     "locked": false,
     "schema_version": 1,
     "solution": true
    }
   },
   "outputs": [],
   "source": [
    "def acronym(phrase):\n",
    "    \"Compute an uppercase acronym for a phrase\"\n",
    "    # YOUR CODE HERE\n",
    "    raise NotImplementedError()"
   ]
  },
  {
   "cell_type": "markdown",
   "metadata": {},
   "source": [
    "So the acronym for \"random access memory\" is RAM. Verify that this is what your function computes."
   ]
  },
  {
   "cell_type": "code",
   "execution_count": null,
   "metadata": {},
   "outputs": [],
   "source": [
    "acronym(\"random access memory\")"
   ]
  },
  {
   "cell_type": "code",
   "execution_count": null,
   "metadata": {
    "collapsed": true,
    "deletable": false,
    "editable": false,
    "nbgrader": {
     "checksum": "e77150d6877e69193877ce536aa7cc5f",
     "grade": true,
     "grade_id": "cell-5d7c54c479512d00",
     "locked": true,
     "points": 2,
     "schema_version": 1,
     "solution": false
    }
   },
   "outputs": [],
   "source": [
    "\"\"\"Check that acronym returns the correct answer for various inputs\"\"\"\n",
    "assert acronym(\"\") == \"\"\n",
    "assert acronym(\"a b c\") == \"ABC\"\n",
    "assert acronym(\"random access memory\") == \"RAM\"\n",
    "assert acronym(\"Random Access Memory\") == \"RAM\"\n",
    "\n",
    "\n",
    "\"\"\"Check that the function has a docstring\"\"\"\n",
    "assert acronym.__doc__ != None"
   ]
  },
  {
   "cell_type": "markdown",
   "metadata": {
    "deletable": false,
    "editable": false,
    "nbgrader": {
     "checksum": "72991d785889c86494eb17aabaf523f0",
     "grade": false,
     "grade_id": "cell-c9946169b382db01",
     "locked": true,
     "schema_version": 1,
     "solution": false
    }
   },
   "source": [
    "A word is an **anagram** of another word if it is formed by rearranging the letters of that word, using all the original letters exactly once.  Write a `python` function `is_anagram(word, anagram)` that returns `True` or `False`\n",
    "depending on whether the argument `anagram` is an anagram of the argument `word`. In this sense,\n",
    "`\"silent\"` is an anagram of `\"listen\"`.  Your function should treat uppercase letters as equal to their\n",
    "lowercase versions."
   ]
  },
  {
   "cell_type": "code",
   "execution_count": null,
   "metadata": {
    "collapsed": true,
    "deletable": false,
    "nbgrader": {
     "checksum": "36910794ed9fa31400f8bd8e759a8c83",
     "grade": false,
     "grade_id": "cell-a60b1eaa7c1029a5",
     "locked": false,
     "schema_version": 1,
     "solution": true
    }
   },
   "outputs": [],
   "source": [
    "def is_anagram(word, anagram):\n",
    "    \"Is 'anagram' an anagram of 'word'?\"\n",
    "    # YOUR CODE HERE\n",
    "    raise NotImplementedError()"
   ]
  },
  {
   "cell_type": "markdown",
   "metadata": {},
   "source": [
    "So `\"Stressed\"` is an anagram of `\"Desserts\"`. Verify that this is what your function computes."
   ]
  },
  {
   "cell_type": "code",
   "execution_count": null,
   "metadata": {},
   "outputs": [],
   "source": [
    "is_anagram(\"Desserts\", \"Stressed\")"
   ]
  },
  {
   "cell_type": "code",
   "execution_count": null,
   "metadata": {
    "collapsed": true,
    "deletable": false,
    "editable": false,
    "nbgrader": {
     "checksum": "dcca735afc39cc7fe02b7c636bb21786",
     "grade": true,
     "grade_id": "cell-41bb02803778c6da",
     "locked": true,
     "points": 2,
     "schema_version": 1,
     "solution": false
    }
   },
   "outputs": [],
   "source": [
    "\"\"\"Check that is_anagram returns the correct answer for various inputs\"\"\"\n",
    "assert is_anagram(\"\", \"\") == True\n",
    "assert is_anagram(\"puppet\", \"muppet\") == False\n",
    "assert is_anagram(\"listen\", \"silent\") == True\n",
    "assert is_anagram(\"Stressed\", \"Desserts\") == True\n",
    "\n",
    "\"\"\"Check that the function has a docstring\"\"\"\n",
    "assert is_anagram.__doc__ != None"
   ]
  },
  {
   "cell_type": "markdown",
   "metadata": {},
   "source": [
    "A word is a **palindrome** if it reads the same forwards and backwards.  Write a `python` function `is_palindrome(word)`\n",
    "that checks whether a given word is a palindrome and returns `True` or `False` accordingly. Your function should treat uppercase letters as equal to their lowercase versions.\n",
    "(**Hint.** The 3-argument version of slicing, `l[start:stop:step]` takes an additional argument `step` which instructs\n",
    "`python` to extract values from a list `l` with step-size `step`. Thus `l[::2]` will extract all\n",
    "items in `l` at even positions.  Perhaps a negative step-size will reverse a string.)"
   ]
  },
  {
   "cell_type": "code",
   "execution_count": null,
   "metadata": {
    "collapsed": true,
    "deletable": false,
    "nbgrader": {
     "checksum": "a09f4a38388fbe021126e1dc0b816001",
     "grade": false,
     "grade_id": "cell-0f0c8781f44cf5c2",
     "locked": false,
     "schema_version": 1,
     "solution": true
    }
   },
   "outputs": [],
   "source": [
    "def is_palindrome(word):\n",
    "    # YOUR CODE HERE\n",
    "    raise NotImplementedError()"
   ]
  },
  {
   "cell_type": "raw",
   "metadata": {},
   "source": [
    "For example, `\"Anna\"` is a palindromic name.  Verify that this is what your function computes."
   ]
  },
  {
   "cell_type": "code",
   "execution_count": null,
   "metadata": {},
   "outputs": [],
   "source": [
    "is_palindrome(\"Anna\")"
   ]
  },
  {
   "cell_type": "code",
   "execution_count": null,
   "metadata": {
    "collapsed": true,
    "deletable": false,
    "editable": false,
    "nbgrader": {
     "checksum": "0efc34d39d3b381a6838a1cde88bf1d9",
     "grade": true,
     "grade_id": "cell-cc5840e2854fdd36",
     "locked": true,
     "points": 2,
     "schema_version": 1,
     "solution": false
    }
   },
   "outputs": [],
   "source": [
    "\"\"\"Check that is_palindrome returns the correct answer for various inputs\"\"\"\n",
    "assert is_palindrome(\"\") == True\n",
    "assert is_palindrome(\"Anna\") == True\n",
    "assert is_palindrome(\"otto\") == True\n",
    "assert is_palindrome(\"I\") == True\n",
    "assert is_palindrome(\"racecar\") == True\n",
    "assert is_palindrome(\"abc\") == False\n",
    "\n",
    "\"\"\"Check that the function has a docstring\"\"\"\n",
    "assert is_palindrome.__doc__ != None"
   ]
  },
  {
   "cell_type": "markdown",
   "metadata": {
    "deletable": false,
    "editable": false,
    "nbgrader": {
     "checksum": "db25e0c609defacbc243c68a88e7f85f",
     "grade": false,
     "grade_id": "cell-890adfac4d2ca872",
     "locked": true,
     "schema_version": 1,
     "solution": false
    }
   },
   "source": [
    "A **prime number** is an integer bigger than $1$ which is not divisible\n",
    "by any positive integer except for $1$ and itself.  Write a `python` function `is_prime(n)` that\n",
    "uses a **definite loop** to implement this definition and\n",
    "returns `True` or `False`, depending on whether the given integer `n` is a prime number or not."
   ]
  },
  {
   "cell_type": "code",
   "execution_count": null,
   "metadata": {
    "collapsed": true,
    "deletable": false,
    "nbgrader": {
     "checksum": "1be530118668e47e41db9373f3d4a729",
     "grade": false,
     "grade_id": "cell-9f6b14955decce32",
     "locked": false,
     "schema_version": 1,
     "solution": true
    }
   },
   "outputs": [],
   "source": [
    "def is_prime(n):\n",
    "    # YOUR CODE HERE\n",
    "    raise NotImplementedError()"
   ]
  },
  {
   "cell_type": "markdown",
   "metadata": {},
   "source": [
    "According to this definition, $1$ is not a prime, but $2$ is one. Verify that this is what your function computes."
   ]
  },
  {
   "cell_type": "code",
   "execution_count": null,
   "metadata": {},
   "outputs": [],
   "source": [
    "is_prime(1), is_prime(2)"
   ]
  },
  {
   "cell_type": "code",
   "execution_count": null,
   "metadata": {
    "collapsed": true,
    "deletable": false,
    "editable": false,
    "nbgrader": {
     "checksum": "79fa563edc2bb0959c6192ffadabe86a",
     "grade": true,
     "grade_id": "cell-27bd55407531fcb8",
     "locked": true,
     "points": 2,
     "schema_version": 1,
     "solution": false
    }
   },
   "outputs": [],
   "source": [
    "\"\"\"Check that is_prime returns the correct answer for various inputs\"\"\"\n",
    "assert is_prime(1) == False\n",
    "assert is_prime(2) == True\n",
    "assert is_prime(3) == True\n",
    "assert is_prime(4) == False\n",
    "assert is_prime(5) == True\n",
    "assert is_prime(6) == False\n",
    "assert is_prime(7) == True\n",
    "assert is_prime(0) == False\n",
    "assert is_prime(-1) == False\n",
    "assert is_prime(1031) == True\n",
    "assert is_prime(1037) == False\n",
    "\n",
    "\"\"\"Check that the function has a docstring\"\"\"\n",
    "assert is_prime.__doc__ != None"
   ]
  },
  {
   "cell_type": "markdown",
   "metadata": {
    "collapsed": true,
    "deletable": false,
    "editable": false,
    "nbgrader": {
     "checksum": "7ba463cc31181599810f82ca05be095b",
     "grade": false,
     "grade_id": "cell-76144beab9c76456",
     "locked": true,
     "schema_version": 1,
     "solution": false
    }
   },
   "source": [
    "Write a Python function `primes_upto(n)` that\n",
    "takes an integer $n$ as its only argument\n",
    "and uses your function `is_prime()` from the previous task to\n",
    "compute and return the  list of all\n",
    "prime numbers between $1$ and $n$ (inclusive).\n",
    "(**Hint:** use an accumulator.)"
   ]
  },
  {
   "cell_type": "code",
   "execution_count": null,
   "metadata": {
    "collapsed": true,
    "deletable": false,
    "nbgrader": {
     "checksum": "bcab4a44de9780d9e178aa48eb94d54f",
     "grade": false,
     "grade_id": "cell-6b3da3388be830d0",
     "locked": false,
     "schema_version": 1,
     "solution": true
    }
   },
   "outputs": [],
   "source": [
    "def primes_upto(n):\n",
    "    \"list primes up to n (inclusive)\"\n",
    "    # YOUR CODE HERE\n",
    "    raise NotImplementedError()"
   ]
  },
  {
   "cell_type": "markdown",
   "metadata": {},
   "source": [
    "The list of primes up to $n = 11$ (inclusive) is $2, 3, 5, 7, 11$. Verify that this is what your function computes."
   ]
  },
  {
   "cell_type": "code",
   "execution_count": null,
   "metadata": {},
   "outputs": [],
   "source": [
    "primes_upto(11)"
   ]
  },
  {
   "cell_type": "code",
   "execution_count": null,
   "metadata": {
    "collapsed": true,
    "deletable": false,
    "editable": false,
    "nbgrader": {
     "checksum": "1fc354b12249c81ad343958dcde45793",
     "grade": true,
     "grade_id": "cell-10e95947a4679c74",
     "locked": true,
     "points": 2,
     "schema_version": 1,
     "solution": false
    }
   },
   "outputs": [],
   "source": [
    "\"\"\"Check that primes_upto returns the correct answer for various inputs\"\"\"\n",
    "assert primes_upto(1) == []\n",
    "assert primes_upto(2) == [2]\n",
    "assert primes_upto(11) == [2, 3, 5, 7, 11]\n",
    "assert len(primes_upto(1000)) == 168\n",
    "\n",
    "\"\"\"Check that the function has a docstring\"\"\"\n",
    "assert primes_upto.__doc__ != None"
   ]
  },
  {
   "cell_type": "markdown",
   "metadata": {
    "deletable": false,
    "editable": false,
    "nbgrader": {
     "checksum": "cde4594c99f613ccdd413059ebb68d8d",
     "grade": false,
     "grade_id": "cell-ae7d6bcb94f513af",
     "locked": true,
     "schema_version": 1,
     "solution": false
    }
   },
   "source": [
    " A year is a **leap year** if it is divisible by $4$, unless it is divisible by $100$ but not by $400$.\n",
    "(For example, $1800$ and $1900$ were not leap years, whereas $2000$ was one.)\n",
    "Write a Python function `is_leap_year(year)` that returns\n",
    "`True` or `False`, depending on whether its argument\n",
    "`year` is a leap year or not."
   ]
  },
  {
   "cell_type": "code",
   "execution_count": null,
   "metadata": {
    "collapsed": true,
    "deletable": false,
    "nbgrader": {
     "checksum": "88a790beb7ff5c9c40e980e041e117b1",
     "grade": false,
     "grade_id": "cell-6119b67bced5d821",
     "locked": false,
     "schema_version": 1,
     "solution": true
    }
   },
   "outputs": [],
   "source": [
    "def is_leap_year(year):\n",
    "    # YOUR CODE HERE\n",
    "    raise NotImplementedError()"
   ]
  },
  {
   "cell_type": "markdown",
   "metadata": {},
   "source": [
    "So $2000$ was a leap year, but $2018$ won't be one.  Verify that this is what your function computes."
   ]
  },
  {
   "cell_type": "code",
   "execution_count": null,
   "metadata": {},
   "outputs": [],
   "source": [
    "is_leap_year(2000), is_leap_year(2018)"
   ]
  },
  {
   "cell_type": "code",
   "execution_count": null,
   "metadata": {
    "collapsed": true,
    "deletable": false,
    "editable": false,
    "nbgrader": {
     "checksum": "190d844fb0534410ecbcd2e36c51f0f7",
     "grade": true,
     "grade_id": "cell-4a0b587b3f209145",
     "locked": true,
     "points": 2,
     "schema_version": 1,
     "solution": false
    }
   },
   "outputs": [],
   "source": [
    "\"\"\"Check that is_leap_year returns the correct answer for various inputs\"\"\"\n",
    "assert is_leap_year(1900) == False\n",
    "assert is_leap_year(1800) == False\n",
    "assert is_leap_year(2000) == True\n",
    "assert is_leap_year(2100) == False\n",
    "assert is_leap_year(2016) == True\n",
    "assert is_leap_year(2017) == False\n",
    "assert is_leap_year(2015) == False\n",
    "assert is_leap_year(2018) == False\n",
    "assert is_leap_year(2019) == False\n",
    "\n",
    "\"\"\"Check that the function has a docstring\"\"\"\n",
    "assert is_leap_year.__doc__ != None"
   ]
  },
  {
   "cell_type": "markdown",
   "metadata": {
    "deletable": false,
    "editable": false,
    "nbgrader": {
     "checksum": "9806a266254b95f9c36babb64a64990f",
     "grade": false,
     "grade_id": "cell-e273072461b13c7a",
     "locked": true,
     "schema_version": 1,
     "solution": false
    }
   },
   "source": [
    "Write a `python` function `is_triangular(a, b, c)`\n",
    "that returns `True` or `False` depending on whether\n",
    "the three given numbers\n",
    "`a`,\n",
    "`b` and\n",
    "`c` could be the lengths of the sides\n",
    "of a triangle, i.e., if the sum of the smaller two\n",
    "is greater than the largest of them."
   ]
  },
  {
   "cell_type": "code",
   "execution_count": null,
   "metadata": {
    "collapsed": true,
    "deletable": false,
    "nbgrader": {
     "checksum": "0bba1bb89f30da310b85a608d7674035",
     "grade": false,
     "grade_id": "cell-9f8ab7a0659742b9",
     "locked": false,
     "schema_version": 1,
     "solution": true
    }
   },
   "outputs": [],
   "source": [
    "def is_triangular(a, b, c):\n",
    "    # YOUR CODE HERE\n",
    "    raise NotImplementedError()"
   ]
  },
  {
   "cell_type": "markdown",
   "metadata": {},
   "source": [
    "You've probably seen a triangle with side lengths $3$, $4$, and $5$.  That makes the triple $3, 4, 5$ triangular. Verify that this is what your function computes."
   ]
  },
  {
   "cell_type": "code",
   "execution_count": null,
   "metadata": {},
   "outputs": [],
   "source": [
    "is_triangular(3, 4, 5)"
   ]
  },
  {
   "cell_type": "code",
   "execution_count": null,
   "metadata": {
    "deletable": false,
    "editable": false,
    "nbgrader": {
     "checksum": "48c6968b3dbff2a4a93352b1cfeca7ef",
     "grade": true,
     "grade_id": "cell-9e886e3db2d7e61d",
     "locked": true,
     "points": 2,
     "schema_version": 1,
     "solution": false
    }
   },
   "outputs": [],
   "source": [
    "\"\"\"Check that is_triangular returns the correct answer for various inputs\"\"\"\n",
    "assert is_triangular(3,4,5) == True\n",
    "assert is_triangular(3,4,6) == True\n",
    "assert is_triangular(3,4,7) == False\n",
    "assert is_triangular(3,4,8) == False\n",
    "\n",
    "\"\"\"Check that the function has a docstring\"\"\"\n",
    "assert is_triangular.__doc__ != None"
   ]
  },
  {
   "cell_type": "code",
   "execution_count": null,
   "metadata": {
    "collapsed": true
   },
   "outputs": [],
   "source": []
  }
 ],
 "metadata": {
  "kernelspec": {
   "display_name": "Python 3",
   "language": "python",
   "name": "python3"
  },
  "language_info": {
   "codemirror_mode": {
    "name": "ipython",
    "version": 3
   },
   "file_extension": ".py",
   "mimetype": "text/x-python",
   "name": "python",
   "nbconvert_exporter": "python",
   "pygments_lexer": "ipython3",
   "version": "3.6.1"
  }
 },
 "nbformat": 4,
 "nbformat_minor": 2
}
