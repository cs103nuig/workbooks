{
 "cells": [
  {
   "cell_type": "markdown",
   "metadata": {},
   "source": [
    "### CS102/CS103\n",
    "\n",
    "Prof. Götz Pfeiffer<br />\n",
    "School of Mathematics, Statistics and Applied Mathematics<br />\n",
    "NUI Galway\n",
    "\n",
    "# Computer Lab 5"
   ]
  },
  {
   "cell_type": "markdown",
   "metadata": {
    "deletable": false,
    "editable": false,
    "nbgrader": {
     "checksum": "6f91fe10d18f86af9fad831368b754e9",
     "grade": false,
     "grade_id": "cell-a7e99a98ffef4516",
     "locked": true,
     "schema_version": 1,
     "solution": false
    }
   },
   "source": [
    "## Multiple Choice\n",
    "\n",
    "For each of the following questions, choose `'a'`, `'b'`, `'c'`, or `'d'` as answer\n",
    "and type it into the cell below (with quotes)."
   ]
  },
  {
   "cell_type": "markdown",
   "metadata": {
    "deletable": false,
    "editable": false,
    "nbgrader": {
     "checksum": "91a3dae484ed149953be60d57e42fd69",
     "grade": false,
     "grade_id": "cell-d1d96dd7ac270f73",
     "locked": true,
     "schema_version": 1,
     "solution": false
    }
   },
   "source": [
    "* Which of the following correctly tests whether `x` is even?\n",
    "\n",
    "(a) `x // 2 == 0`<br />\n",
    "(b) `x / 2 == 0`<br />\n",
    "(c) `x % 2 == 0`<br />\n",
    "(d) `x % 2 == x`<br />"
   ]
  },
  {
   "cell_type": "code",
   "execution_count": null,
   "metadata": {
    "deletable": false,
    "nbgrader": {
     "checksum": "b1f54407524c7e03aae96ef395aab273",
     "grade": false,
     "grade_id": "cell-b9c9c9dd615933e3",
     "locked": false,
     "schema_version": 1,
     "solution": true
    }
   },
   "outputs": [],
   "source": [
    "# YOUR CODE HERE\n",
    "raise NotImplementedError()"
   ]
  },
  {
   "cell_type": "markdown",
   "metadata": {},
   "source": [
    "(You can use the cell below to ensure that your answer above has the correct format. You can and should not modify the content of that cell.)"
   ]
  },
  {
   "cell_type": "code",
   "execution_count": null,
   "metadata": {
    "collapsed": true,
    "deletable": false,
    "editable": false,
    "nbgrader": {
     "checksum": "c3eac7e1d09a9f8615eda083de199bc1",
     "grade": true,
     "grade_id": "cell-3eb19aff93f05c15",
     "locked": true,
     "points": 1,
     "schema_version": 1,
     "solution": false
    }
   },
   "outputs": [],
   "source": [
    "_answer = _\n",
    "assert(type(_answer) == str)"
   ]
  },
  {
   "cell_type": "markdown",
   "metadata": {
    "deletable": false,
    "editable": false,
    "nbgrader": {
     "checksum": "2da8fe1ff4ef28d0c68ee77b3aa4e4c2",
     "grade": false,
     "grade_id": "cell-77c98a2f319bde4b",
     "locked": true,
     "schema_version": 1,
     "solution": false
    }
   },
   "source": [
    "* What keyword parameter is used to send a key-function to the `sort()` method?\n",
    "\n",
    "(a) `reversed`<br />\n",
    "(b) `reverse`<br />\n",
    "(c) `key`<br />\n",
    "(d) `cmp`<br />"
   ]
  },
  {
   "cell_type": "code",
   "execution_count": null,
   "metadata": {
    "deletable": false,
    "nbgrader": {
     "checksum": "3adacaa9e9d2a727cad3c152efb29bab",
     "grade": false,
     "grade_id": "cell-aa9cdb4bc7e94911",
     "locked": false,
     "schema_version": 1,
     "solution": true
    }
   },
   "outputs": [],
   "source": [
    "# YOUR CODE HERE\n",
    "raise NotImplementedError()"
   ]
  },
  {
   "cell_type": "markdown",
   "metadata": {},
   "source": [
    "(You can use the cell below to ensure that your answer above has the correct format. You can and should not modify the content of that cell.)"
   ]
  },
  {
   "cell_type": "code",
   "execution_count": null,
   "metadata": {
    "collapsed": true,
    "deletable": false,
    "editable": false,
    "nbgrader": {
     "checksum": "0b9784c616d198ea4b7a52432e5f8c82",
     "grade": true,
     "grade_id": "cell-d39ca1e9841bfdd5",
     "locked": true,
     "points": 1,
     "schema_version": 1,
     "solution": false
    }
   },
   "outputs": [],
   "source": [
    "_answer = _\n",
    "assert(type(_answer) == str)"
   ]
  },
  {
   "cell_type": "markdown",
   "metadata": {
    "deletable": false,
    "editable": false,
    "nbgrader": {
     "checksum": "73e662a17c31970c5d3016b4f9d2a290",
     "grade": false,
     "grade_id": "cell-ec6b2a43f2ea4fb0",
     "locked": true,
     "schema_version": 1,
     "solution": false
    }
   },
   "source": [
    "* Which of the following is not a dictionary method?\n",
    "\n",
    "(a) `get()`<br />\n",
    "(b) `keys()`<br />\n",
    "(c) `sort()`<br />\n",
    "(d) `clear()`<br />"
   ]
  },
  {
   "cell_type": "code",
   "execution_count": null,
   "metadata": {
    "deletable": false,
    "nbgrader": {
     "checksum": "006ab4e80868b3713ef71d4c54dde678",
     "grade": false,
     "grade_id": "cell-e60c53b8dfb0aa33",
     "locked": false,
     "schema_version": 1,
     "solution": true
    }
   },
   "outputs": [],
   "source": [
    "# YOUR CODE HERE\n",
    "raise NotImplementedError()"
   ]
  },
  {
   "cell_type": "markdown",
   "metadata": {},
   "source": [
    "(You can use the cell below to ensure that your answer above has the correct format. You can and should not modify the content of that cell.)"
   ]
  },
  {
   "cell_type": "code",
   "execution_count": null,
   "metadata": {
    "collapsed": true,
    "deletable": false,
    "editable": false,
    "nbgrader": {
     "checksum": "ddea92a8cd1fdc709a5a984f6784f84f",
     "grade": true,
     "grade_id": "cell-8b951f1bb5d955ca",
     "locked": true,
     "points": 1,
     "schema_version": 1,
     "solution": false
    }
   },
   "outputs": [],
   "source": [
    "_answer = _\n",
    "assert(type(_answer) == str)"
   ]
  },
  {
   "cell_type": "markdown",
   "metadata": {
    "deletable": false,
    "editable": false,
    "nbgrader": {
     "checksum": "7092c47bd6c9e4c4a8df458b09314c2b",
     "grade": false,
     "grade_id": "cell-2adcb018149b030e",
     "locked": true,
     "schema_version": 1,
     "solution": false
    }
   },
   "source": [
    "* Which line would not be found in a truth table for `and`?\n",
    "\n",
    "(a) `True  True  True`<br />\n",
    "(b) `True  False True`<br />\n",
    "(c) `False True  False`<br />\n",
    "(d) `False False False`<br />"
   ]
  },
  {
   "cell_type": "code",
   "execution_count": null,
   "metadata": {
    "deletable": false,
    "nbgrader": {
     "checksum": "6f794da7394e08bdfbfca141759cd9e4",
     "grade": false,
     "grade_id": "cell-6dc0c7312ea0df97",
     "locked": false,
     "schema_version": 1,
     "solution": true
    }
   },
   "outputs": [],
   "source": [
    "# YOUR CODE HERE\n",
    "raise NotImplementedError()"
   ]
  },
  {
   "cell_type": "markdown",
   "metadata": {},
   "source": [
    "(You can use the cell below to ensure that your answer above has the correct format. You can and should not modify the content of that cell.)"
   ]
  },
  {
   "cell_type": "code",
   "execution_count": null,
   "metadata": {
    "collapsed": true,
    "deletable": false,
    "editable": false,
    "nbgrader": {
     "checksum": "9732c0aa6f61767e67ee848a3a034b48",
     "grade": true,
     "grade_id": "cell-34f5212cccd3b9e4",
     "locked": true,
     "points": 1,
     "schema_version": 1,
     "solution": false
    }
   },
   "outputs": [],
   "source": [
    "_answer = _\n",
    "assert(type(_answer) == str)"
   ]
  },
  {
   "cell_type": "code",
   "execution_count": null,
   "metadata": {
    "collapsed": true
   },
   "outputs": [],
   "source": []
  }
 ],
 "metadata": {
  "kernelspec": {
   "display_name": "Python 3",
   "language": "python",
   "name": "python3"
  },
  "language_info": {
   "codemirror_mode": {
    "name": "ipython",
    "version": 3
   },
   "file_extension": ".py",
   "mimetype": "text/x-python",
   "name": "python",
   "nbconvert_exporter": "python",
   "pygments_lexer": "ipython3",
   "version": "3.6.1"
  }
 },
 "nbformat": 4,
 "nbformat_minor": 2
}
