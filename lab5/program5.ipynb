{
 "cells": [
  {
   "cell_type": "markdown",
   "metadata": {},
   "source": [
    "### CS102/CS103\n",
    "\n",
    "Prof. Götz Pfeiffer<br />\n",
    "School of Mathematics, Statistics and Applied Mathematics<br />\n",
    "NUI Galway\n",
    "\n",
    "# Computer Lab 5"
   ]
  },
  {
   "cell_type": "markdown",
   "metadata": {},
   "source": [
    "##  Programming Exercises\n",
    "\n",
    "In this part of the practical you will write some `python` functions.\n",
    "\n",
    "In each function definition, the **first line of\n",
    "the function body** should be **a string that briefly explains the\n",
    "purpose** of that function.\n",
    "\n",
    "In some of these functions, a **decision statement** is needed to \n",
    "distinguish several cases.  In other functions, a variant of the **accumulator pattern** might be useful.\n",
    "Here, an **accumulator variable** is first **initialized** with a suitable value,\n",
    "then during a loop over some sequence, the accumulator variable is **updated in each iteration**\n",
    "of the loop, and finally the final value of the accumulator variable is returned.\n",
    "The **loop** in the accumulator can be several loops **nested** inside each other.  \n",
    "\n",
    "The following `python` progam uses the accumulator pattern to compute the product of a list of numbers\n",
    "in the accumulator variable `total`."
   ]
  },
  {
   "cell_type": "code",
   "execution_count": null,
   "metadata": {
    "collapsed": true
   },
   "outputs": [],
   "source": [
    "def product_numbers(numbers):\n",
    "    \"compute the product of a list of numbers\"\n",
    "    total = 1\n",
    "    for number in numbers:\n",
    "        total *= number\n",
    "    return total"
   ]
  },
  {
   "cell_type": "markdown",
   "metadata": {},
   "source": [
    "We know that the product of the numbers $1,2,3$ and $4$ is $24$.  That's what the function should compute."
   ]
  },
  {
   "cell_type": "code",
   "execution_count": null,
   "metadata": {},
   "outputs": [],
   "source": [
    "product_numbers(range(1,5))"
   ]
  },
  {
   "cell_type": "markdown",
   "metadata": {
    "deletable": false,
    "editable": false,
    "nbgrader": {
     "checksum": "d5ebda61a3c3d6b2c79bd25cd66ae437",
     "grade": false,
     "grade_id": "cell-af0fec2d5190f4db",
     "locked": true,
     "schema_version": 1,
     "solution": false
    }
   },
   "source": [
    "In some of the exercises, a **partial answer** together with the text\n",
    "```\n",
    "# YOUR CODE HERE\n",
    "raise NotImplementedError()\n",
    "```\n",
    "is already given in the answer cell.  **Delete** those two lines\n",
    "and replace them with your own code to complete the answer."
   ]
  },
  {
   "cell_type": "markdown",
   "metadata": {
    "deletable": false,
    "editable": false,
    "nbgrader": {
     "checksum": "0f7d7394046e2d03c2c27617d18765f1",
     "grade": false,
     "grade_id": "cell-40624b1957d2982b",
     "locked": true,
     "schema_version": 1,
     "solution": false
    }
   },
   "source": [
    "* A company pays their employees EUR 20 per hour up to forty hours\n",
    "a week, and EUR 30 for every hour in excess of that.\n",
    "Write a `python` function `pay()` that takes the number of \n",
    "hours worked in a week and computes and returns the pay in euro.\n",
    "As this function deals with integer amounts of hours\n",
    "and euro, it should return a value of type `int`."
   ]
  },
  {
   "cell_type": "code",
   "execution_count": null,
   "metadata": {
    "collapsed": true,
    "deletable": false,
    "nbgrader": {
     "checksum": "77c1a4c81ebcf98f9582f79a5c95db48",
     "grade": false,
     "grade_id": "cell-e27b030570cc817c",
     "locked": false,
     "schema_version": 1,
     "solution": true
    }
   },
   "outputs": [],
   "source": [
    "def pay(hours):\n",
    "    \"Compute weekly pay\"\n",
    "    # YOUR CODE HERE\n",
    "    raise NotImplementedError()"
   ]
  },
  {
   "cell_type": "markdown",
   "metadata": {},
   "source": [
    "40 hours of work at a rate of EUR 20 per hour thus would earn a pay\n",
    "of EUR 800.  Verify that this is what your function\n",
    "computes."
   ]
  },
  {
   "cell_type": "code",
   "execution_count": null,
   "metadata": {},
   "outputs": [],
   "source": [
    "pay(40)"
   ]
  },
  {
   "cell_type": "code",
   "execution_count": null,
   "metadata": {
    "collapsed": true,
    "deletable": false,
    "editable": false,
    "nbgrader": {
     "checksum": "1269bb846c432f90708e62205e8fec0b",
     "grade": true,
     "grade_id": "cell-bdadbd52df619895",
     "locked": true,
     "points": 2,
     "schema_version": 1,
     "solution": false
    }
   },
   "outputs": [],
   "source": [
    "\"\"\"Check that pay returns the correct answer for various inputs\"\"\"\n",
    "assert pay(40) == 800\n",
    "assert pay(0) == 0\n",
    "assert pay(30) == 600\n",
    "assert pay(50) == 1100\n",
    "assert pay(39) == 780\n",
    "assert pay(41) == 830\n",
    "\n",
    "\"\"\"Check that the function has a docstring\"\"\"\n",
    "assert pay.__doc__ != None"
   ]
  },
  {
   "cell_type": "markdown",
   "metadata": {
    "deletable": false,
    "editable": false,
    "nbgrader": {
     "checksum": "416ab2caf3737c2cbf225095cfc8e645",
     "grade": false,
     "grade_id": "cell-582bd0fed9b5505b",
     "locked": true,
     "schema_version": 1,
     "solution": false
    }
   },
   "source": [
    "* In a certain country, a single employee  pays 20% tax \n",
    "on an annual income of up to EUR 33,800,\n",
    "and 40% on every euro earned in excess of that.\n",
    "Write a Python function `tax()`\n",
    "that takes the annual income in euro as argument, and\n",
    "computes and returns the amount (in euro) of tax to be paid on that."
   ]
  },
  {
   "cell_type": "code",
   "execution_count": null,
   "metadata": {
    "collapsed": true,
    "deletable": false,
    "nbgrader": {
     "checksum": "76951c28a3ec0c0edca6d8f5089f8eb6",
     "grade": false,
     "grade_id": "cell-3d4ff229eb796a89",
     "locked": false,
     "schema_version": 1,
     "solution": true
    }
   },
   "outputs": [],
   "source": [
    "def tax(income):\n",
    "    # YOUR CODE HERE\n",
    "    raise NotImplementedError()"
   ]
  },
  {
   "cell_type": "markdown",
   "metadata": {},
   "source": [
    "On an annual income of EUR 33,800, one would have to pay EUR 6760 in taxes.\n",
    "Verify that this is what your function computes."
   ]
  },
  {
   "cell_type": "code",
   "execution_count": null,
   "metadata": {},
   "outputs": [],
   "source": [
    "tax(33800)"
   ]
  },
  {
   "cell_type": "code",
   "execution_count": null,
   "metadata": {
    "collapsed": true,
    "deletable": false,
    "editable": false,
    "nbgrader": {
     "checksum": "b581563b20643d42d9049a059e56dde0",
     "grade": true,
     "grade_id": "cell-30b5544156c12f87",
     "locked": true,
     "points": 2,
     "schema_version": 1,
     "solution": false
    }
   },
   "outputs": [],
   "source": [
    "\"\"\"Check that tax returns the correct answer for various inputs\"\"\"\n",
    "assert tax(33800) == 33800 * 0.20\n",
    "assert tax(43800) == 33800 * 0.20 + 10000 * 0.40\n",
    "assert tax(23800) == 23800 * 0.20\n",
    "assert tax(0) == 0 * 0.20\n",
    "\n",
    "\"\"\"Check that the function has a docstring\"\"\"\n",
    "assert tax.__doc__ != None"
   ]
  },
  {
   "cell_type": "markdown",
   "metadata": {
    "deletable": false,
    "editable": false,
    "nbgrader": {
     "checksum": "59bd9feb15b5d87aad85b82e8bc7afc1",
     "grade": false,
     "grade_id": "cell-31aa15a7118149b6",
     "locked": true,
     "schema_version": 1,
     "solution": false
    }
   },
   "source": [
    "*  Write a Python function `three_digits()`\n",
    "that takes as argument a digit `d` between $0$ and $9$,\n",
    "and then uses nested for loops to generate a list of all three digit numbers\n",
    "such that the first digit is at least `d`,\n",
    "the second digit is as least as large as the first,\n",
    "and the third digit is at least as large as the second.\n",
    "Here, it helps to use an **accumulator variable** numbers, initialized\n",
    "as an empty list."
   ]
  },
  {
   "cell_type": "code",
   "execution_count": null,
   "metadata": {
    "collapsed": true,
    "deletable": false,
    "nbgrader": {
     "checksum": "99a54f9b5e2dc1da2ca81b2f99c48b16",
     "grade": false,
     "grade_id": "cell-897ac83b32c498fc",
     "locked": false,
     "schema_version": 1,
     "solution": true
    }
   },
   "outputs": [],
   "source": [
    "def three_digits(d):\n",
    "    \"list all 3-digit numbers under certain conditions.\"\n",
    "    # YOUR CODE HERE\n",
    "    raise NotImplementedError()"
   ]
  },
  {
   "cell_type": "markdown",
   "metadata": {},
   "source": [
    "The numbers satisfying the conditions for $d = 8$ are\n",
    "$888$, $889$, $899$ and $999$. Verify that this is what your function computes."
   ]
  },
  {
   "cell_type": "code",
   "execution_count": null,
   "metadata": {},
   "outputs": [],
   "source": [
    "three_digits(8)"
   ]
  },
  {
   "cell_type": "code",
   "execution_count": null,
   "metadata": {
    "collapsed": true,
    "deletable": false,
    "editable": false,
    "nbgrader": {
     "checksum": "76f871b67c963770ec2aaf0baba88fe6",
     "grade": true,
     "grade_id": "cell-a772ee93458cdb02",
     "locked": true,
     "points": 2,
     "schema_version": 1,
     "solution": false
    }
   },
   "outputs": [],
   "source": [
    "\"\"\"Check that three_digits returns the correct answer for various inputs\"\"\"\n",
    "assert three_digits(9) == [999]\n",
    "assert three_digits(8) == [888, 889, 899, 999]\n",
    "assert(len(three_digits(0)) == 220)\n",
    "\n",
    "\"\"\"Check that the function has a docstring\"\"\"\n",
    "assert three_digits.__doc__ != None"
   ]
  },
  {
   "cell_type": "markdown",
   "metadata": {
    "deletable": false,
    "editable": false,
    "nbgrader": {
     "checksum": "b52a63faa38d26d4cfb36e523fbe3b0d",
     "grade": false,
     "grade_id": "cell-cd33f0f88a035baf",
     "locked": true,
     "schema_version": 1,
     "solution": false
    }
   },
   "source": [
    "* Write a `python` function `letter_frequencies()` that takes\n",
    "a string `text` as argument and computes and returns\n",
    "a **dictionary** that has as keys all the letters\n",
    "occuring in the string `text` (and no other keys), which each have as their\n",
    "value a count of the number of appearances of that letter in the text.  \n",
    "The function should ignore digits, spaces, punctuation and everything\n",
    "else that is not a letter.\n",
    "The function should treat each uppercase letter as the corresponding lower case letter.  The dictionary thus should only have lower case letters as its keys.  \n",
    "You can use the string method `isalpha()` to decide whether\n",
    "a symbol from the string is a letter (`'a'.isalpha()` returns `True`\n",
    "and `'1'.isalpha()` returns `False`).\n",
    "You can use the string method `lower()` to turn any letter into\n",
    "its lowercase form (`'A'.lower()` returns `'a'` and `'a'.lower()`\n",
    "returns `'a'` as well).\n",
    "Here it helps to use an **accumulator variable** `letters`, initialized as an empty dictionary (`{}`)."
   ]
  },
  {
   "cell_type": "code",
   "execution_count": null,
   "metadata": {
    "collapsed": true,
    "deletable": false,
    "nbgrader": {
     "checksum": "42b4b82a0aaf7b260300775574b8ab1c",
     "grade": false,
     "grade_id": "cell-ecbc7725e61ac272",
     "locked": false,
     "schema_version": 1,
     "solution": true
    }
   },
   "outputs": [],
   "source": [
    "def letter_frequencies(text):\n",
    "    # YOUR CODE HERE\n",
    "    raise NotImplementedError()"
   ]
  },
  {
   "cell_type": "markdown",
   "metadata": {},
   "source": [
    "The string `\"Mississippi!\"` contains 4 letters `'i'`, 4 letters `'s'`\n",
    "and 1 of `'m'` and `'p'`. Verify that this is what your function computes."
   ]
  },
  {
   "cell_type": "code",
   "execution_count": null,
   "metadata": {},
   "outputs": [],
   "source": [
    "letter_frequencies(\"Mississipi!\")"
   ]
  },
  {
   "cell_type": "code",
   "execution_count": null,
   "metadata": {
    "collapsed": true,
    "deletable": false,
    "editable": false,
    "nbgrader": {
     "checksum": "45f8e3fa639544558d9084d204650955",
     "grade": true,
     "grade_id": "cell-dbcc2bc08814bd56",
     "locked": true,
     "points": 2,
     "schema_version": 1,
     "solution": false
    }
   },
   "outputs": [],
   "source": [
    "\"\"\"Check that letter_frequencies returns the correct answer for various inputs\"\"\"\n",
    "assert letter_frequencies(\"Mississipi!\") == {'i': 4, 'm': 1, 'p': 1, 's': 4}\n",
    "assert letter_frequencies(\"A B C\\n\") == {'a': 1, 'b': 1, 'c': 1}\n",
    "assert letter_frequencies(\"(1) A,B-C.\") == {'a': 1, 'b': 1, 'c': 1}\n",
    "assert letter_frequencies(\"\") == {}\n",
    "\n",
    "\"\"\"Check that the function has a docstring\"\"\"\n",
    "assert letter_frequencies.__doc__ != None"
   ]
  },
  {
   "cell_type": "markdown",
   "metadata": {
    "deletable": false,
    "editable": false,
    "nbgrader": {
     "checksum": "8d59b8121f39b82202ed819a35c88a55",
     "grade": false,
     "grade_id": "cell-57a0ef7b04172771",
     "locked": true,
     "schema_version": 1,
     "solution": false
    }
   },
   "source": [
    "* Now write a `python` function `add_letter_frequencies(letters, text)` that takes a (possibly empty)\n",
    "dictionary `letters` of letter counts and a string `text` as arguments counts the letters (as lowercase letters)\n",
    "in `text` as above, and **adds** those counts to the ones already in the dictionary `letters`."
   ]
  },
  {
   "cell_type": "code",
   "execution_count": null,
   "metadata": {
    "collapsed": true,
    "deletable": false,
    "nbgrader": {
     "checksum": "031ddf64400ddb4579130f1a7d37bc83",
     "grade": false,
     "grade_id": "cell-cc3eef2acc2ca14b",
     "locked": false,
     "schema_version": 1,
     "solution": true
    }
   },
   "outputs": [],
   "source": [
    "def add_letter_frequencies(letters, text):\n",
    "    \"add letter frequencies in text to letters dict\"\n",
    "    # YOUR CODE HERE\n",
    "    raise NotImplementedError()"
   ]
  },
  {
   "cell_type": "markdown",
   "metadata": {},
   "source": [
    "The dictionary `{'a': 2, 'b': 1}` and the text `\"abc\"` should result in the dictionary `{'a': 3, 'b': 2, 'c': 1}`.\n",
    "Verify that this is what your function computes."
   ]
  },
  {
   "cell_type": "code",
   "execution_count": null,
   "metadata": {},
   "outputs": [],
   "source": [
    "add_letter_frequencies({'a': 2, 'b': 1}, \"abc\")"
   ]
  },
  {
   "cell_type": "code",
   "execution_count": null,
   "metadata": {
    "deletable": false,
    "editable": false,
    "nbgrader": {
     "checksum": "d0ba93cd35c461fee1ea41cf95b34c93",
     "grade": true,
     "grade_id": "cell-6a71a30d89b7e77f",
     "locked": true,
     "points": 2,
     "schema_version": 1,
     "solution": false
    }
   },
   "outputs": [],
   "source": [
    "\"\"\"Check that add_letter_frequencies returns the correct answer for various inputs\"\"\"\n",
    "assert add_letter_frequencies({}, \"Mississipi!\") == {'i': 4, 'm': 1, 'p': 1, 's': 4}\n",
    "assert add_letter_frequencies({}, \"(1) A,B-C.\\n\") == {'a': 1, 'b': 1, 'c': 1}\n",
    "assert add_letter_frequencies({}, \"\") == {}\n",
    "assert add_letter_frequencies({'a': 2, 'b': 1}, \"abc\") == {'a': 3, 'b': 2, 'c': 1}\n",
    "\n",
    "\"\"\"Check that the function has a docstring\"\"\"\n",
    "assert add_letter_frequencies.__doc__ != None"
   ]
  },
  {
   "cell_type": "markdown",
   "metadata": {
    "deletable": false,
    "editable": false,
    "nbgrader": {
     "checksum": "965f4439d4519f93a074f8815112f299",
     "grade": false,
     "grade_id": "cell-516a80461c6e3924",
     "locked": true,
     "schema_version": 1,
     "solution": false
    }
   },
   "source": [
    "* Write a `python` function `letter_frequencies_story(filename)` that takes a file name as argument,\n",
    "opens the file, then reads it line by line, and uses the \n",
    "`add_letter_frequencies()` function from above to update an accumulator dictionary with the \n",
    "letter counts of each line.\n",
    "The function should return a dictionary of letter frequencies in the given file."
   ]
  },
  {
   "cell_type": "code",
   "execution_count": null,
   "metadata": {
    "deletable": false,
    "nbgrader": {
     "checksum": "d9d8bff46f35da43ae89afc71ffe4dd9",
     "grade": false,
     "grade_id": "cell-63adcd2dd0c5cb12",
     "locked": false,
     "schema_version": 1,
     "solution": true
    }
   },
   "outputs": [],
   "source": [
    "def letter_frequencies_story(filename):\n",
    "    \"count letters in a file\"\n",
    "    # YOUR CODE HERE\n",
    "    raise NotImplementedError()"
   ]
  },
  {
   "cell_type": "markdown",
   "metadata": {},
   "source": [
    "The file `scan.txt` contains the short story _A Scandal in Bohemia_ by Arthur Conan Doyle.  There are exactly $46$ letters `'x'` in this story. Verify that this is what your function computes."
   ]
  },
  {
   "cell_type": "code",
   "execution_count": null,
   "metadata": {},
   "outputs": [],
   "source": [
    "letter_frequencies_story(\"scan.txt\")['e']"
   ]
  },
  {
   "cell_type": "code",
   "execution_count": null,
   "metadata": {
    "deletable": false,
    "editable": false,
    "nbgrader": {
     "checksum": "3c19eeab35876cdf949e4c9fb576ca58",
     "grade": true,
     "grade_id": "cell-b9b224444e50dd61",
     "locked": true,
     "points": 2,
     "schema_version": 1,
     "solution": false
    }
   },
   "outputs": [],
   "source": [
    "\"\"\"Check that letter_frequencies_story returns the correct answer for various inputs\"\"\"\n",
    "assert letter_frequencies_story(\"scan.txt\")['e'] == 4443\n",
    "\n",
    "\"\"\"Check that the function has a docstring\"\"\"\n",
    "assert letter_frequencies_story.__doc__ != None"
   ]
  },
  {
   "cell_type": "markdown",
   "metadata": {
    "deletable": false,
    "editable": false,
    "nbgrader": {
     "checksum": "8e949e0a8bc772263c270a0d87026631",
     "grade": false,
     "grade_id": "cell-d61a508e04da25ea",
     "locked": true,
     "schema_version": 1,
     "solution": false
    }
   },
   "source": [
    "* Write a function `second(values)` that returns the **second** item in a list `values`, i.e., the item at\n",
    "position $1$."
   ]
  },
  {
   "cell_type": "code",
   "execution_count": null,
   "metadata": {
    "collapsed": true,
    "deletable": false,
    "nbgrader": {
     "checksum": "47a981abd953fdc540d1c94354d01327",
     "grade": false,
     "grade_id": "cell-9f8377f19c836b4f",
     "locked": false,
     "schema_version": 1,
     "solution": true
    }
   },
   "outputs": [],
   "source": [
    "def second(values):\n",
    "    # YOUR CODE HERE\n",
    "    raise NotImplementedError()"
   ]
  },
  {
   "cell_type": "markdown",
   "metadata": {},
   "source": [
    "The second item in the sequence `\"abc\"` is the letter `'b'`. Verify that this is what your function computes."
   ]
  },
  {
   "cell_type": "code",
   "execution_count": null,
   "metadata": {},
   "outputs": [],
   "source": [
    "second(\"abc\")"
   ]
  },
  {
   "cell_type": "code",
   "execution_count": null,
   "metadata": {
    "collapsed": true,
    "deletable": false,
    "editable": false,
    "nbgrader": {
     "checksum": "43430349a5568f0e77d67f9b23e097c5",
     "grade": true,
     "grade_id": "cell-a5c717db57a44f7d",
     "locked": true,
     "points": 2,
     "schema_version": 1,
     "solution": false
    }
   },
   "outputs": [],
   "source": [
    "\"\"\"Check that second returns the correct answer for various inputs\"\"\"\n",
    "assert second(\"abc\") == 'b'\n",
    "assert second(range(4)) == 1\n"
   ]
  },
  {
   "cell_type": "markdown",
   "metadata": {},
   "source": [
    "* **Bonus Question**:  Finally, write a `python` function `print_frequencies(counts, n)` that prints a \n",
    "nice report on the most frequent `n` letters in a dictionary `counts` of letter counts.\n",
    "This function should: \n",
    "    1. Use the dictionary method `items()` and the `list()` function to produce a\n",
    "**list** `items` of all the key-value pairs in the dictionary.\n",
    "    2. Use the `sort()` method to sort the list items\n",
    "with **keyword parameters** `key` set to the above function\n",
    "`second`, and `reverse` set to `True`.\n",
    "    3. Loop over the first `n` items in the list, and for each item,\n",
    "print the letter and the corresponding count.  One can use\n",
    "string formatting on the format string `\"{0:<2}{1:>7}\"` to \n",
    "obtain a nicely aligned listing.\n",
    "\n",
    "(This bonus question is self-rewarding: no points can be earned, or lost.)"
   ]
  },
  {
   "cell_type": "code",
   "execution_count": null,
   "metadata": {
    "deletable": false,
    "nbgrader": {
     "checksum": "1d63a98484a2d855437a3e7aeb86832d",
     "grade": false,
     "grade_id": "cell-ca5ea0aeeada14e6",
     "locked": false,
     "schema_version": 1,
     "solution": true
    }
   },
   "outputs": [],
   "source": [
    "def print_frequencies(counts, n):\n",
    "    \"print a list of frequencies\"\n",
    "    # YOUR CODE HERE\n",
    "    raise NotImplementedError()"
   ]
  },
  {
   "cell_type": "markdown",
   "metadata": {},
   "source": [
    "The report on the letter frequencies in the file `scan.txt` looks like:\n",
    "```\n",
    "e    4443\n",
    "t    3213\n",
    "a    2884\n",
    "```\n",
    "What does your program print as the top ten?"
   ]
  },
  {
   "cell_type": "code",
   "execution_count": null,
   "metadata": {},
   "outputs": [],
   "source": [
    "letters = letter_frequencies_story(\"scan.txt\")\n",
    "print_frequencies(letters, 10)"
   ]
  },
  {
   "cell_type": "code",
   "execution_count": null,
   "metadata": {
    "collapsed": true,
    "deletable": false,
    "editable": false,
    "nbgrader": {
     "checksum": "1cc60470f5e5a9fcc70fffb6e299d196",
     "grade": true,
     "grade_id": "cell-7388e6968cb8d250",
     "locked": true,
     "points": 0,
     "schema_version": 1,
     "solution": false
    }
   },
   "outputs": [],
   "source": [
    "\"\"\"Check that the function has a docstring\"\"\"\n",
    "assert print_frequencies.__doc__ != None"
   ]
  },
  {
   "cell_type": "code",
   "execution_count": null,
   "metadata": {
    "collapsed": true
   },
   "outputs": [],
   "source": []
  }
 ],
 "metadata": {
  "kernelspec": {
   "display_name": "Python 3",
   "language": "python",
   "name": "python3"
  },
  "language_info": {
   "codemirror_mode": {
    "name": "ipython",
    "version": 3
   },
   "file_extension": ".py",
   "mimetype": "text/x-python",
   "name": "python",
   "nbconvert_exporter": "python",
   "pygments_lexer": "ipython3",
   "version": "3.6.1"
  }
 },
 "nbformat": 4,
 "nbformat_minor": 2
}
