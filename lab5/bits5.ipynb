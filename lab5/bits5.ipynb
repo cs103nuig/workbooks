{
 "cells": [
  {
   "cell_type": "markdown",
   "metadata": {},
   "source": [
    "### CS102/CS103\n",
    "\n",
    "Prof. Götz Pfeiffer<br />\n",
    "School of Mathematics, Statistics and Applied Mathematics<br />\n",
    "NUI Galway\n",
    "\n",
    "# Computer Lab 5"
   ]
  },
  {
   "cell_type": "markdown",
   "metadata": {
    "collapsed": true,
    "deletable": false,
    "editable": false,
    "nbgrader": {
     "checksum": "e7ca1e7735e1bd96299046fea8404488",
     "grade": false,
     "grade_id": "cell-9b0d7e26dcdae53f",
     "locked": true,
     "schema_version": 1,
     "solution": false
    }
   },
   "source": [
    "## True or False\n",
    "\n",
    "Each of the following statements is either true or false.\n",
    "Delete the current content of the cell below the statement.\n",
    "Then type in your answer as either `True` or `False`\n",
    "(with a capital `T` or `F`)."
   ]
  },
  {
   "cell_type": "markdown",
   "metadata": {
    "deletable": false,
    "editable": false,
    "nbgrader": {
     "checksum": "6f008a25bac69b47f7113d44ec39a569",
     "grade": false,
     "grade_id": "cell-0e97edfbb901a2f9",
     "locked": true,
     "schema_version": 1,
     "solution": false
    }
   },
   "source": [
    "* Unlike lists, `python` strings are not mutable."
   ]
  },
  {
   "cell_type": "code",
   "execution_count": null,
   "metadata": {
    "deletable": false,
    "nbgrader": {
     "checksum": "7b3ed56c3bbef851d9350e959137c449",
     "grade": false,
     "grade_id": "cell-9746fdbc89a836b8",
     "locked": false,
     "schema_version": 1,
     "solution": true
    }
   },
   "outputs": [],
   "source": [
    "# YOUR CODE HERE\n",
    "raise NotImplementedError()"
   ]
  },
  {
   "cell_type": "markdown",
   "metadata": {},
   "source": [
    "(You can use the cell below to ensure that your answer above has the correct format. You can and should not\n",
    "modify the content of that cell.)"
   ]
  },
  {
   "cell_type": "code",
   "execution_count": null,
   "metadata": {
    "collapsed": true,
    "deletable": false,
    "editable": false,
    "nbgrader": {
     "checksum": "dbf33ac1ac1ffab23f06d944ec806a75",
     "grade": true,
     "grade_id": "cell-15ef3b81b46b456f",
     "locked": true,
     "points": 1,
     "schema_version": 1,
     "solution": false
    }
   },
   "outputs": [],
   "source": [
    "_answer = _\n",
    "assert(type(_answer) == bool)"
   ]
  },
  {
   "cell_type": "markdown",
   "metadata": {
    "deletable": false,
    "editable": false,
    "nbgrader": {
     "checksum": "74c8b3bff44b1763fae3f61007b2bb91",
     "grade": false,
     "grade_id": "cell-61c3d48bc553f182",
     "locked": true,
     "schema_version": 1,
     "solution": false
    }
   },
   "source": [
    "* Items can be removed from a list with the `del` operator."
   ]
  },
  {
   "cell_type": "code",
   "execution_count": null,
   "metadata": {
    "deletable": false,
    "nbgrader": {
     "checksum": "20d95364dd729c3975ed8394113ce761",
     "grade": false,
     "grade_id": "cell-c8459a3847e6ebab",
     "locked": false,
     "schema_version": 1,
     "solution": true
    }
   },
   "outputs": [],
   "source": [
    "# YOUR CODE HERE\n",
    "raise NotImplementedError()"
   ]
  },
  {
   "cell_type": "markdown",
   "metadata": {},
   "source": [
    "(You can use the cell below to ensure that your answer above has the correct format. You can and should not\n",
    "modify the content of that cell.)"
   ]
  },
  {
   "cell_type": "code",
   "execution_count": null,
   "metadata": {
    "collapsed": true,
    "deletable": false,
    "editable": false,
    "nbgrader": {
     "checksum": "3fdf0d08b96e32719349ee56612e4258",
     "grade": true,
     "grade_id": "cell-f55143eaf69ab430",
     "locked": true,
     "points": 1,
     "schema_version": 1,
     "solution": false
    }
   },
   "outputs": [],
   "source": [
    "_answer = _\n",
    "assert(type(_answer) == bool)"
   ]
  },
  {
   "cell_type": "markdown",
   "metadata": {
    "deletable": false,
    "editable": false,
    "nbgrader": {
     "checksum": "606ba4b945b0b099d0824b90d1de8f97",
     "grade": false,
     "grade_id": "cell-9610cb1e373f4f52",
     "locked": true,
     "schema_version": 1,
     "solution": false
    }
   },
   "source": [
    "* A `python` typle is similar to a list, except that tuples are immutable."
   ]
  },
  {
   "cell_type": "code",
   "execution_count": null,
   "metadata": {
    "deletable": false,
    "nbgrader": {
     "checksum": "62eedc99c5e79ca5451a8cae86f97fe0",
     "grade": false,
     "grade_id": "cell-6c4d0128df36e413",
     "locked": false,
     "schema_version": 1,
     "solution": true
    }
   },
   "outputs": [],
   "source": [
    "# YOUR CODE HERE\n",
    "raise NotImplementedError()"
   ]
  },
  {
   "cell_type": "markdown",
   "metadata": {},
   "source": [
    "(You can use the cell below to ensure that your answer above has the correct format. You can and should not\n",
    "modify the content of that cell.)"
   ]
  },
  {
   "cell_type": "code",
   "execution_count": null,
   "metadata": {
    "collapsed": true,
    "deletable": false,
    "editable": false,
    "nbgrader": {
     "checksum": "a2b328a22cafc24b5c0719ad0778ef01",
     "grade": true,
     "grade_id": "cell-3ca5a006da1f4154",
     "locked": true,
     "points": 1,
     "schema_version": 1,
     "solution": false
    }
   },
   "outputs": [],
   "source": [
    "_answer = _\n",
    "assert(type(_answer) == bool)"
   ]
  },
  {
   "cell_type": "markdown",
   "metadata": {
    "deletable": false,
    "editable": false,
    "nbgrader": {
     "checksum": "2eaee7389b4c00f151da793c08202b91",
     "grade": false,
     "grade_id": "cell-7a0012017dda30dc",
     "locked": true,
     "schema_version": 1,
     "solution": false
    }
   },
   "source": [
    "* A `python` dictionary is a kind of unordered collection."
   ]
  },
  {
   "cell_type": "code",
   "execution_count": null,
   "metadata": {
    "deletable": false,
    "nbgrader": {
     "checksum": "e88c17d2bc5e436d83fd9a048e69f128",
     "grade": false,
     "grade_id": "cell-e14ca73f593ec176",
     "locked": false,
     "schema_version": 1,
     "solution": true
    }
   },
   "outputs": [],
   "source": [
    "# YOUR CODE HERE\n",
    "raise NotImplementedError()"
   ]
  },
  {
   "cell_type": "markdown",
   "metadata": {},
   "source": [
    "(You can use the cell below to ensure that your answer above has the correct format. You can and should not\n",
    "modify the content of that cell.)"
   ]
  },
  {
   "cell_type": "code",
   "execution_count": null,
   "metadata": {
    "collapsed": true,
    "deletable": false,
    "editable": false,
    "nbgrader": {
     "checksum": "d0764a640fdedd8a6dc89e7b0130b27e",
     "grade": true,
     "grade_id": "cell-8c5581749a7a58c5",
     "locked": true,
     "points": 1,
     "schema_version": 1,
     "solution": false
    }
   },
   "outputs": [],
   "source": [
    "_answer = _\n",
    "assert(type(_answer) == bool)"
   ]
  },
  {
   "cell_type": "markdown",
   "metadata": {
    "deletable": false,
    "editable": false,
    "nbgrader": {
     "checksum": "fd59e2b6caa328be0253edaf01da9c62",
     "grade": false,
     "grade_id": "cell-47faada33e8989e3",
     "locked": true,
     "schema_version": 1,
     "solution": false
    }
   },
   "source": [
    "* The boolean operator `or` returns `True` only when both its operands are true."
   ]
  },
  {
   "cell_type": "code",
   "execution_count": null,
   "metadata": {
    "deletable": false,
    "nbgrader": {
     "checksum": "a82ed3ef0be5e03db4e5eefec9dba072",
     "grade": false,
     "grade_id": "cell-6e7c9033052e1315",
     "locked": false,
     "schema_version": 1,
     "solution": true
    }
   },
   "outputs": [],
   "source": [
    "# YOUR CODE HERE\n",
    "raise NotImplementedError()"
   ]
  },
  {
   "cell_type": "markdown",
   "metadata": {},
   "source": [
    "(You can use the cell below to ensure that your answer above has the correct format. You can and should not\n",
    "modify the content of that cell.)"
   ]
  },
  {
   "cell_type": "code",
   "execution_count": null,
   "metadata": {
    "collapsed": true,
    "deletable": false,
    "editable": false,
    "nbgrader": {
     "checksum": "53a223ec475cfa351baa39f3ee84b58a",
     "grade": true,
     "grade_id": "cell-a292b97a8fceaae9",
     "locked": true,
     "points": 1,
     "schema_version": 1,
     "solution": false
    }
   },
   "outputs": [],
   "source": [
    "_answer = _\n",
    "assert(type(_answer) == bool)"
   ]
  },
  {
   "cell_type": "markdown",
   "metadata": {
    "deletable": false,
    "editable": false,
    "nbgrader": {
     "checksum": "a5402ea715d68b042e76f58a6d8e841d",
     "grade": false,
     "grade_id": "cell-910a03eebba4a6f1",
     "locked": true,
     "schema_version": 1,
     "solution": false
    }
   },
   "source": [
    "* `not (P and Q) == (not P) and (not Q)`"
   ]
  },
  {
   "cell_type": "code",
   "execution_count": null,
   "metadata": {
    "deletable": false,
    "nbgrader": {
     "checksum": "6e6e97a4e2534152f1123c204e670e66",
     "grade": false,
     "grade_id": "cell-6dad1de60341accf",
     "locked": false,
     "schema_version": 1,
     "solution": true
    }
   },
   "outputs": [],
   "source": [
    "# YOUR CODE HERE\n",
    "raise NotImplementedError()"
   ]
  },
  {
   "cell_type": "markdown",
   "metadata": {},
   "source": [
    "(You can use the cell below to ensure that your answer above has the correct format. You can and should not\n",
    "modify the content of that cell.)"
   ]
  },
  {
   "cell_type": "code",
   "execution_count": null,
   "metadata": {
    "collapsed": true,
    "deletable": false,
    "editable": false,
    "nbgrader": {
     "checksum": "9122ea5c38b3699d974a758e4c65376a",
     "grade": true,
     "grade_id": "cell-7c27199da7a91754",
     "locked": true,
     "points": 1,
     "schema_version": 1,
     "solution": false
    }
   },
   "outputs": [],
   "source": [
    "_answer = _\n",
    "assert(type(_answer) == bool)"
   ]
  },
  {
   "cell_type": "markdown",
   "metadata": {
    "deletable": false,
    "editable": false,
    "nbgrader": {
     "checksum": "8ba719c61b4db809d7edcfd9fce95868",
     "grade": false,
     "grade_id": "cell-5c182ae2663f020a",
     "locked": true,
     "schema_version": 1,
     "solution": false
    }
   },
   "source": [
    "* `True or False`"
   ]
  },
  {
   "cell_type": "code",
   "execution_count": null,
   "metadata": {
    "deletable": false,
    "nbgrader": {
     "checksum": "b07f3655cf9749a2bfa67d8cb0e85720",
     "grade": false,
     "grade_id": "cell-6422d11eea1a79e1",
     "locked": false,
     "schema_version": 1,
     "solution": true
    }
   },
   "outputs": [],
   "source": [
    "# YOUR CODE HERE\n",
    "raise NotImplementedError()"
   ]
  },
  {
   "cell_type": "markdown",
   "metadata": {},
   "source": [
    "(You can use the cell below to ensure that your answer above has the correct format. You can and should not\n",
    "modify the content of that cell.)"
   ]
  },
  {
   "cell_type": "code",
   "execution_count": null,
   "metadata": {
    "collapsed": true,
    "deletable": false,
    "editable": false,
    "nbgrader": {
     "checksum": "ab2d2a93b3fb9c52480591b5583a749f",
     "grade": true,
     "grade_id": "cell-f610046d7ab7e60a",
     "locked": true,
     "points": 1,
     "schema_version": 1,
     "solution": false
    }
   },
   "outputs": [],
   "source": [
    "_answer = _\n",
    "assert(type(_answer) == bool)"
   ]
  },
  {
   "cell_type": "code",
   "execution_count": null,
   "metadata": {
    "collapsed": true
   },
   "outputs": [],
   "source": []
  }
 ],
 "metadata": {
  "kernelspec": {
   "display_name": "Python 3",
   "language": "python",
   "name": "python3"
  },
  "language_info": {
   "codemirror_mode": {
    "name": "ipython",
    "version": 3
   },
   "file_extension": ".py",
   "mimetype": "text/x-python",
   "name": "python",
   "nbconvert_exporter": "python",
   "pygments_lexer": "ipython3",
   "version": "3.6.1"
  }
 },
 "nbformat": 4,
 "nbformat_minor": 2
}
